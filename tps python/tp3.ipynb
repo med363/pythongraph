{
 "cells": [
  {
   "cell_type": "markdown",
   "id": "47e9962c",
   "metadata": {},
   "source": [
    "1.4 Exercice avec solution\n",
    "\n",
    "\n",
    "Créer une fonction initialisation permettant de retourner M une matrice aléatoire de dimension\n",
    "(m,n+1) avec une colonne biais remplie de 1 tout à droite\n"
   ]
  },
  {
   "cell_type": "code",
   "execution_count": 7,
   "id": "9c210d79",
   "metadata": {},
   "outputs": [
    {
     "name": "stdout",
     "output_type": "stream",
     "text": [
      "nbre de ligne2\n",
      "nbre de colonne3\n"
     ]
    },
    {
     "data": {
      "text/plain": [
       "array([[ 1.84556463,  0.80362933,  0.80414204, -0.92536389],\n",
       "       [ 0.12692906,  1.65587926,  2.36604976,  1.78996321]])"
      ]
     },
     "execution_count": 7,
     "metadata": {},
     "output_type": "execute_result"
    }
   ],
   "source": [
    "import numpy as np\n",
    "\n",
    "def mat(m,n):\n",
    "    m=int(input('nbre de ligne'))\n",
    "    n=int(input('nbre de colonne'))\n",
    "    return  np.random.randn(m,n+1)\n",
    "\n",
    "mat(3,2)"
   ]
  },
  {
   "cell_type": "markdown",
   "id": "08788a5b",
   "metadata": {},
   "source": [
    "2.4 Exercice et Solution\n",
    "\n",
    "\n",
    "Standardisez la matrice suivante, c’est a dire effectuez le calcul suivant : A =\n",
    "A−mean(Acolonne)\n",
    "std(Acolonne)\n"
   ]
  },
  {
   "cell_type": "code",
   "execution_count": 8,
   "id": "14bd099c",
   "metadata": {},
   "outputs": [
    {
     "data": {
      "text/plain": [
       "array([[44, 47, 64, 67, 67],\n",
       "       [ 9, 83, 21, 36, 87],\n",
       "       [70, 88, 88, 12, 58],\n",
       "       [65, 39, 87, 46, 88],\n",
       "       [81, 37, 25, 77, 72],\n",
       "       [ 9, 20, 80, 69, 79],\n",
       "       [47, 64, 82, 99, 88],\n",
       "       [49, 29, 19, 19, 14],\n",
       "       [39, 32, 65,  9, 57],\n",
       "       [32, 31, 74, 23, 35]])"
      ]
     },
     "execution_count": 8,
     "metadata": {},
     "output_type": "execute_result"
    }
   ],
   "source": [
    "np.random.seed(0)\n",
    "A = np.random.randint(0, 100, [10, 5])\n",
    "A"
   ]
  },
  {
   "cell_type": "code",
   "execution_count": 9,
   "id": "bc604c1c",
   "metadata": {},
   "outputs": [
    {
     "data": {
      "text/plain": [
       "array([[43., 45., 62., 66., 65.],\n",
       "       [ 8., 81., 19., 35., 85.],\n",
       "       [69., 86., 86., 11., 56.],\n",
       "       [64., 37., 85., 45., 86.],\n",
       "       [80., 35., 23., 76., 70.],\n",
       "       [ 8., 18., 78., 68., 77.],\n",
       "       [46., 62., 80., 98., 86.],\n",
       "       [48., 27., 17., 18., 12.],\n",
       "       [38., 30., 63.,  8., 55.],\n",
       "       [31., 29., 72., 22., 33.]])"
      ]
     },
     "execution_count": 9,
     "metadata": {},
     "output_type": "execute_result"
    }
   ],
   "source": [
    "S = A-np.mean(A,axis=0)//np.std(A,axis=0)\n",
    "S"
   ]
  },
  {
   "cell_type": "code",
   "execution_count": 10,
   "id": "495f15e8",
   "metadata": {},
   "outputs": [
    {
     "name": "stdout",
     "output_type": "stream",
     "text": [
      "[43.5 45.  58.5 44.7 62.5]\n"
     ]
    }
   ],
   "source": [
    "print(np.mean(S,axis=0))"
   ]
  },
  {
   "cell_type": "code",
   "execution_count": 11,
   "id": "f092ca10",
   "metadata": {},
   "outputs": [
    {
     "name": "stdout",
     "output_type": "stream",
     "text": [
      "[56.2 45.6 61.6 63.4 56.8 49.8 74.4 24.4 38.8 37.4]\n"
     ]
    }
   ],
   "source": [
    "print(np.mean(S,axis=1))"
   ]
  },
  {
   "cell_type": "code",
   "execution_count": 12,
   "id": "8b3e73ca",
   "metadata": {},
   "outputs": [
    {
     "name": "stdout",
     "output_type": "stream",
     "text": [
      "[22.66384786 22.28003591 26.5678377  29.36341261 23.2432786 ]\n"
     ]
    }
   ],
   "source": [
    "print(np.std(S,axis=0))"
   ]
  },
  {
   "cell_type": "code",
   "execution_count": 13,
   "id": "6a08afc4",
   "metadata": {},
   "outputs": [
    {
     "name": "stdout",
     "output_type": "stream",
     "text": [
      "[10.06777036 31.74649587 27.70270745 20.06589146 23.23273553 30.41315505\n",
      " 18.34775191 12.75303885 19.36388391 17.69293644]\n"
     ]
    }
   ],
   "source": [
    "print(np.std(S,axis=1))"
   ]
  },
  {
   "cell_type": "markdown",
   "id": "50f3c3b7",
   "metadata": {},
   "source": [
    "3.1 Exercice\n",
    "\n",
    "\n",
    "Est ce qu’on peut faire la somme de A(4,1) + B(1,3). Initialiser la matrice A avec des nombres\n",
    "aléatores et B avec des 1, faite la somme des deux matrices. Interpréter le résultat."
   ]
  },
  {
   "cell_type": "code",
   "execution_count": 5,
   "id": "91d8cc1a",
   "metadata": {},
   "outputs": [
    {
     "data": {
      "text/plain": [
       "array([[-1.51230575],\n",
       "       [ 0.60071763],\n",
       "       [-0.26055975],\n",
       "       [-0.57510398]])"
      ]
     },
     "execution_count": 5,
     "metadata": {},
     "output_type": "execute_result"
    }
   ],
   "source": [
    "A = np.random.randn(4,1)\n",
    "A"
   ]
  },
  {
   "cell_type": "code",
   "execution_count": 6,
   "id": "c9376391",
   "metadata": {},
   "outputs": [
    {
     "data": {
      "text/plain": [
       "array([[1., 1., 1.]])"
      ]
     },
     "execution_count": 6,
     "metadata": {},
     "output_type": "execute_result"
    }
   ],
   "source": [
    "B = np.ones((1,3))\n",
    "B"
   ]
  },
  {
   "cell_type": "code",
   "execution_count": 16,
   "id": "e315bb24",
   "metadata": {},
   "outputs": [
    {
     "data": {
      "text/plain": [
       "array([[-0.88180055],\n",
       "       [-0.44265324],\n",
       "       [-0.5409163 ],\n",
       "       [-1.32322737]])"
      ]
     },
     "execution_count": 16,
     "metadata": {},
     "output_type": "execute_result"
    }
   ],
   "source": [
    "A=np.random.randn(4,1)\n",
    "A"
   ]
  },
  {
   "cell_type": "code",
   "execution_count": 18,
   "id": "e39792f0",
   "metadata": {},
   "outputs": [
    {
     "data": {
      "text/plain": [
       "array([[ 0.11819945,  0.11819945,  0.11819945],\n",
       "       [ 0.55734676,  0.55734676,  0.55734676],\n",
       "       [ 0.4590837 ,  0.4590837 ,  0.4590837 ],\n",
       "       [-0.32322737, -0.32322737, -0.32322737]])"
      ]
     },
     "execution_count": 18,
     "metadata": {},
     "output_type": "execute_result"
    }
   ],
   "source": [
    "Som=B+A\n",
    "Som"
   ]
  },
  {
   "cell_type": "code",
   "execution_count": null,
   "id": "b11b57e8",
   "metadata": {},
   "outputs": [],
   "source": []
  }
 ],
 "metadata": {
  "kernelspec": {
   "display_name": "Python 3",
   "language": "python",
   "name": "python3"
  },
  "language_info": {
   "codemirror_mode": {
    "name": "ipython",
    "version": 3
   },
   "file_extension": ".py",
   "mimetype": "text/x-python",
   "name": "python",
   "nbconvert_exporter": "python",
   "pygments_lexer": "ipython3",
   "version": "3.8.8"
  }
 },
 "nbformat": 4,
 "nbformat_minor": 5
}
