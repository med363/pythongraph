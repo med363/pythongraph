{
 "cells": [
  {
   "cell_type": "code",
   "execution_count": 1,
   "id": "308d7c9e",
   "metadata": {
    "execution": {
     "iopub.execute_input": "2021-05-25T12:30:48.882295Z",
     "iopub.status.busy": "2021-05-25T12:30:48.880468Z",
     "iopub.status.idle": "2021-05-25T12:30:50.293920Z",
     "shell.execute_reply": "2021-05-25T12:30:50.294484Z",
     "shell.execute_reply.started": "2021-05-24T14:36:56.05444Z"
    },
    "id": "B13cvIthuFxs",
    "papermill": {
     "duration": 1.481245,
     "end_time": "2021-05-25T12:30:50.294820",
     "exception": false,
     "start_time": "2021-05-25T12:30:48.813575",
     "status": "completed"
    },
    "tags": []
   },
   "outputs": [],
   "source": [
    "import pandas as pd\n",
    "import numpy as np\n",
    "import math\n",
    "import seaborn as sns\n",
    "import matplotlib.pyplot as plt\n",
    "import warnings \n",
    "warnings.filterwarnings('ignore')"
   ]
  },
  {
   "cell_type": "markdown",
   "id": "71a7622d",
   "metadata": {},
   "source": [
    "1- Importer le fichier de données d'un restaurant indien appelé \"Zomato\"."
   ]
  },
  {
   "cell_type": "code",
   "execution_count": 3,
   "id": "6a8865c8",
   "metadata": {
    "execution": {
     "iopub.execute_input": "2021-05-25T12:30:50.506089Z",
     "iopub.status.busy": "2021-05-25T12:30:50.504918Z",
     "iopub.status.idle": "2021-05-25T12:30:50.568509Z",
     "shell.execute_reply": "2021-05-25T12:30:50.567838Z",
     "shell.execute_reply.started": "2021-05-24T14:36:56.073769Z"
    },
    "id": "-0CnjENHwcOq",
    "papermill": {
     "duration": 0.118501,
     "end_time": "2021-05-25T12:30:50.568650",
     "exception": false,
     "start_time": "2021-05-25T12:30:50.450149",
     "status": "completed"
    },
    "tags": []
   },
   "outputs": [],
   "source": [
    "df = pd.read_csv(\"zomato.csv\", sep =',',  header =0, encoding = \"ISO-8859-1\")"
   ]
  },
  {
   "cell_type": "markdown",
   "id": "3e0d4c73",
   "metadata": {},
   "source": [
    "2- Afficher quelque lignes de données"
   ]
  },
  {
   "cell_type": "code",
   "execution_count": 4,
   "id": "9d8dcee5",
   "metadata": {},
   "outputs": [
    {
     "data": {
      "text/html": [
       "<div>\n",
       "<style scoped>\n",
       "    .dataframe tbody tr th:only-of-type {\n",
       "        vertical-align: middle;\n",
       "    }\n",
       "\n",
       "    .dataframe tbody tr th {\n",
       "        vertical-align: top;\n",
       "    }\n",
       "\n",
       "    .dataframe thead th {\n",
       "        text-align: right;\n",
       "    }\n",
       "</style>\n",
       "<table border=\"1\" class=\"dataframe\">\n",
       "  <thead>\n",
       "    <tr style=\"text-align: right;\">\n",
       "      <th></th>\n",
       "      <th>Identifiant restaurant</th>\n",
       "      <th>Nom restaurant</th>\n",
       "      <th>Code pays</th>\n",
       "      <th>Ville</th>\n",
       "      <th>Adresse</th>\n",
       "      <th>Localite</th>\n",
       "      <th>Localite detaillee</th>\n",
       "      <th>Longitude</th>\n",
       "      <th>Latitude</th>\n",
       "      <th>Cuisines</th>\n",
       "      <th>...</th>\n",
       "      <th>Devise</th>\n",
       "      <th>reservation table</th>\n",
       "      <th>livraison en ligne</th>\n",
       "      <th>Livraison maintenant</th>\n",
       "      <th>commande sur menu</th>\n",
       "      <th>Gamme de prix</th>\n",
       "      <th>Note globale</th>\n",
       "      <th>Couleur de la note</th>\n",
       "      <th>Texte de la note</th>\n",
       "      <th>Votes</th>\n",
       "    </tr>\n",
       "  </thead>\n",
       "  <tbody>\n",
       "    <tr>\n",
       "      <th>0</th>\n",
       "      <td>6317637</td>\n",
       "      <td>Le Petit Souffle</td>\n",
       "      <td>162</td>\n",
       "      <td>Makati City</td>\n",
       "      <td>Third Floor, Century City Mall, Kalayaan Avenu...</td>\n",
       "      <td>Century City Mall, Poblacion, Makati City</td>\n",
       "      <td>Century City Mall, Poblacion, Makati City, Mak...</td>\n",
       "      <td>121.027535</td>\n",
       "      <td>14.565443</td>\n",
       "      <td>French, Japanese, Desserts</td>\n",
       "      <td>...</td>\n",
       "      <td>Botswana Pula(P)</td>\n",
       "      <td>Yes</td>\n",
       "      <td>No</td>\n",
       "      <td>No</td>\n",
       "      <td>No</td>\n",
       "      <td>3</td>\n",
       "      <td>4.8</td>\n",
       "      <td>Dark Green</td>\n",
       "      <td>Excellent</td>\n",
       "      <td>314</td>\n",
       "    </tr>\n",
       "    <tr>\n",
       "      <th>1</th>\n",
       "      <td>6304287</td>\n",
       "      <td>Izakaya Kikufuji</td>\n",
       "      <td>162</td>\n",
       "      <td>Makati City</td>\n",
       "      <td>Little Tokyo, 2277 Chino Roces Avenue, Legaspi...</td>\n",
       "      <td>Little Tokyo, Legaspi Village, Makati City</td>\n",
       "      <td>Little Tokyo, Legaspi Village, Makati City, Ma...</td>\n",
       "      <td>121.014101</td>\n",
       "      <td>14.553708</td>\n",
       "      <td>Japanese</td>\n",
       "      <td>...</td>\n",
       "      <td>Botswana Pula(P)</td>\n",
       "      <td>Yes</td>\n",
       "      <td>No</td>\n",
       "      <td>No</td>\n",
       "      <td>No</td>\n",
       "      <td>3</td>\n",
       "      <td>4.5</td>\n",
       "      <td>Dark Green</td>\n",
       "      <td>Excellent</td>\n",
       "      <td>591</td>\n",
       "    </tr>\n",
       "    <tr>\n",
       "      <th>2</th>\n",
       "      <td>6300002</td>\n",
       "      <td>Heat - Edsa Shangri-La</td>\n",
       "      <td>162</td>\n",
       "      <td>Mandaluyong City</td>\n",
       "      <td>Edsa Shangri-La, 1 Garden Way, Ortigas, Mandal...</td>\n",
       "      <td>Edsa Shangri-La, Ortigas, Mandaluyong City</td>\n",
       "      <td>Edsa Shangri-La, Ortigas, Mandaluyong City, Ma...</td>\n",
       "      <td>121.056831</td>\n",
       "      <td>14.581404</td>\n",
       "      <td>Seafood, Asian, Filipino, Indian</td>\n",
       "      <td>...</td>\n",
       "      <td>Botswana Pula(P)</td>\n",
       "      <td>Yes</td>\n",
       "      <td>No</td>\n",
       "      <td>No</td>\n",
       "      <td>No</td>\n",
       "      <td>4</td>\n",
       "      <td>4.4</td>\n",
       "      <td>Green</td>\n",
       "      <td>Very Good</td>\n",
       "      <td>270</td>\n",
       "    </tr>\n",
       "    <tr>\n",
       "      <th>3</th>\n",
       "      <td>6318506</td>\n",
       "      <td>Ooma</td>\n",
       "      <td>162</td>\n",
       "      <td>Mandaluyong City</td>\n",
       "      <td>Third Floor, Mega Fashion Hall, SM Megamall, O...</td>\n",
       "      <td>SM Megamall, Ortigas, Mandaluyong City</td>\n",
       "      <td>SM Megamall, Ortigas, Mandaluyong City, Mandal...</td>\n",
       "      <td>121.056475</td>\n",
       "      <td>14.585318</td>\n",
       "      <td>Japanese, Sushi</td>\n",
       "      <td>...</td>\n",
       "      <td>Botswana Pula(P)</td>\n",
       "      <td>No</td>\n",
       "      <td>No</td>\n",
       "      <td>No</td>\n",
       "      <td>No</td>\n",
       "      <td>4</td>\n",
       "      <td>4.9</td>\n",
       "      <td>Dark Green</td>\n",
       "      <td>Excellent</td>\n",
       "      <td>365</td>\n",
       "    </tr>\n",
       "    <tr>\n",
       "      <th>4</th>\n",
       "      <td>6314302</td>\n",
       "      <td>Sambo Kojin</td>\n",
       "      <td>162</td>\n",
       "      <td>Mandaluyong City</td>\n",
       "      <td>Third Floor, Mega Atrium, SM Megamall, Ortigas...</td>\n",
       "      <td>SM Megamall, Ortigas, Mandaluyong City</td>\n",
       "      <td>SM Megamall, Ortigas, Mandaluyong City, Mandal...</td>\n",
       "      <td>121.057508</td>\n",
       "      <td>14.584450</td>\n",
       "      <td>Japanese, Korean</td>\n",
       "      <td>...</td>\n",
       "      <td>Botswana Pula(P)</td>\n",
       "      <td>Yes</td>\n",
       "      <td>No</td>\n",
       "      <td>No</td>\n",
       "      <td>No</td>\n",
       "      <td>4</td>\n",
       "      <td>4.8</td>\n",
       "      <td>Dark Green</td>\n",
       "      <td>Excellent</td>\n",
       "      <td>229</td>\n",
       "    </tr>\n",
       "  </tbody>\n",
       "</table>\n",
       "<p>5 rows × 21 columns</p>\n",
       "</div>"
      ],
      "text/plain": [
       "   Identifiant restaurant          Nom restaurant  Code pays  \\\n",
       "0                 6317637        Le Petit Souffle        162   \n",
       "1                 6304287        Izakaya Kikufuji        162   \n",
       "2                 6300002  Heat - Edsa Shangri-La        162   \n",
       "3                 6318506                    Ooma        162   \n",
       "4                 6314302             Sambo Kojin        162   \n",
       "\n",
       "              Ville                                            Adresse  \\\n",
       "0       Makati City  Third Floor, Century City Mall, Kalayaan Avenu...   \n",
       "1       Makati City  Little Tokyo, 2277 Chino Roces Avenue, Legaspi...   \n",
       "2  Mandaluyong City  Edsa Shangri-La, 1 Garden Way, Ortigas, Mandal...   \n",
       "3  Mandaluyong City  Third Floor, Mega Fashion Hall, SM Megamall, O...   \n",
       "4  Mandaluyong City  Third Floor, Mega Atrium, SM Megamall, Ortigas...   \n",
       "\n",
       "                                     Localite  \\\n",
       "0   Century City Mall, Poblacion, Makati City   \n",
       "1  Little Tokyo, Legaspi Village, Makati City   \n",
       "2  Edsa Shangri-La, Ortigas, Mandaluyong City   \n",
       "3      SM Megamall, Ortigas, Mandaluyong City   \n",
       "4      SM Megamall, Ortigas, Mandaluyong City   \n",
       "\n",
       "                                  Localite detaillee   Longitude   Latitude  \\\n",
       "0  Century City Mall, Poblacion, Makati City, Mak...  121.027535  14.565443   \n",
       "1  Little Tokyo, Legaspi Village, Makati City, Ma...  121.014101  14.553708   \n",
       "2  Edsa Shangri-La, Ortigas, Mandaluyong City, Ma...  121.056831  14.581404   \n",
       "3  SM Megamall, Ortigas, Mandaluyong City, Mandal...  121.056475  14.585318   \n",
       "4  SM Megamall, Ortigas, Mandaluyong City, Mandal...  121.057508  14.584450   \n",
       "\n",
       "                           Cuisines  ...            Devise reservation table  \\\n",
       "0        French, Japanese, Desserts  ...  Botswana Pula(P)               Yes   \n",
       "1                          Japanese  ...  Botswana Pula(P)               Yes   \n",
       "2  Seafood, Asian, Filipino, Indian  ...  Botswana Pula(P)               Yes   \n",
       "3                   Japanese, Sushi  ...  Botswana Pula(P)                No   \n",
       "4                  Japanese, Korean  ...  Botswana Pula(P)               Yes   \n",
       "\n",
       "  livraison en ligne Livraison maintenant commande sur menu Gamme de prix  \\\n",
       "0                 No                   No                No             3   \n",
       "1                 No                   No                No             3   \n",
       "2                 No                   No                No             4   \n",
       "3                 No                   No                No             4   \n",
       "4                 No                   No                No             4   \n",
       "\n",
       "   Note globale  Couleur de la note Texte de la note Votes  \n",
       "0           4.8          Dark Green        Excellent   314  \n",
       "1           4.5          Dark Green        Excellent   591  \n",
       "2           4.4               Green        Very Good   270  \n",
       "3           4.9          Dark Green        Excellent   365  \n",
       "4           4.8          Dark Green        Excellent   229  \n",
       "\n",
       "[5 rows x 21 columns]"
      ]
     },
     "execution_count": 4,
     "metadata": {},
     "output_type": "execute_result"
    }
   ],
   "source": [
    "df.head()"
   ]
  },
  {
   "cell_type": "markdown",
   "id": "6ced5b71",
   "metadata": {},
   "source": [
    "3- Présenter une description des données : 'Longitude','Latitude','Cout pour deux'.\n",
    "\n",
    "Interpréter la colonne \"Cout pour deux\"."
   ]
  },
  {
   "cell_type": "code",
   "execution_count": 5,
   "id": "7f36b392",
   "metadata": {},
   "outputs": [
    {
     "data": {
      "text/plain": [
       "count    9551.000000\n",
       "mean       64.126574\n",
       "std        41.467058\n",
       "min      -157.948486\n",
       "25%        77.081343\n",
       "50%        77.191964\n",
       "75%        77.282006\n",
       "max       174.832089\n",
       "Name: Longitude, dtype: float64"
      ]
     },
     "execution_count": 5,
     "metadata": {},
     "output_type": "execute_result"
    }
   ],
   "source": [
    "df['Longitude'].describe()"
   ]
  },
  {
   "cell_type": "code",
   "execution_count": 6,
   "id": "1c0df4ac",
   "metadata": {},
   "outputs": [
    {
     "data": {
      "text/plain": [
       "count    9551.000000\n",
       "mean       25.854381\n",
       "std        11.007935\n",
       "min       -41.330428\n",
       "25%        28.478713\n",
       "50%        28.570469\n",
       "75%        28.642758\n",
       "max        55.976980\n",
       "Name: Latitude, dtype: float64"
      ]
     },
     "execution_count": 6,
     "metadata": {},
     "output_type": "execute_result"
    }
   ],
   "source": [
    "df['Latitude'].describe()"
   ]
  },
  {
   "cell_type": "code",
   "execution_count": 7,
   "id": "5ef2a3b4",
   "metadata": {},
   "outputs": [
    {
     "data": {
      "text/plain": [
       "count      9551.000000\n",
       "mean       1199.210763\n",
       "std       16121.183073\n",
       "min           0.000000\n",
       "25%         250.000000\n",
       "50%         400.000000\n",
       "75%         700.000000\n",
       "max      800000.000000\n",
       "Name: Cout pour deux, dtype: float64"
      ]
     },
     "execution_count": 7,
     "metadata": {},
     "output_type": "execute_result"
    }
   ],
   "source": [
    "df['Cout pour deux'].describe()"
   ]
  },
  {
   "cell_type": "markdown",
   "id": "0dfed3eb",
   "metadata": {},
   "source": [
    "4- Afficher la dimension du dataframe"
   ]
  },
  {
   "cell_type": "code",
   "execution_count": 8,
   "id": "48bdaae1",
   "metadata": {},
   "outputs": [
    {
     "data": {
      "text/plain": [
       "(9551, 21)"
      ]
     },
     "execution_count": 8,
     "metadata": {},
     "output_type": "execute_result"
    }
   ],
   "source": [
    "df.shape"
   ]
  },
  {
   "cell_type": "markdown",
   "id": "74a1c7fe",
   "metadata": {},
   "source": [
    "5- Supprimer la colonne 'Identifiant restaurant'"
   ]
  },
  {
   "cell_type": "code",
   "execution_count": 12,
   "id": "a8a7532b",
   "metadata": {},
   "outputs": [],
   "source": [
    "df.drop(['Identifiant restaurant'], axis=1, inplace=True)"
   ]
  },
  {
   "cell_type": "markdown",
   "id": "8bc84bd0",
   "metadata": {},
   "source": [
    "6- Trouver les noms de colonnes contenant des valeurs manquantes"
   ]
  },
  {
   "cell_type": "code",
   "execution_count": 13,
   "id": "56f9d8e4",
   "metadata": {},
   "outputs": [
    {
     "data": {
      "text/plain": [
       "Nom restaurant          0\n",
       "Code pays               0\n",
       "Ville                   0\n",
       "Adresse                 0\n",
       "Localite                0\n",
       "Localite detaillee      0\n",
       "Longitude               0\n",
       "Latitude                0\n",
       "Cuisines                9\n",
       "Cout pour deux          0\n",
       "Devise                  0\n",
       "reservation table       0\n",
       "livraison en ligne      0\n",
       "Livraison maintenant    0\n",
       "commande sur menu       0\n",
       "Gamme de prix           0\n",
       "Note globale            0\n",
       "Couleur de la note      0\n",
       "Texte de la note        0\n",
       "Votes                   0\n",
       "dtype: int64"
      ]
     },
     "execution_count": 13,
     "metadata": {},
     "output_type": "execute_result"
    }
   ],
   "source": [
    "df.isnull().sum()"
   ]
  },
  {
   "cell_type": "markdown",
   "id": "2463db31",
   "metadata": {},
   "source": [
    "7- Chercher le nombre de valeurs NaN dans chaque colonne "
   ]
  },
  {
   "cell_type": "code",
   "execution_count": 16,
   "id": "f12dcf6b",
   "metadata": {},
   "outputs": [
    {
     "data": {
      "text/plain": [
       "(9551, 20)"
      ]
     },
     "execution_count": 16,
     "metadata": {},
     "output_type": "execute_result"
    }
   ],
   "source": [
    "df.isna().shape"
   ]
  },
  {
   "cell_type": "markdown",
   "id": "53cac675",
   "metadata": {},
   "source": [
    "8- Discuter la solution adéquate pour les NaN.\n",
    "Proposer le code correspondant."
   ]
  },
  {
   "cell_type": "code",
   "execution_count": null,
   "id": "77a6f64b",
   "metadata": {},
   "outputs": [],
   "source": []
  },
  {
   "cell_type": "markdown",
   "id": "cd526e1a",
   "metadata": {},
   "source": [
    "9- Est ce que la dataset est équilibrée selon la colonne 'Texte de la note'? Argumenter\n",
    "\n",
    "- Première méthode :"
   ]
  },
  {
   "cell_type": "code",
   "execution_count": 18,
   "id": "5fe1a58f",
   "metadata": {},
   "outputs": [
    {
     "data": {
      "text/plain": [
       "<AxesSubplot:>"
      ]
     },
     "execution_count": 18,
     "metadata": {},
     "output_type": "execute_result"
    },
    {
     "data": {
      "image/png": "[encoded data removed]",
      "text/plain": [
       "<Figure size 720x360 with 2 Axes>"
      ]
     },
     "metadata": {
      "needs_background": "light"
     },
     "output_type": "display_data"
    }
   ],
   "source": [
    "plt.figure(figsize=(10,5))\n",
    "correlation = df.corr( method='pearson' )\n",
    "sns.heatmap( correlation, annot=True )"
   ]
  },
  {
   "cell_type": "markdown",
   "id": "3917bf0a",
   "metadata": {},
   "source": [
    "- Deuxième méthode :"
   ]
  },
  {
   "cell_type": "code",
   "execution_count": 20,
   "id": "06b2be6d",
   "metadata": {},
   "outputs": [
    {
     "data": {
      "image/png": "[encoded data removed]",
      "text/plain": [
       "<Figure size 360x360 with 1 Axes>"
      ]
     },
     "metadata": {
      "needs_background": "light"
     },
     "output_type": "display_data"
    }
   ],
   "source": [
    "plt.figure(figsize=(5,5))\n",
    "sns.countplot( x='Texte de la note', palette='Set2', data=df);"
   ]
  },
  {
   "cell_type": "markdown",
   "id": "b6ffe845",
   "metadata": {},
   "source": [
    "10- Présenter le rapport entre les features 'Texte de la notation' et 'Gamme de prix' via le crosstab."
   ]
  },
  {
   "cell_type": "code",
   "execution_count": 21,
   "id": "f1e19dd1",
   "metadata": {},
   "outputs": [
    {
     "data": {
      "text/html": [
       "<div>\n",
       "<style scoped>\n",
       "    .dataframe tbody tr th:only-of-type {\n",
       "        vertical-align: middle;\n",
       "    }\n",
       "\n",
       "    .dataframe tbody tr th {\n",
       "        vertical-align: top;\n",
       "    }\n",
       "\n",
       "    .dataframe thead th {\n",
       "        text-align: right;\n",
       "    }\n",
       "</style>\n",
       "<table border=\"1\" class=\"dataframe\">\n",
       "  <thead>\n",
       "    <tr style=\"text-align: right;\">\n",
       "      <th>Gamme de prix</th>\n",
       "      <th>1</th>\n",
       "      <th>2</th>\n",
       "      <th>3</th>\n",
       "      <th>4</th>\n",
       "    </tr>\n",
       "    <tr>\n",
       "      <th>Texte de la note</th>\n",
       "      <th></th>\n",
       "      <th></th>\n",
       "      <th></th>\n",
       "      <th></th>\n",
       "    </tr>\n",
       "  </thead>\n",
       "  <tbody>\n",
       "    <tr>\n",
       "      <th>Average</th>\n",
       "      <td>1898</td>\n",
       "      <td>1425</td>\n",
       "      <td>313</td>\n",
       "      <td>101</td>\n",
       "    </tr>\n",
       "    <tr>\n",
       "      <th>Excellent</th>\n",
       "      <td>32</td>\n",
       "      <td>69</td>\n",
       "      <td>126</td>\n",
       "      <td>74</td>\n",
       "    </tr>\n",
       "    <tr>\n",
       "      <th>Good</th>\n",
       "      <td>608</td>\n",
       "      <td>794</td>\n",
       "      <td>498</td>\n",
       "      <td>200</td>\n",
       "    </tr>\n",
       "    <tr>\n",
       "      <th>Not rated</th>\n",
       "      <td>1700</td>\n",
       "      <td>402</td>\n",
       "      <td>35</td>\n",
       "      <td>11</td>\n",
       "    </tr>\n",
       "    <tr>\n",
       "      <th>Poor</th>\n",
       "      <td>62</td>\n",
       "      <td>98</td>\n",
       "      <td>20</td>\n",
       "      <td>6</td>\n",
       "    </tr>\n",
       "    <tr>\n",
       "      <th>Very Good</th>\n",
       "      <td>144</td>\n",
       "      <td>325</td>\n",
       "      <td>416</td>\n",
       "      <td>194</td>\n",
       "    </tr>\n",
       "  </tbody>\n",
       "</table>\n",
       "</div>"
      ],
      "text/plain": [
       "Gamme de prix        1     2    3    4\n",
       "Texte de la note                      \n",
       "Average           1898  1425  313  101\n",
       "Excellent           32    69  126   74\n",
       "Good               608   794  498  200\n",
       "Not rated         1700   402   35   11\n",
       "Poor                62    98   20    6\n",
       "Very Good          144   325  416  194"
      ]
     },
     "execution_count": 21,
     "metadata": {},
     "output_type": "execute_result"
    }
   ],
   "source": [
    "pd.crosstab(df['Texte de la note'],df['Gamme de prix'])"
   ]
  },
  {
   "cell_type": "markdown",
   "id": "f765dae9",
   "metadata": {},
   "source": [
    "12- Afficher la matrice de correlations et en déduire les variables les plus correlées"
   ]
  },
  {
   "cell_type": "code",
   "execution_count": 22,
   "id": "633a4f2f",
   "metadata": {},
   "outputs": [
    {
     "data": {
      "text/plain": [
       "<AxesSubplot:>"
      ]
     },
     "execution_count": 22,
     "metadata": {},
     "output_type": "execute_result"
    },
    {
     "data": {
      "image/png": "[encoded data removed]",
      "text/plain": [
       "<Figure size 720x360 with 2 Axes>"
      ]
     },
     "metadata": {
      "needs_background": "light"
     },
     "output_type": "display_data"
    }
   ],
   "source": [
    "plt.figure(figsize=(10,5))\n",
    "correlation = df.corr( method='pearson' )\n",
    "sns.heatmap( correlation, annot=True )"
   ]
  },
  {
   "cell_type": "markdown",
   "id": "8798024d",
   "metadata": {},
   "source": [
    "les valeurs les plus colerer se trouve au diagonale de la matrice (longitude ,code) pays "
   ]
  },
  {
   "cell_type": "markdown",
   "id": "d176e1a9",
   "metadata": {},
   "source": [
    "13- Afficher le boxplot de la variable 'Gamme de prix'. Interpréter"
   ]
  },
  {
   "cell_type": "code",
   "execution_count": 25,
   "id": "4711daec",
   "metadata": {},
   "outputs": [
    {
     "data": {
      "text/plain": [
       "<AxesSubplot:>"
      ]
     },
     "execution_count": 25,
     "metadata": {},
     "output_type": "execute_result"
    },
    {
     "data": {
      "image/png": "[encoded data removed]",
      "text/plain": [
       "<Figure size 432x288 with 1 Axes>"
      ]
     },
     "metadata": {},
     "output_type": "display_data"
    }
   ],
   "source": [
    "sns.set(style='whitegrid')\n",
    "sns.boxplot(data=df[\"Gamme de prix\"],orient=\"h\")"
   ]
  },
  {
   "cell_type": "markdown",
   "id": "875cad85",
   "metadata": {},
   "source": [
    "Gamme of prix presente valeurs aberantes"
   ]
  },
  {
   "cell_type": "markdown",
   "id": "272e1633",
   "metadata": {},
   "source": [
    "14- Calculer et afficher les valeurs de Sup et Inf de cette variable"
   ]
  },
  {
   "cell_type": "code",
   "execution_count": 27,
   "id": "d21c3b4a",
   "metadata": {},
   "outputs": [
    {
     "name": "stdout",
     "output_type": "stream",
     "text": [
      "-0.5\n",
      "3.5\n"
     ]
    }
   ],
   "source": [
    "Q1=df['Gamme de prix'].quantile(0.25)\n",
    "Q3=df['Gamme de prix'].quantile(0.75)\n",
    "IQR=Q3-Q1\n",
    "inf=Q1-1.5*IQR\n",
    "print(inf)\n",
    "sup=Q3+1.5*IQR\n",
    "print(sup)"
   ]
  },
  {
   "cell_type": "markdown",
   "id": "0eea43bb",
   "metadata": {},
   "source": [
    "15- Supprimer les outliers de la colonne 'Gamme de prix'."
   ]
  },
  {
   "cell_type": "code",
   "execution_count": 28,
   "id": "26e7c51c",
   "metadata": {},
   "outputs": [],
   "source": [
    "def drop_outliers(data,field_name):\n",
    "    Q1=data[field_name].quantile(0.25)\n",
    "    Q3=data[field_name].quantile(0.75)\n",
    "    IQR=Q3-Q1\n",
    "    Inf = data[field_name].quantile(0.25)-1.5*IQR\n",
    "    Sup = data[field_name].quantile(0.75)+1.5*IQR\n",
    "    data.drop(data[data[field_name]>Sup].index,inplace=True)\n",
    "    data.drop(data[data[field_name]<Inf].index,inplace=True)\n",
    "    \n",
    "drop_outliers(df,'Gamme de prix')"
   ]
  },
  {
   "cell_type": "markdown",
   "id": "8a662544",
   "metadata": {},
   "source": [
    "16- Vérifier qu'il ne reste plus d'outliers pour les 'Gamme de prix'"
   ]
  },
  {
   "cell_type": "code",
   "execution_count": 30,
   "id": "2e70f740",
   "metadata": {},
   "outputs": [
    {
     "data": {
      "text/plain": [
       "Nom restaurant          0\n",
       "Code pays               0\n",
       "Ville                   0\n",
       "Adresse                 0\n",
       "Localite                0\n",
       "Localite detaillee      0\n",
       "Longitude               0\n",
       "Latitude                0\n",
       "Cuisines                0\n",
       "Cout pour deux          0\n",
       "Devise                  0\n",
       "reservation table       0\n",
       "livraison en ligne      0\n",
       "Livraison maintenant    0\n",
       "commande sur menu       0\n",
       "Gamme de prix           0\n",
       "Note globale            0\n",
       "Couleur de la note      0\n",
       "Texte de la note        0\n",
       "Votes                   0\n",
       "dtype: int64"
      ]
     },
     "execution_count": 30,
     "metadata": {},
     "output_type": "execute_result"
    }
   ],
   "source": [
    "df[df['Gamme de prix']>sup ].count()"
   ]
  },
  {
   "cell_type": "code",
   "execution_count": 31,
   "id": "af4282ad",
   "metadata": {},
   "outputs": [
    {
     "data": {
      "text/plain": [
       "Nom restaurant          0\n",
       "Code pays               0\n",
       "Ville                   0\n",
       "Adresse                 0\n",
       "Localite                0\n",
       "Localite detaillee      0\n",
       "Longitude               0\n",
       "Latitude                0\n",
       "Cuisines                0\n",
       "Cout pour deux          0\n",
       "Devise                  0\n",
       "reservation table       0\n",
       "livraison en ligne      0\n",
       "Livraison maintenant    0\n",
       "commande sur menu       0\n",
       "Gamme de prix           0\n",
       "Note globale            0\n",
       "Couleur de la note      0\n",
       "Texte de la note        0\n",
       "Votes                   0\n",
       "dtype: int64"
      ]
     },
     "execution_count": 31,
     "metadata": {},
     "output_type": "execute_result"
    }
   ],
   "source": [
    "df[df['Gamme de prix']<inf ].count()"
   ]
  },
  {
   "cell_type": "markdown",
   "id": "0d6317cd",
   "metadata": {},
   "source": [
    "17- Afficher les noms de colonnes catégoriques"
   ]
  },
  {
   "cell_type": "code",
   "execution_count": 36,
   "id": "9cd026e7",
   "metadata": {},
   "outputs": [
    {
     "data": {
      "text/html": [
       "<div>\n",
       "<style scoped>\n",
       "    .dataframe tbody tr th:only-of-type {\n",
       "        vertical-align: middle;\n",
       "    }\n",
       "\n",
       "    .dataframe tbody tr th {\n",
       "        vertical-align: top;\n",
       "    }\n",
       "\n",
       "    .dataframe thead th {\n",
       "        text-align: right;\n",
       "    }\n",
       "</style>\n",
       "<table border=\"1\" class=\"dataframe\">\n",
       "  <thead>\n",
       "    <tr style=\"text-align: right;\">\n",
       "      <th></th>\n",
       "      <th>Nom restaurant</th>\n",
       "      <th>Ville</th>\n",
       "      <th>Adresse</th>\n",
       "      <th>Localite</th>\n",
       "      <th>Localite detaillee</th>\n",
       "      <th>Cuisines</th>\n",
       "      <th>Devise</th>\n",
       "      <th>reservation table</th>\n",
       "      <th>livraison en ligne</th>\n",
       "      <th>Livraison maintenant</th>\n",
       "      <th>commande sur menu</th>\n",
       "      <th>Couleur de la note</th>\n",
       "      <th>Texte de la note</th>\n",
       "    </tr>\n",
       "  </thead>\n",
       "  <tbody>\n",
       "    <tr>\n",
       "      <th>0</th>\n",
       "      <td>Le Petit Souffle</td>\n",
       "      <td>Makati City</td>\n",
       "      <td>Third Floor, Century City Mall, Kalayaan Avenu...</td>\n",
       "      <td>Century City Mall, Poblacion, Makati City</td>\n",
       "      <td>Century City Mall, Poblacion, Makati City, Mak...</td>\n",
       "      <td>French, Japanese, Desserts</td>\n",
       "      <td>Botswana Pula(P)</td>\n",
       "      <td>Yes</td>\n",
       "      <td>No</td>\n",
       "      <td>No</td>\n",
       "      <td>No</td>\n",
       "      <td>Dark Green</td>\n",
       "      <td>Excellent</td>\n",
       "    </tr>\n",
       "    <tr>\n",
       "      <th>1</th>\n",
       "      <td>Izakaya Kikufuji</td>\n",
       "      <td>Makati City</td>\n",
       "      <td>Little Tokyo, 2277 Chino Roces Avenue, Legaspi...</td>\n",
       "      <td>Little Tokyo, Legaspi Village, Makati City</td>\n",
       "      <td>Little Tokyo, Legaspi Village, Makati City, Ma...</td>\n",
       "      <td>Japanese</td>\n",
       "      <td>Botswana Pula(P)</td>\n",
       "      <td>Yes</td>\n",
       "      <td>No</td>\n",
       "      <td>No</td>\n",
       "      <td>No</td>\n",
       "      <td>Dark Green</td>\n",
       "      <td>Excellent</td>\n",
       "    </tr>\n",
       "    <tr>\n",
       "      <th>5</th>\n",
       "      <td>Din Tai Fung</td>\n",
       "      <td>Mandaluyong City</td>\n",
       "      <td>Ground Floor, Mega Fashion Hall, SM Megamall, ...</td>\n",
       "      <td>SM Megamall, Ortigas, Mandaluyong City</td>\n",
       "      <td>SM Megamall, Ortigas, Mandaluyong City, Mandal...</td>\n",
       "      <td>Chinese</td>\n",
       "      <td>Botswana Pula(P)</td>\n",
       "      <td>No</td>\n",
       "      <td>No</td>\n",
       "      <td>No</td>\n",
       "      <td>No</td>\n",
       "      <td>Green</td>\n",
       "      <td>Very Good</td>\n",
       "    </tr>\n",
       "    <tr>\n",
       "      <th>9</th>\n",
       "      <td>Locavore</td>\n",
       "      <td>Pasig City</td>\n",
       "      <td>Brixton Technology Center, 10 Brixton Street, ...</td>\n",
       "      <td>Kapitolyo</td>\n",
       "      <td>Kapitolyo, Pasig City</td>\n",
       "      <td>Filipino</td>\n",
       "      <td>Botswana Pula(P)</td>\n",
       "      <td>Yes</td>\n",
       "      <td>No</td>\n",
       "      <td>No</td>\n",
       "      <td>No</td>\n",
       "      <td>Dark Green</td>\n",
       "      <td>Excellent</td>\n",
       "    </tr>\n",
       "    <tr>\n",
       "      <th>10</th>\n",
       "      <td>Silantro Fil-Mex</td>\n",
       "      <td>Pasig City</td>\n",
       "      <td>75 East Capitol Drive, Kapitolyo, Pasig City</td>\n",
       "      <td>Kapitolyo</td>\n",
       "      <td>Kapitolyo, Pasig City</td>\n",
       "      <td>Filipino, Mexican</td>\n",
       "      <td>Botswana Pula(P)</td>\n",
       "      <td>No</td>\n",
       "      <td>No</td>\n",
       "      <td>No</td>\n",
       "      <td>No</td>\n",
       "      <td>Dark Green</td>\n",
       "      <td>Excellent</td>\n",
       "    </tr>\n",
       "    <tr>\n",
       "      <th>...</th>\n",
       "      <td>...</td>\n",
       "      <td>...</td>\n",
       "      <td>...</td>\n",
       "      <td>...</td>\n",
       "      <td>...</td>\n",
       "      <td>...</td>\n",
       "      <td>...</td>\n",
       "      <td>...</td>\n",
       "      <td>...</td>\n",
       "      <td>...</td>\n",
       "      <td>...</td>\n",
       "      <td>...</td>\n",
       "      <td>...</td>\n",
       "    </tr>\n",
       "    <tr>\n",
       "      <th>9544</th>\n",
       "      <td>Karakí_y Gí_llí_oÛôlu</td>\n",
       "      <td>ÛÁstanbul</td>\n",
       "      <td>Kemankeô Karamustafa Paôa Mahallesi, RÛ±htÛ±...</td>\n",
       "      <td>Karakí_y</td>\n",
       "      <td>Karakí_y, ÛÁstanbul</td>\n",
       "      <td>Desserts, Bí_rek</td>\n",
       "      <td>Turkish Lira(TL)</td>\n",
       "      <td>No</td>\n",
       "      <td>No</td>\n",
       "      <td>No</td>\n",
       "      <td>No</td>\n",
       "      <td>Dark Green</td>\n",
       "      <td>Excellent</td>\n",
       "    </tr>\n",
       "    <tr>\n",
       "      <th>9545</th>\n",
       "      <td>Baltazar</td>\n",
       "      <td>ÛÁstanbul</td>\n",
       "      <td>Kemankeô Karamustafa Paôa Mahallesi, KÛ±lÛ±í...</td>\n",
       "      <td>Karakí_y</td>\n",
       "      <td>Karakí_y, ÛÁstanbul</td>\n",
       "      <td>Burger, Izgara</td>\n",
       "      <td>Turkish Lira(TL)</td>\n",
       "      <td>No</td>\n",
       "      <td>No</td>\n",
       "      <td>No</td>\n",
       "      <td>No</td>\n",
       "      <td>Green</td>\n",
       "      <td>Very Good</td>\n",
       "    </tr>\n",
       "    <tr>\n",
       "      <th>9546</th>\n",
       "      <td>NamlÛ± Gurme</td>\n",
       "      <td>ÛÁstanbul</td>\n",
       "      <td>Kemankeô Karamustafa Paôa Mahallesi, RÛ±htÛ±...</td>\n",
       "      <td>Karakí_y</td>\n",
       "      <td>Karakí_y, ÛÁstanbul</td>\n",
       "      <td>Turkish</td>\n",
       "      <td>Turkish Lira(TL)</td>\n",
       "      <td>No</td>\n",
       "      <td>No</td>\n",
       "      <td>No</td>\n",
       "      <td>No</td>\n",
       "      <td>Green</td>\n",
       "      <td>Very Good</td>\n",
       "    </tr>\n",
       "    <tr>\n",
       "      <th>9547</th>\n",
       "      <td>Ceviz AÛôacÛ±</td>\n",
       "      <td>ÛÁstanbul</td>\n",
       "      <td>Koôuyolu Mahallesi, Muhittin íìstí_ndaÛô Cadd...</td>\n",
       "      <td>Koôuyolu</td>\n",
       "      <td>Koôuyolu, ÛÁstanbul</td>\n",
       "      <td>World Cuisine, Patisserie, Cafe</td>\n",
       "      <td>Turkish Lira(TL)</td>\n",
       "      <td>No</td>\n",
       "      <td>No</td>\n",
       "      <td>No</td>\n",
       "      <td>No</td>\n",
       "      <td>Green</td>\n",
       "      <td>Very Good</td>\n",
       "    </tr>\n",
       "    <tr>\n",
       "      <th>9550</th>\n",
       "      <td>Walter's Coffee Roastery</td>\n",
       "      <td>ÛÁstanbul</td>\n",
       "      <td>CafeaÛôa Mahallesi, BademaltÛ± Sokak, No 21/B,...</td>\n",
       "      <td>Moda</td>\n",
       "      <td>Moda, ÛÁstanbul</td>\n",
       "      <td>Cafe</td>\n",
       "      <td>Turkish Lira(TL)</td>\n",
       "      <td>No</td>\n",
       "      <td>No</td>\n",
       "      <td>No</td>\n",
       "      <td>No</td>\n",
       "      <td>Green</td>\n",
       "      <td>Very Good</td>\n",
       "    </tr>\n",
       "  </tbody>\n",
       "</table>\n",
       "<p>8965 rows × 13 columns</p>\n",
       "</div>"
      ],
      "text/plain": [
       "                Nom restaurant             Ville  \\\n",
       "0             Le Petit Souffle       Makati City   \n",
       "1             Izakaya Kikufuji       Makati City   \n",
       "5                 Din Tai Fung  Mandaluyong City   \n",
       "9                     Locavore        Pasig City   \n",
       "10            Silantro Fil-Mex        Pasig City   \n",
       "...                        ...               ...   \n",
       "9544     Karakí_y Gí_llí_oÛôlu         ÛÁstanbul   \n",
       "9545                  Baltazar         ÛÁstanbul   \n",
       "9546              NamlÛ± Gurme         ÛÁstanbul   \n",
       "9547             Ceviz AÛôacÛ±         ÛÁstanbul   \n",
       "9550  Walter's Coffee Roastery         ÛÁstanbul   \n",
       "\n",
       "                                                Adresse  \\\n",
       "0     Third Floor, Century City Mall, Kalayaan Avenu...   \n",
       "1     Little Tokyo, 2277 Chino Roces Avenue, Legaspi...   \n",
       "5     Ground Floor, Mega Fashion Hall, SM Megamall, ...   \n",
       "9     Brixton Technology Center, 10 Brixton Street, ...   \n",
       "10         75 East Capitol Drive, Kapitolyo, Pasig City   \n",
       "...                                                 ...   \n",
       "9544  Kemankeô Karamustafa Paôa Mahallesi, RÛ±htÛ±...   \n",
       "9545  Kemankeô Karamustafa Paôa Mahallesi, KÛ±lÛ±í...   \n",
       "9546  Kemankeô Karamustafa Paôa Mahallesi, RÛ±htÛ±...   \n",
       "9547  Koôuyolu Mahallesi, Muhittin íìstí_ndaÛô Cadd...   \n",
       "9550  CafeaÛôa Mahallesi, BademaltÛ± Sokak, No 21/B,...   \n",
       "\n",
       "                                        Localite  \\\n",
       "0      Century City Mall, Poblacion, Makati City   \n",
       "1     Little Tokyo, Legaspi Village, Makati City   \n",
       "5         SM Megamall, Ortigas, Mandaluyong City   \n",
       "9                                      Kapitolyo   \n",
       "10                                     Kapitolyo   \n",
       "...                                          ...   \n",
       "9544                                    Karakí_y   \n",
       "9545                                    Karakí_y   \n",
       "9546                                    Karakí_y   \n",
       "9547                                   Koôuyolu   \n",
       "9550                                        Moda   \n",
       "\n",
       "                                     Localite detaillee  \\\n",
       "0     Century City Mall, Poblacion, Makati City, Mak...   \n",
       "1     Little Tokyo, Legaspi Village, Makati City, Ma...   \n",
       "5     SM Megamall, Ortigas, Mandaluyong City, Mandal...   \n",
       "9                                 Kapitolyo, Pasig City   \n",
       "10                                Kapitolyo, Pasig City   \n",
       "...                                                 ...   \n",
       "9544                                Karakí_y, ÛÁstanbul   \n",
       "9545                                Karakí_y, ÛÁstanbul   \n",
       "9546                                Karakí_y, ÛÁstanbul   \n",
       "9547                               Koôuyolu, ÛÁstanbul   \n",
       "9550                                    Moda, ÛÁstanbul   \n",
       "\n",
       "                             Cuisines            Devise reservation table  \\\n",
       "0          French, Japanese, Desserts  Botswana Pula(P)               Yes   \n",
       "1                            Japanese  Botswana Pula(P)               Yes   \n",
       "5                             Chinese  Botswana Pula(P)                No   \n",
       "9                            Filipino  Botswana Pula(P)               Yes   \n",
       "10                  Filipino, Mexican  Botswana Pula(P)                No   \n",
       "...                               ...               ...               ...   \n",
       "9544                 Desserts, Bí_rek  Turkish Lira(TL)                No   \n",
       "9545                   Burger, Izgara  Turkish Lira(TL)                No   \n",
       "9546                          Turkish  Turkish Lira(TL)                No   \n",
       "9547  World Cuisine, Patisserie, Cafe  Turkish Lira(TL)                No   \n",
       "9550                             Cafe  Turkish Lira(TL)                No   \n",
       "\n",
       "     livraison en ligne Livraison maintenant commande sur menu  \\\n",
       "0                    No                   No                No   \n",
       "1                    No                   No                No   \n",
       "5                    No                   No                No   \n",
       "9                    No                   No                No   \n",
       "10                   No                   No                No   \n",
       "...                 ...                  ...               ...   \n",
       "9544                 No                   No                No   \n",
       "9545                 No                   No                No   \n",
       "9546                 No                   No                No   \n",
       "9547                 No                   No                No   \n",
       "9550                 No                   No                No   \n",
       "\n",
       "     Couleur de la note Texte de la note  \n",
       "0            Dark Green        Excellent  \n",
       "1            Dark Green        Excellent  \n",
       "5                 Green        Very Good  \n",
       "9            Dark Green        Excellent  \n",
       "10           Dark Green        Excellent  \n",
       "...                 ...              ...  \n",
       "9544         Dark Green        Excellent  \n",
       "9545              Green        Very Good  \n",
       "9546              Green        Very Good  \n",
       "9547              Green        Very Good  \n",
       "9550              Green        Very Good  \n",
       "\n",
       "[8965 rows x 13 columns]"
      ]
     },
     "execution_count": 36,
     "metadata": {},
     "output_type": "execute_result"
    }
   ],
   "source": [
    "df.select_dtypes(include=[\"object\"])"
   ]
  },
  {
   "cell_type": "markdown",
   "id": "01011ca7",
   "metadata": {},
   "source": [
    "18- Transformer la variable target 'reservation table' en numérique"
   ]
  },
  {
   "cell_type": "code",
   "execution_count": 39,
   "id": "b04badb9",
   "metadata": {},
   "outputs": [],
   "source": [
    "from sklearn.preprocessing import LabelEncoder\n",
    "label = LabelEncoder()\n",
    "df['reservation table'] = label.fit_transform(df['reservation table'])"
   ]
  },
  {
   "cell_type": "markdown",
   "id": "5d3c7bec",
   "metadata": {},
   "source": [
    "19- Vérifier la transformation"
   ]
  },
  {
   "cell_type": "code",
   "execution_count": 40,
   "id": "ef26e6ab",
   "metadata": {},
   "outputs": [
    {
     "data": {
      "text/plain": [
       "0       1\n",
       "1       1\n",
       "5       0\n",
       "9       1\n",
       "10      0\n",
       "       ..\n",
       "9544    0\n",
       "9545    0\n",
       "9546    0\n",
       "9547    0\n",
       "9550    0\n",
       "Name: reservation table, Length: 8965, dtype: int32"
      ]
     },
     "execution_count": 40,
     "metadata": {},
     "output_type": "execute_result"
    }
   ],
   "source": [
    "df['reservation table'] "
   ]
  },
  {
   "cell_type": "markdown",
   "id": "82aa2a5f",
   "metadata": {},
   "source": [
    "20- Afficher les valeurs distinctes de la variable 'Texte de la note'"
   ]
  },
  {
   "cell_type": "code",
   "execution_count": 41,
   "id": "710449b3",
   "metadata": {},
   "outputs": [
    {
     "data": {
      "text/plain": [
       "<bound method IndexOpsMixin.value_counts of 0       Excellent\n",
       "1       Excellent\n",
       "5       Very Good\n",
       "9       Excellent\n",
       "10      Excellent\n",
       "          ...    \n",
       "9544    Excellent\n",
       "9545    Very Good\n",
       "9546    Very Good\n",
       "9547    Very Good\n",
       "9550    Very Good\n",
       "Name: Texte de la note, Length: 8965, dtype: object>"
      ]
     },
     "execution_count": 41,
     "metadata": {},
     "output_type": "execute_result"
    }
   ],
   "source": [
    "df['Texte de la note'].value_counts"
   ]
  },
  {
   "cell_type": "markdown",
   "id": "d9ca846a",
   "metadata": {},
   "source": [
    "21- Catégoriser la colonne 'Texte de la note'"
   ]
  },
  {
   "cell_type": "code",
   "execution_count": 46,
   "id": "0753c6b9",
   "metadata": {},
   "outputs": [
    {
     "ename": "ValueError",
     "evalue": "For a sparse output, all columns should be a numeric or convertible to a numeric.",
     "output_type": "error",
     "traceback": [
      "\u001b[1;31m---------------------------------------------------------------------------\u001b[0m",
      "\u001b[1;31mValueError\u001b[0m                                Traceback (most recent call last)",
      "\u001b[1;32mD:\\Anaconda\\lib\\site-packages\\sklearn\\compose\\_column_transformer.py\u001b[0m in \u001b[0;36m_hstack\u001b[1;34m(self, Xs)\u001b[0m\n\u001b[0;32m    588\u001b[0m                 \u001b[1;31m# dtype conversion if necessary.\u001b[0m\u001b[1;33m\u001b[0m\u001b[1;33m\u001b[0m\u001b[1;33m\u001b[0m\u001b[0m\n\u001b[1;32m--> 589\u001b[1;33m                 converted_Xs = [check_array(X,\n\u001b[0m\u001b[0;32m    590\u001b[0m                                             \u001b[0maccept_sparse\u001b[0m\u001b[1;33m=\u001b[0m\u001b[1;32mTrue\u001b[0m\u001b[1;33m,\u001b[0m\u001b[1;33m\u001b[0m\u001b[1;33m\u001b[0m\u001b[0m\n",
      "\u001b[1;32mD:\\Anaconda\\lib\\site-packages\\sklearn\\compose\\_column_transformer.py\u001b[0m in \u001b[0;36m<listcomp>\u001b[1;34m(.0)\u001b[0m\n\u001b[0;32m    588\u001b[0m                 \u001b[1;31m# dtype conversion if necessary.\u001b[0m\u001b[1;33m\u001b[0m\u001b[1;33m\u001b[0m\u001b[1;33m\u001b[0m\u001b[0m\n\u001b[1;32m--> 589\u001b[1;33m                 converted_Xs = [check_array(X,\n\u001b[0m\u001b[0;32m    590\u001b[0m                                             \u001b[0maccept_sparse\u001b[0m\u001b[1;33m=\u001b[0m\u001b[1;32mTrue\u001b[0m\u001b[1;33m,\u001b[0m\u001b[1;33m\u001b[0m\u001b[1;33m\u001b[0m\u001b[0m\n",
      "\u001b[1;32mD:\\Anaconda\\lib\\site-packages\\sklearn\\utils\\validation.py\u001b[0m in \u001b[0;36minner_f\u001b[1;34m(*args, **kwargs)\u001b[0m\n\u001b[0;32m     62\u001b[0m             \u001b[1;32mif\u001b[0m \u001b[0mextra_args\u001b[0m \u001b[1;33m<=\u001b[0m \u001b[1;36m0\u001b[0m\u001b[1;33m:\u001b[0m\u001b[1;33m\u001b[0m\u001b[1;33m\u001b[0m\u001b[0m\n\u001b[1;32m---> 63\u001b[1;33m                 \u001b[1;32mreturn\u001b[0m \u001b[0mf\u001b[0m\u001b[1;33m(\u001b[0m\u001b[1;33m*\u001b[0m\u001b[0margs\u001b[0m\u001b[1;33m,\u001b[0m \u001b[1;33m**\u001b[0m\u001b[0mkwargs\u001b[0m\u001b[1;33m)\u001b[0m\u001b[1;33m\u001b[0m\u001b[1;33m\u001b[0m\u001b[0m\n\u001b[0m\u001b[0;32m     64\u001b[0m \u001b[1;33m\u001b[0m\u001b[0m\n",
      "\u001b[1;32mD:\\Anaconda\\lib\\site-packages\\sklearn\\utils\\validation.py\u001b[0m in \u001b[0;36mcheck_array\u001b[1;34m(array, accept_sparse, accept_large_sparse, dtype, order, copy, force_all_finite, ensure_2d, allow_nd, ensure_min_samples, ensure_min_features, estimator)\u001b[0m\n\u001b[0;32m    615\u001b[0m                 \u001b[1;32melse\u001b[0m\u001b[1;33m:\u001b[0m\u001b[1;33m\u001b[0m\u001b[1;33m\u001b[0m\u001b[0m\n\u001b[1;32m--> 616\u001b[1;33m                     \u001b[0marray\u001b[0m \u001b[1;33m=\u001b[0m \u001b[0mnp\u001b[0m\u001b[1;33m.\u001b[0m\u001b[0masarray\u001b[0m\u001b[1;33m(\u001b[0m\u001b[0marray\u001b[0m\u001b[1;33m,\u001b[0m \u001b[0morder\u001b[0m\u001b[1;33m=\u001b[0m\u001b[0morder\u001b[0m\u001b[1;33m,\u001b[0m \u001b[0mdtype\u001b[0m\u001b[1;33m=\u001b[0m\u001b[0mdtype\u001b[0m\u001b[1;33m)\u001b[0m\u001b[1;33m\u001b[0m\u001b[1;33m\u001b[0m\u001b[0m\n\u001b[0m\u001b[0;32m    617\u001b[0m             \u001b[1;32mexcept\u001b[0m \u001b[0mComplexWarning\u001b[0m \u001b[1;32mas\u001b[0m \u001b[0mcomplex_warning\u001b[0m\u001b[1;33m:\u001b[0m\u001b[1;33m\u001b[0m\u001b[1;33m\u001b[0m\u001b[0m\n",
      "\u001b[1;32mD:\\Anaconda\\lib\\site-packages\\numpy\\core\\_asarray.py\u001b[0m in \u001b[0;36masarray\u001b[1;34m(a, dtype, order, like)\u001b[0m\n\u001b[0;32m    101\u001b[0m \u001b[1;33m\u001b[0m\u001b[0m\n\u001b[1;32m--> 102\u001b[1;33m     \u001b[1;32mreturn\u001b[0m \u001b[0marray\u001b[0m\u001b[1;33m(\u001b[0m\u001b[0ma\u001b[0m\u001b[1;33m,\u001b[0m \u001b[0mdtype\u001b[0m\u001b[1;33m,\u001b[0m \u001b[0mcopy\u001b[0m\u001b[1;33m=\u001b[0m\u001b[1;32mFalse\u001b[0m\u001b[1;33m,\u001b[0m \u001b[0morder\u001b[0m\u001b[1;33m=\u001b[0m\u001b[0morder\u001b[0m\u001b[1;33m)\u001b[0m\u001b[1;33m\u001b[0m\u001b[1;33m\u001b[0m\u001b[0m\n\u001b[0m\u001b[0;32m    103\u001b[0m \u001b[1;33m\u001b[0m\u001b[0m\n",
      "\u001b[1;32mD:\\Anaconda\\lib\\site-packages\\pandas\\core\\generic.py\u001b[0m in \u001b[0;36m__array__\u001b[1;34m(self, dtype)\u001b[0m\n\u001b[0;32m   1898\u001b[0m     \u001b[1;32mdef\u001b[0m \u001b[0m__array__\u001b[0m\u001b[1;33m(\u001b[0m\u001b[0mself\u001b[0m\u001b[1;33m,\u001b[0m \u001b[0mdtype\u001b[0m\u001b[1;33m=\u001b[0m\u001b[1;32mNone\u001b[0m\u001b[1;33m)\u001b[0m \u001b[1;33m->\u001b[0m \u001b[0mnp\u001b[0m\u001b[1;33m.\u001b[0m\u001b[0mndarray\u001b[0m\u001b[1;33m:\u001b[0m\u001b[1;33m\u001b[0m\u001b[1;33m\u001b[0m\u001b[0m\n\u001b[1;32m-> 1899\u001b[1;33m         \u001b[1;32mreturn\u001b[0m \u001b[0mnp\u001b[0m\u001b[1;33m.\u001b[0m\u001b[0masarray\u001b[0m\u001b[1;33m(\u001b[0m\u001b[0mself\u001b[0m\u001b[1;33m.\u001b[0m\u001b[0m_values\u001b[0m\u001b[1;33m,\u001b[0m \u001b[0mdtype\u001b[0m\u001b[1;33m=\u001b[0m\u001b[0mdtype\u001b[0m\u001b[1;33m)\u001b[0m\u001b[1;33m\u001b[0m\u001b[1;33m\u001b[0m\u001b[0m\n\u001b[0m\u001b[0;32m   1900\u001b[0m \u001b[1;33m\u001b[0m\u001b[0m\n",
      "\u001b[1;32mD:\\Anaconda\\lib\\site-packages\\numpy\\core\\_asarray.py\u001b[0m in \u001b[0;36masarray\u001b[1;34m(a, dtype, order, like)\u001b[0m\n\u001b[0;32m    101\u001b[0m \u001b[1;33m\u001b[0m\u001b[0m\n\u001b[1;32m--> 102\u001b[1;33m     \u001b[1;32mreturn\u001b[0m \u001b[0marray\u001b[0m\u001b[1;33m(\u001b[0m\u001b[0ma\u001b[0m\u001b[1;33m,\u001b[0m \u001b[0mdtype\u001b[0m\u001b[1;33m,\u001b[0m \u001b[0mcopy\u001b[0m\u001b[1;33m=\u001b[0m\u001b[1;32mFalse\u001b[0m\u001b[1;33m,\u001b[0m \u001b[0morder\u001b[0m\u001b[1;33m=\u001b[0m\u001b[0morder\u001b[0m\u001b[1;33m)\u001b[0m\u001b[1;33m\u001b[0m\u001b[1;33m\u001b[0m\u001b[0m\n\u001b[0m\u001b[0;32m    103\u001b[0m \u001b[1;33m\u001b[0m\u001b[0m\n",
      "\u001b[1;31mValueError\u001b[0m: could not convert string to float: 'Le Petit Souffle'",
      "\nThe above exception was the direct cause of the following exception:\n",
      "\u001b[1;31mValueError\u001b[0m                                Traceback (most recent call last)",
      "\u001b[1;32m<ipython-input-46-a7bea3edaee5>\u001b[0m in \u001b[0;36m<module>\u001b[1;34m\u001b[0m\n\u001b[0;32m      3\u001b[0m ct = ColumnTransformer([('Texte de la note',OneHotEncoder(),[-1])],\\\n\u001b[0;32m      4\u001b[0m                       remainder = 'passthrough')\n\u001b[1;32m----> 5\u001b[1;33m \u001b[0mdf\u001b[0m \u001b[1;33m=\u001b[0m \u001b[0mct\u001b[0m\u001b[1;33m.\u001b[0m\u001b[0mfit_transform\u001b[0m\u001b[1;33m(\u001b[0m\u001b[0mdf\u001b[0m\u001b[1;33m)\u001b[0m\u001b[1;33m\u001b[0m\u001b[1;33m\u001b[0m\u001b[0m\n\u001b[0m",
      "\u001b[1;32mD:\\Anaconda\\lib\\site-packages\\sklearn\\compose\\_column_transformer.py\u001b[0m in \u001b[0;36mfit_transform\u001b[1;34m(self, X, y)\u001b[0m\n\u001b[0;32m    528\u001b[0m         \u001b[0mself\u001b[0m\u001b[1;33m.\u001b[0m\u001b[0m_validate_output\u001b[0m\u001b[1;33m(\u001b[0m\u001b[0mXs\u001b[0m\u001b[1;33m)\u001b[0m\u001b[1;33m\u001b[0m\u001b[1;33m\u001b[0m\u001b[0m\n\u001b[0;32m    529\u001b[0m \u001b[1;33m\u001b[0m\u001b[0m\n\u001b[1;32m--> 530\u001b[1;33m         \u001b[1;32mreturn\u001b[0m \u001b[0mself\u001b[0m\u001b[1;33m.\u001b[0m\u001b[0m_hstack\u001b[0m\u001b[1;33m(\u001b[0m\u001b[0mlist\u001b[0m\u001b[1;33m(\u001b[0m\u001b[0mXs\u001b[0m\u001b[1;33m)\u001b[0m\u001b[1;33m)\u001b[0m\u001b[1;33m\u001b[0m\u001b[1;33m\u001b[0m\u001b[0m\n\u001b[0m\u001b[0;32m    531\u001b[0m \u001b[1;33m\u001b[0m\u001b[0m\n\u001b[0;32m    532\u001b[0m     \u001b[1;32mdef\u001b[0m \u001b[0mtransform\u001b[0m\u001b[1;33m(\u001b[0m\u001b[0mself\u001b[0m\u001b[1;33m,\u001b[0m \u001b[0mX\u001b[0m\u001b[1;33m)\u001b[0m\u001b[1;33m:\u001b[0m\u001b[1;33m\u001b[0m\u001b[1;33m\u001b[0m\u001b[0m\n",
      "\u001b[1;32mD:\\Anaconda\\lib\\site-packages\\sklearn\\compose\\_column_transformer.py\u001b[0m in \u001b[0;36m_hstack\u001b[1;34m(self, Xs)\u001b[0m\n\u001b[0;32m    592\u001b[0m                                 for X in Xs]\n\u001b[0;32m    593\u001b[0m             \u001b[1;32mexcept\u001b[0m \u001b[0mValueError\u001b[0m \u001b[1;32mas\u001b[0m \u001b[0me\u001b[0m\u001b[1;33m:\u001b[0m\u001b[1;33m\u001b[0m\u001b[1;33m\u001b[0m\u001b[0m\n\u001b[1;32m--> 594\u001b[1;33m                 raise ValueError(\n\u001b[0m\u001b[0;32m    595\u001b[0m                     \u001b[1;34m\"For a sparse output, all columns should \"\u001b[0m\u001b[1;33m\u001b[0m\u001b[1;33m\u001b[0m\u001b[0m\n\u001b[0;32m    596\u001b[0m                     \u001b[1;34m\"be a numeric or convertible to a numeric.\"\u001b[0m\u001b[1;33m\u001b[0m\u001b[1;33m\u001b[0m\u001b[0m\n",
      "\u001b[1;31mValueError\u001b[0m: For a sparse output, all columns should be a numeric or convertible to a numeric."
     ]
    }
   ],
   "source": [
    "from sklearn.preprocessing import OneHotEncoder\n",
    "from sklearn.compose import ColumnTransformer\n",
    "ct = ColumnTransformer([('Texte de la note',OneHotEncoder(),[-1])],\\\n",
    "                      remainder = 'passthrough')\n",
    "df = ct.fit_transform(df)"
   ]
  },
  {
   "cell_type": "markdown",
   "id": "a9aee6f5",
   "metadata": {},
   "source": [
    "22- Afficher le type du dataframe après cette étape"
   ]
  },
  {
   "cell_type": "code",
   "execution_count": 47,
   "id": "7728d7ad",
   "metadata": {},
   "outputs": [
    {
     "data": {
      "text/plain": [
       "Nom restaurant           object\n",
       "Code pays                 int64\n",
       "Ville                    object\n",
       "Adresse                  object\n",
       "Localite                 object\n",
       "Localite detaillee       object\n",
       "Longitude               float64\n",
       "Latitude                float64\n",
       "Cuisines                 object\n",
       "Cout pour deux            int64\n",
       "Devise                   object\n",
       "reservation table         int32\n",
       "livraison en ligne       object\n",
       "Livraison maintenant     object\n",
       "commande sur menu        object\n",
       "Gamme de prix             int64\n",
       "Note globale            float64\n",
       "Couleur de la note       object\n",
       "Texte de la note         object\n",
       "Votes                     int64\n",
       "dtype: object"
      ]
     },
     "execution_count": 47,
     "metadata": {},
     "output_type": "execute_result"
    }
   ],
   "source": [
    "df.dtypes"
   ]
  },
  {
   "cell_type": "markdown",
   "id": "29846632",
   "metadata": {},
   "source": [
    "23- Afficher la ligne n°3 de df et expliquer les valeurs des 5 premières colonnes."
   ]
  },
  {
   "cell_type": "code",
   "execution_count": 48,
   "id": "a395fdbb",
   "metadata": {},
   "outputs": [
    {
     "data": {
      "text/plain": [
       "0       Third Floor, Century City Mall, Kalayaan Avenu...\n",
       "1       Little Tokyo, 2277 Chino Roces Avenue, Legaspi...\n",
       "5       Ground Floor, Mega Fashion Hall, SM Megamall, ...\n",
       "9       Brixton Technology Center, 10 Brixton Street, ...\n",
       "10           75 East Capitol Drive, Kapitolyo, Pasig City\n",
       "                              ...                        \n",
       "9544    Kemankeô Karamustafa Paôa Mahallesi, RÛ±htÛ±...\n",
       "9545    Kemankeô Karamustafa Paôa Mahallesi, KÛ±lÛ±í...\n",
       "9546    Kemankeô Karamustafa Paôa Mahallesi, RÛ±htÛ±...\n",
       "9547    Koôuyolu Mahallesi, Muhittin íìstí_ndaÛô Cadd...\n",
       "9550    CafeaÛôa Mahallesi, BademaltÛ± Sokak, No 21/B,...\n",
       "Name: Adresse, Length: 8965, dtype: object"
      ]
     },
     "execution_count": 48,
     "metadata": {},
     "output_type": "execute_result"
    }
   ],
   "source": [
    "df[\"Adresse\"]"
   ]
  },
  {
   "cell_type": "code",
   "execution_count": null,
   "id": "ccc88afe",
   "metadata": {},
   "outputs": [],
   "source": []
  },
  {
   "cell_type": "markdown",
   "id": "9b969c54",
   "metadata": {},
   "source": [
    "24- Affecter à la variable Y le target 'Texte de la note', puis le reste du dataframe à la variable X"
   ]
  },
  {
   "cell_type": "code",
   "execution_count": 50,
   "id": "e9f5b945",
   "metadata": {},
   "outputs": [
    {
     "ename": "NameError",
     "evalue": "name 'y' is not defined",
     "output_type": "error",
     "traceback": [
      "\u001b[1;31m---------------------------------------------------------------------------\u001b[0m",
      "\u001b[1;31mNameError\u001b[0m                                 Traceback (most recent call last)",
      "\u001b[1;32m<ipython-input-50-6e0f1bd27b0d>\u001b[0m in \u001b[0;36m<module>\u001b[1;34m\u001b[0m\n\u001b[1;32m----> 1\u001b[1;33m \u001b[0my\u001b[0m\u001b[1;33m.\u001b[0m\u001b[0mloc\u001b[0m\u001b[1;33m[\u001b[0m\u001b[1;34m\"Texte de la note\"\u001b[0m\u001b[1;33m]\u001b[0m\u001b[1;33m\u001b[0m\u001b[1;33m\u001b[0m\u001b[0m\n\u001b[0m\u001b[0;32m      2\u001b[0m \u001b[0mx\u001b[0m\u001b[1;33m.\u001b[0m\u001b[0miloc\u001b[0m\u001b[1;33m[\u001b[0m\u001b[1;33m:\u001b[0m\u001b[1;33m,\u001b[0m\u001b[1;33m:\u001b[0m\u001b[1;36m12\u001b[0m\u001b[1;33m]\u001b[0m\u001b[1;33m\u001b[0m\u001b[1;33m\u001b[0m\u001b[0m\n",
      "\u001b[1;31mNameError\u001b[0m: name 'y' is not defined"
     ]
    }
   ],
   "source": [
    "y.loc[\"Texte de la note\"]\n",
    "x.iloc[:,:12]"
   ]
  },
  {
   "cell_type": "markdown",
   "id": "a3f8e965",
   "metadata": {},
   "source": [
    "25- Afficher les types de X et Y"
   ]
  },
  {
   "cell_type": "code",
   "execution_count": 49,
   "id": "fa8569b1",
   "metadata": {},
   "outputs": [
    {
     "ename": "NameError",
     "evalue": "name 'x' is not defined",
     "output_type": "error",
     "traceback": [
      "\u001b[1;31m---------------------------------------------------------------------------\u001b[0m",
      "\u001b[1;31mNameError\u001b[0m                                 Traceback (most recent call last)",
      "\u001b[1;32m<ipython-input-49-a7d6ba35e14c>\u001b[0m in \u001b[0;36m<module>\u001b[1;34m\u001b[0m\n\u001b[1;32m----> 1\u001b[1;33m \u001b[0mx\u001b[0m\u001b[1;33m.\u001b[0m\u001b[0mshape\u001b[0m\u001b[1;33m\u001b[0m\u001b[1;33m\u001b[0m\u001b[0m\n\u001b[0m\u001b[0;32m      2\u001b[0m \u001b[0my\u001b[0m\u001b[1;33m.\u001b[0m\u001b[0mshape\u001b[0m\u001b[1;33m\u001b[0m\u001b[1;33m\u001b[0m\u001b[0m\n",
      "\u001b[1;31mNameError\u001b[0m: name 'x' is not defined"
     ]
    }
   ],
   "source": [
    "x.shape\n",
    "y.shape"
   ]
  },
  {
   "cell_type": "markdown",
   "id": "208886bf",
   "metadata": {},
   "source": [
    "supposons que vous avez fait toutes les catégorisations nécessaires, \n",
    "\n",
    "26- Répartir les données en train et test"
   ]
  },
  {
   "cell_type": "code",
   "execution_count": null,
   "id": "f10f1176",
   "metadata": {},
   "outputs": [],
   "source": [
    "from sklearn.model_selection import train_test_split\n",
    "X_train,X_test,y_train,y_test = train_test_split(X,Y,test_size=0.2,\\\n",
    "                                                random_state=0)"
   ]
  },
  {
   "cell_type": "markdown",
   "id": "c4c24af3",
   "metadata": {},
   "source": [
    "27- Donnez la cellule de code qui permet de normaliser le X_train et X_test (ne pas exécuter)."
   ]
  }
 ],
 "metadata": {
  "kernelspec": {
   "display_name": "Python 3",
   "language": "python",
   "name": "python3"
  },
  "language_info": {
   "codemirror_mode": {
    "name": "ipython",
    "version": 3
   },
   "file_extension": ".py",
   "mimetype": "text/x-python",
   "name": "python",
   "nbconvert_exporter": "python",
   "pygments_lexer": "ipython3",
   "version": "3.8.8"
  },
  "papermill": {
   "default_parameters": {},
   "duration": 24.902566,
   "end_time": "2021-05-25T12:31:05.160928",
   "environment_variables": {},
   "exception": null,
   "input_path": "__notebook__.ipynb",
   "output_path": "__notebook__.ipynb",
   "parameters": {},
   "start_time": "2021-05-25T12:30:40.258362",
   "version": "2.3.3"
  }
 },
 "nbformat": 4,
 "nbformat_minor": 5
}
