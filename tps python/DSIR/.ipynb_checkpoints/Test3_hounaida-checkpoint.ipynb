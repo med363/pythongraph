{
 "cells": [
  {
   "cell_type": "code",
   "execution_count": 1,
   "metadata": {
    "execution": {
     "iopub.execute_input": "2021-05-25T12:30:48.882295Z",
     "iopub.status.busy": "2021-05-25T12:30:48.880468Z",
     "iopub.status.idle": "2021-05-25T12:30:50.293920Z",
     "shell.execute_reply": "2021-05-25T12:30:50.294484Z",
     "shell.execute_reply.started": "2021-05-24T14:36:56.05444Z"
    },
    "id": "B13cvIthuFxs",
    "papermill": {
     "duration": 1.481245,
     "end_time": "2021-05-25T12:30:50.294820",
     "exception": false,
     "start_time": "2021-05-25T12:30:48.813575",
     "status": "completed"
    },
    "tags": []
   },
   "outputs": [],
   "source": [
    "import pandas as pd\n",
    "import numpy as np\n",
    "import math\n",
    "import seaborn as sns\n",
    "import matplotlib.pyplot as plt\n",
    "import warnings \n",
    "warnings.filterwarnings('ignore')"
   ]
  },
  {
   "cell_type": "markdown",
   "metadata": {},
   "source": [
    "1- Importer le fichier de données d'un restaurant indien appelé \"Zomato\"."
   ]
  },
  {
   "cell_type": "code",
   "execution_count": 2,
   "metadata": {
    "execution": {
     "iopub.execute_input": "2021-05-25T12:30:50.506089Z",
     "iopub.status.busy": "2021-05-25T12:30:50.504918Z",
     "iopub.status.idle": "2021-05-25T12:30:50.568509Z",
     "shell.execute_reply": "2021-05-25T12:30:50.567838Z",
     "shell.execute_reply.started": "2021-05-24T14:36:56.073769Z"
    },
    "id": "-0CnjENHwcOq",
    "papermill": {
     "duration": 0.118501,
     "end_time": "2021-05-25T12:30:50.568650",
     "exception": false,
     "start_time": "2021-05-25T12:30:50.450149",
     "status": "completed"
    },
    "tags": []
   },
   "outputs": [],
   "source": [
    "df = pd.read_csv(\"zomato.csv\", sep =',',  header =0, encoding = \"ISO-8859-1\")"
   ]
  },
  {
   "cell_type": "markdown",
   "metadata": {},
   "source": [
    "2- Afficher quelque lignes de données"
   ]
  },
  {
   "cell_type": "code",
   "execution_count": 3,
   "metadata": {
    "scrolled": true
   },
   "outputs": [
    {
     "data": {
      "text/html": [
       "<div>\n",
       "<style scoped>\n",
       "    .dataframe tbody tr th:only-of-type {\n",
       "        vertical-align: middle;\n",
       "    }\n",
       "\n",
       "    .dataframe tbody tr th {\n",
       "        vertical-align: top;\n",
       "    }\n",
       "\n",
       "    .dataframe thead th {\n",
       "        text-align: right;\n",
       "    }\n",
       "</style>\n",
       "<table border=\"1\" class=\"dataframe\">\n",
       "  <thead>\n",
       "    <tr style=\"text-align: right;\">\n",
       "      <th></th>\n",
       "      <th>Identifiant restaurant</th>\n",
       "      <th>Nom restaurant</th>\n",
       "      <th>Code pays</th>\n",
       "      <th>Ville</th>\n",
       "      <th>Adresse</th>\n",
       "      <th>Localite</th>\n",
       "      <th>Localite detaillee</th>\n",
       "      <th>Longitude</th>\n",
       "      <th>Latitude</th>\n",
       "      <th>Cuisines</th>\n",
       "      <th>...</th>\n",
       "      <th>Devise</th>\n",
       "      <th>reservation table</th>\n",
       "      <th>livraison en ligne</th>\n",
       "      <th>Livraison maintenant</th>\n",
       "      <th>commande sur menu</th>\n",
       "      <th>Gamme de prix</th>\n",
       "      <th>Note globale</th>\n",
       "      <th>Couleur de la note</th>\n",
       "      <th>Texte de la note</th>\n",
       "      <th>Votes</th>\n",
       "    </tr>\n",
       "  </thead>\n",
       "  <tbody>\n",
       "    <tr>\n",
       "      <th>0</th>\n",
       "      <td>6317637</td>\n",
       "      <td>Le Petit Souffle</td>\n",
       "      <td>162</td>\n",
       "      <td>Makati City</td>\n",
       "      <td>Third Floor, Century City Mall, Kalayaan Avenu...</td>\n",
       "      <td>Century City Mall, Poblacion, Makati City</td>\n",
       "      <td>Century City Mall, Poblacion, Makati City, Mak...</td>\n",
       "      <td>121.027535</td>\n",
       "      <td>14.565443</td>\n",
       "      <td>French, Japanese, Desserts</td>\n",
       "      <td>...</td>\n",
       "      <td>Botswana Pula(P)</td>\n",
       "      <td>Yes</td>\n",
       "      <td>No</td>\n",
       "      <td>No</td>\n",
       "      <td>No</td>\n",
       "      <td>3</td>\n",
       "      <td>4.8</td>\n",
       "      <td>Dark Green</td>\n",
       "      <td>Excellent</td>\n",
       "      <td>314</td>\n",
       "    </tr>\n",
       "    <tr>\n",
       "      <th>1</th>\n",
       "      <td>6304287</td>\n",
       "      <td>Izakaya Kikufuji</td>\n",
       "      <td>162</td>\n",
       "      <td>Makati City</td>\n",
       "      <td>Little Tokyo, 2277 Chino Roces Avenue, Legaspi...</td>\n",
       "      <td>Little Tokyo, Legaspi Village, Makati City</td>\n",
       "      <td>Little Tokyo, Legaspi Village, Makati City, Ma...</td>\n",
       "      <td>121.014101</td>\n",
       "      <td>14.553708</td>\n",
       "      <td>Japanese</td>\n",
       "      <td>...</td>\n",
       "      <td>Botswana Pula(P)</td>\n",
       "      <td>Yes</td>\n",
       "      <td>No</td>\n",
       "      <td>No</td>\n",
       "      <td>No</td>\n",
       "      <td>3</td>\n",
       "      <td>4.5</td>\n",
       "      <td>Dark Green</td>\n",
       "      <td>Excellent</td>\n",
       "      <td>591</td>\n",
       "    </tr>\n",
       "    <tr>\n",
       "      <th>2</th>\n",
       "      <td>6300002</td>\n",
       "      <td>Heat - Edsa Shangri-La</td>\n",
       "      <td>162</td>\n",
       "      <td>Mandaluyong City</td>\n",
       "      <td>Edsa Shangri-La, 1 Garden Way, Ortigas, Mandal...</td>\n",
       "      <td>Edsa Shangri-La, Ortigas, Mandaluyong City</td>\n",
       "      <td>Edsa Shangri-La, Ortigas, Mandaluyong City, Ma...</td>\n",
       "      <td>121.056831</td>\n",
       "      <td>14.581404</td>\n",
       "      <td>Seafood, Asian, Filipino, Indian</td>\n",
       "      <td>...</td>\n",
       "      <td>Botswana Pula(P)</td>\n",
       "      <td>Yes</td>\n",
       "      <td>No</td>\n",
       "      <td>No</td>\n",
       "      <td>No</td>\n",
       "      <td>4</td>\n",
       "      <td>4.4</td>\n",
       "      <td>Green</td>\n",
       "      <td>Very Good</td>\n",
       "      <td>270</td>\n",
       "    </tr>\n",
       "    <tr>\n",
       "      <th>3</th>\n",
       "      <td>6318506</td>\n",
       "      <td>Ooma</td>\n",
       "      <td>162</td>\n",
       "      <td>Mandaluyong City</td>\n",
       "      <td>Third Floor, Mega Fashion Hall, SM Megamall, O...</td>\n",
       "      <td>SM Megamall, Ortigas, Mandaluyong City</td>\n",
       "      <td>SM Megamall, Ortigas, Mandaluyong City, Mandal...</td>\n",
       "      <td>121.056475</td>\n",
       "      <td>14.585318</td>\n",
       "      <td>Japanese, Sushi</td>\n",
       "      <td>...</td>\n",
       "      <td>Botswana Pula(P)</td>\n",
       "      <td>No</td>\n",
       "      <td>No</td>\n",
       "      <td>No</td>\n",
       "      <td>No</td>\n",
       "      <td>4</td>\n",
       "      <td>4.9</td>\n",
       "      <td>Dark Green</td>\n",
       "      <td>Excellent</td>\n",
       "      <td>365</td>\n",
       "    </tr>\n",
       "    <tr>\n",
       "      <th>4</th>\n",
       "      <td>6314302</td>\n",
       "      <td>Sambo Kojin</td>\n",
       "      <td>162</td>\n",
       "      <td>Mandaluyong City</td>\n",
       "      <td>Third Floor, Mega Atrium, SM Megamall, Ortigas...</td>\n",
       "      <td>SM Megamall, Ortigas, Mandaluyong City</td>\n",
       "      <td>SM Megamall, Ortigas, Mandaluyong City, Mandal...</td>\n",
       "      <td>121.057508</td>\n",
       "      <td>14.584450</td>\n",
       "      <td>Japanese, Korean</td>\n",
       "      <td>...</td>\n",
       "      <td>Botswana Pula(P)</td>\n",
       "      <td>Yes</td>\n",
       "      <td>No</td>\n",
       "      <td>No</td>\n",
       "      <td>No</td>\n",
       "      <td>4</td>\n",
       "      <td>4.8</td>\n",
       "      <td>Dark Green</td>\n",
       "      <td>Excellent</td>\n",
       "      <td>229</td>\n",
       "    </tr>\n",
       "  </tbody>\n",
       "</table>\n",
       "<p>5 rows × 21 columns</p>\n",
       "</div>"
      ],
      "text/plain": [
       "   Identifiant restaurant          Nom restaurant  Code pays  \\\n",
       "0                 6317637        Le Petit Souffle        162   \n",
       "1                 6304287        Izakaya Kikufuji        162   \n",
       "2                 6300002  Heat - Edsa Shangri-La        162   \n",
       "3                 6318506                    Ooma        162   \n",
       "4                 6314302             Sambo Kojin        162   \n",
       "\n",
       "              Ville                                            Adresse  \\\n",
       "0       Makati City  Third Floor, Century City Mall, Kalayaan Avenu...   \n",
       "1       Makati City  Little Tokyo, 2277 Chino Roces Avenue, Legaspi...   \n",
       "2  Mandaluyong City  Edsa Shangri-La, 1 Garden Way, Ortigas, Mandal...   \n",
       "3  Mandaluyong City  Third Floor, Mega Fashion Hall, SM Megamall, O...   \n",
       "4  Mandaluyong City  Third Floor, Mega Atrium, SM Megamall, Ortigas...   \n",
       "\n",
       "                                     Localite  \\\n",
       "0   Century City Mall, Poblacion, Makati City   \n",
       "1  Little Tokyo, Legaspi Village, Makati City   \n",
       "2  Edsa Shangri-La, Ortigas, Mandaluyong City   \n",
       "3      SM Megamall, Ortigas, Mandaluyong City   \n",
       "4      SM Megamall, Ortigas, Mandaluyong City   \n",
       "\n",
       "                                  Localite detaillee   Longitude   Latitude  \\\n",
       "0  Century City Mall, Poblacion, Makati City, Mak...  121.027535  14.565443   \n",
       "1  Little Tokyo, Legaspi Village, Makati City, Ma...  121.014101  14.553708   \n",
       "2  Edsa Shangri-La, Ortigas, Mandaluyong City, Ma...  121.056831  14.581404   \n",
       "3  SM Megamall, Ortigas, Mandaluyong City, Mandal...  121.056475  14.585318   \n",
       "4  SM Megamall, Ortigas, Mandaluyong City, Mandal...  121.057508  14.584450   \n",
       "\n",
       "                           Cuisines  ...            Devise reservation table  \\\n",
       "0        French, Japanese, Desserts  ...  Botswana Pula(P)               Yes   \n",
       "1                          Japanese  ...  Botswana Pula(P)               Yes   \n",
       "2  Seafood, Asian, Filipino, Indian  ...  Botswana Pula(P)               Yes   \n",
       "3                   Japanese, Sushi  ...  Botswana Pula(P)                No   \n",
       "4                  Japanese, Korean  ...  Botswana Pula(P)               Yes   \n",
       "\n",
       "  livraison en ligne Livraison maintenant commande sur menu Gamme de prix  \\\n",
       "0                 No                   No                No             3   \n",
       "1                 No                   No                No             3   \n",
       "2                 No                   No                No             4   \n",
       "3                 No                   No                No             4   \n",
       "4                 No                   No                No             4   \n",
       "\n",
       "   Note globale  Couleur de la note Texte de la note Votes  \n",
       "0           4.8          Dark Green        Excellent   314  \n",
       "1           4.5          Dark Green        Excellent   591  \n",
       "2           4.4               Green        Very Good   270  \n",
       "3           4.9          Dark Green        Excellent   365  \n",
       "4           4.8          Dark Green        Excellent   229  \n",
       "\n",
       "[5 rows x 21 columns]"
      ]
     },
     "execution_count": 3,
     "metadata": {},
     "output_type": "execute_result"
    }
   ],
   "source": [
    "df.head()"
   ]
  },
  {
   "cell_type": "markdown",
   "metadata": {},
   "source": [
    "3- Présenter une description des données : 'Longitude','Latitude','Cout pour deux'.\n",
    "\n",
    "Interpréter la colonne \"Cout pour deux\"."
   ]
  },
  {
   "cell_type": "code",
   "execution_count": 4,
   "metadata": {
    "scrolled": true
   },
   "outputs": [
    {
     "data": {
      "text/html": [
       "<div>\n",
       "<style scoped>\n",
       "    .dataframe tbody tr th:only-of-type {\n",
       "        vertical-align: middle;\n",
       "    }\n",
       "\n",
       "    .dataframe tbody tr th {\n",
       "        vertical-align: top;\n",
       "    }\n",
       "\n",
       "    .dataframe thead th {\n",
       "        text-align: right;\n",
       "    }\n",
       "</style>\n",
       "<table border=\"1\" class=\"dataframe\">\n",
       "  <thead>\n",
       "    <tr style=\"text-align: right;\">\n",
       "      <th></th>\n",
       "      <th>Longitude</th>\n",
       "      <th>Latitude</th>\n",
       "      <th>Cout pour deux</th>\n",
       "    </tr>\n",
       "  </thead>\n",
       "  <tbody>\n",
       "    <tr>\n",
       "      <th>count</th>\n",
       "      <td>9551.000000</td>\n",
       "      <td>9551.000000</td>\n",
       "      <td>9551.000000</td>\n",
       "    </tr>\n",
       "    <tr>\n",
       "      <th>mean</th>\n",
       "      <td>64.126574</td>\n",
       "      <td>25.854381</td>\n",
       "      <td>1199.210763</td>\n",
       "    </tr>\n",
       "    <tr>\n",
       "      <th>std</th>\n",
       "      <td>41.467058</td>\n",
       "      <td>11.007935</td>\n",
       "      <td>16121.183073</td>\n",
       "    </tr>\n",
       "    <tr>\n",
       "      <th>min</th>\n",
       "      <td>-157.948486</td>\n",
       "      <td>-41.330428</td>\n",
       "      <td>0.000000</td>\n",
       "    </tr>\n",
       "    <tr>\n",
       "      <th>25%</th>\n",
       "      <td>77.081343</td>\n",
       "      <td>28.478713</td>\n",
       "      <td>250.000000</td>\n",
       "    </tr>\n",
       "    <tr>\n",
       "      <th>50%</th>\n",
       "      <td>77.191964</td>\n",
       "      <td>28.570469</td>\n",
       "      <td>400.000000</td>\n",
       "    </tr>\n",
       "    <tr>\n",
       "      <th>75%</th>\n",
       "      <td>77.282006</td>\n",
       "      <td>28.642758</td>\n",
       "      <td>700.000000</td>\n",
       "    </tr>\n",
       "    <tr>\n",
       "      <th>max</th>\n",
       "      <td>174.832089</td>\n",
       "      <td>55.976980</td>\n",
       "      <td>800000.000000</td>\n",
       "    </tr>\n",
       "  </tbody>\n",
       "</table>\n",
       "</div>"
      ],
      "text/plain": [
       "         Longitude     Latitude  Cout pour deux\n",
       "count  9551.000000  9551.000000     9551.000000\n",
       "mean     64.126574    25.854381     1199.210763\n",
       "std      41.467058    11.007935    16121.183073\n",
       "min    -157.948486   -41.330428        0.000000\n",
       "25%      77.081343    28.478713      250.000000\n",
       "50%      77.191964    28.570469      400.000000\n",
       "75%      77.282006    28.642758      700.000000\n",
       "max     174.832089    55.976980   800000.000000"
      ]
     },
     "execution_count": 4,
     "metadata": {},
     "output_type": "execute_result"
    }
   ],
   "source": [
    "liste=['Longitude','Latitude','Cout pour deux']\n",
    "df[liste].describe()"
   ]
  },
  {
   "cell_type": "markdown",
   "metadata": {},
   "source": [
    "4- Afficher la dimension du dataframe"
   ]
  },
  {
   "cell_type": "code",
   "execution_count": 5,
   "metadata": {},
   "outputs": [
    {
     "name": "stdout",
     "output_type": "stream",
     "text": [
      "Le nombre de lignes 9551\n",
      "Le nombre de colonnes 21\n"
     ]
    }
   ],
   "source": [
    "print(\"Le nombre de lignes\",df.shape[0])\n",
    "print(\"Le nombre de colonnes\",df.shape[1])\n",
    "# ou df.shape"
   ]
  },
  {
   "cell_type": "markdown",
   "metadata": {},
   "source": [
    "5- Supprimer la colonne 'Identifiant restaurant'"
   ]
  },
  {
   "cell_type": "code",
   "execution_count": 25,
   "metadata": {
    "execution": {
     "iopub.execute_input": "2021-05-25T12:30:51.167043Z",
     "iopub.status.busy": "2021-05-25T12:30:51.166359Z",
     "iopub.status.idle": "2021-05-25T12:30:51.172035Z",
     "shell.execute_reply": "2021-05-25T12:30:51.172692Z",
     "shell.execute_reply.started": "2021-05-24T14:36:56.144075Z"
    },
    "id": "zBtmMZiI60KI",
    "outputId": "9621ef1b-28f3-48f9-9d05-184e9676d734",
    "papermill": {
     "duration": 0.062065,
     "end_time": "2021-05-25T12:30:51.172887",
     "exception": false,
     "start_time": "2021-05-25T12:30:51.110822",
     "status": "completed"
    },
    "tags": []
   },
   "outputs": [],
   "source": [
    "df.drop(['Identifiant restaurant'], axis=1, inplace=True)"
   ]
  },
  {
   "cell_type": "markdown",
   "metadata": {},
   "source": [
    "6- Trouver les noms de colonnes contenant des valeurs manquantes"
   ]
  },
  {
   "cell_type": "code",
   "execution_count": 7,
   "metadata": {
    "scrolled": true
   },
   "outputs": [
    {
     "data": {
      "text/plain": [
       "Identifiant restaurant    False\n",
       "Nom restaurant            False\n",
       "Code pays                 False\n",
       "Ville                     False\n",
       "Adresse                   False\n",
       "Localite                  False\n",
       "Localite detaillee        False\n",
       "Longitude                 False\n",
       "Latitude                  False\n",
       "Cuisines                   True\n",
       "Cout pour deux            False\n",
       "Devise                    False\n",
       "reservation table         False\n",
       "livraison en ligne        False\n",
       "Livraison maintenant      False\n",
       "commande sur menu         False\n",
       "Gamme de prix             False\n",
       "Note globale              False\n",
       "Couleur de la note        False\n",
       "Texte de la note          False\n",
       "Votes                     False\n",
       "dtype: bool"
      ]
     },
     "execution_count": 7,
     "metadata": {},
     "output_type": "execute_result"
    }
   ],
   "source": [
    "df.isnull().any()"
   ]
  },
  {
   "cell_type": "markdown",
   "metadata": {},
   "source": [
    "7- Chercher le nombre de valeurs NaN dans chaque colonne "
   ]
  },
  {
   "cell_type": "code",
   "execution_count": 8,
   "metadata": {
    "execution": {
     "iopub.execute_input": "2021-05-25T12:30:51.887353Z",
     "iopub.status.busy": "2021-05-25T12:30:51.886464Z",
     "iopub.status.idle": "2021-05-25T12:30:51.891464Z",
     "shell.execute_reply": "2021-05-25T12:30:51.890951Z",
     "shell.execute_reply.started": "2021-05-24T14:36:56.214308Z"
    },
    "id": "1rsXvmHR8OlB",
    "outputId": "b5e22d10-b39c-4e7b-a35f-7edb54a02113",
    "papermill": {
     "duration": 0.077017,
     "end_time": "2021-05-25T12:30:51.891615",
     "exception": false,
     "start_time": "2021-05-25T12:30:51.814598",
     "status": "completed"
    },
    "tags": []
   },
   "outputs": [
    {
     "data": {
      "text/plain": [
       "Identifiant restaurant    0\n",
       "Nom restaurant            0\n",
       "Code pays                 0\n",
       "Ville                     0\n",
       "Adresse                   0\n",
       "Localite                  0\n",
       "Localite detaillee        0\n",
       "Longitude                 0\n",
       "Latitude                  0\n",
       "Cuisines                  9\n",
       "Cout pour deux            0\n",
       "Devise                    0\n",
       "reservation table         0\n",
       "livraison en ligne        0\n",
       "Livraison maintenant      0\n",
       "commande sur menu         0\n",
       "Gamme de prix             0\n",
       "Note globale              0\n",
       "Couleur de la note        0\n",
       "Texte de la note          0\n",
       "Votes                     0\n",
       "dtype: int64"
      ]
     },
     "execution_count": 8,
     "metadata": {},
     "output_type": "execute_result"
    }
   ],
   "source": [
    "df.isna().sum()"
   ]
  },
  {
   "cell_type": "markdown",
   "metadata": {},
   "source": [
    "8- Discuter la solution adéquate pour les NaN.\n",
    "Proposer le code correspondant."
   ]
  },
  {
   "cell_type": "code",
   "execution_count": 9,
   "metadata": {},
   "outputs": [],
   "source": [
    "df = df [ df ['Cuisines'].notna() ] \n",
    "# ou df = df [ pd.notnull ( df ['Cuisines'] ) ]"
   ]
  },
  {
   "cell_type": "markdown",
   "metadata": {},
   "source": [
    "9- Est ce que la dataset est équilibrée selon la colonne 'Texte de la note'? Argumenter\n",
    "\n",
    "- Première méthode :"
   ]
  },
  {
   "cell_type": "code",
   "execution_count": 10,
   "metadata": {
    "execution": {
     "iopub.execute_input": "2021-05-25T12:30:52.144643Z",
     "iopub.status.busy": "2021-05-25T12:30:52.144011Z",
     "iopub.status.idle": "2021-05-25T12:30:52.171818Z",
     "shell.execute_reply": "2021-05-25T12:30:52.172497Z",
     "shell.execute_reply.started": "2021-05-24T14:36:56.249959Z"
    },
    "id": "DHPOzNK8r0E0",
    "outputId": "608f971b-c181-445a-8167-3074706fba0d",
    "papermill": {
     "duration": 0.090889,
     "end_time": "2021-05-25T12:30:52.172778",
     "exception": false,
     "start_time": "2021-05-25T12:30:52.081889",
     "status": "completed"
    },
    "tags": []
   },
   "outputs": [
    {
     "data": {
      "text/plain": [
       "Average      3734\n",
       "Not rated    2148\n",
       "Good         2096\n",
       "Very Good    1078\n",
       "Excellent     300\n",
       "Poor          186\n",
       "Name: Texte de la note, dtype: int64"
      ]
     },
     "execution_count": 10,
     "metadata": {},
     "output_type": "execute_result"
    }
   ],
   "source": [
    "#Afficher le nombre lignes pour chaque classe de la colonne 'Texte de la note'\n",
    "df['Texte de la note'].value_counts()"
   ]
  },
  {
   "cell_type": "markdown",
   "metadata": {},
   "source": [
    "- Deuxième méthode :"
   ]
  },
  {
   "cell_type": "code",
   "execution_count": 11,
   "metadata": {
    "execution": {
     "iopub.execute_input": "2021-05-25T12:30:54.661139Z",
     "iopub.status.busy": "2021-05-25T12:30:54.660477Z",
     "iopub.status.idle": "2021-05-25T12:30:54.780339Z",
     "shell.execute_reply": "2021-05-25T12:30:54.779842Z",
     "shell.execute_reply.started": "2021-05-24T14:36:56.959916Z"
    },
    "id": "s4zxImdIvuA2",
    "outputId": "06ab1c4f-d285-413c-ae6f-7da5720e5af7",
    "papermill": {
     "duration": 0.185384,
     "end_time": "2021-05-25T12:30:54.780483",
     "exception": false,
     "start_time": "2021-05-25T12:30:54.595099",
     "status": "completed"
    },
    "tags": []
   },
   "outputs": [
    {
     "data": {
      "text/plain": [
       "<AxesSubplot:xlabel='Texte de la note', ylabel='count'>"
      ]
     },
     "execution_count": 11,
     "metadata": {},
     "output_type": "execute_result"
    },
    {
     "data": {
      "image/png": "[encoded data removed]",
      "text/plain": [
       "<Figure size 360x360 with 1 Axes>"
      ]
     },
     "metadata": {
      "needs_background": "light"
     },
     "output_type": "display_data"
    }
   ],
   "source": [
    "#Afficher en barres le nombre d'observations de la variable catégorique 'gain'.\n",
    "plt.figure(figsize=(5,5))\n",
    "sns.countplot( x='Texte de la note', palette='Set2', data=df)"
   ]
  },
  {
   "cell_type": "markdown",
   "metadata": {},
   "source": [
    "10- Présenter le rapport entre les features 'Texte de la notation' et 'Gamme de prix' via le crosstab."
   ]
  },
  {
   "cell_type": "code",
   "execution_count": 12,
   "metadata": {
    "scrolled": true
   },
   "outputs": [
    {
     "data": {
      "text/html": [
       "<div>\n",
       "<style scoped>\n",
       "    .dataframe tbody tr th:only-of-type {\n",
       "        vertical-align: middle;\n",
       "    }\n",
       "\n",
       "    .dataframe tbody tr th {\n",
       "        vertical-align: top;\n",
       "    }\n",
       "\n",
       "    .dataframe thead th {\n",
       "        text-align: right;\n",
       "    }\n",
       "</style>\n",
       "<table border=\"1\" class=\"dataframe\">\n",
       "  <thead>\n",
       "    <tr style=\"text-align: right;\">\n",
       "      <th>Gamme de prix</th>\n",
       "      <th>1</th>\n",
       "      <th>2</th>\n",
       "      <th>3</th>\n",
       "      <th>4</th>\n",
       "    </tr>\n",
       "    <tr>\n",
       "      <th>Texte de la note</th>\n",
       "      <th></th>\n",
       "      <th></th>\n",
       "      <th></th>\n",
       "      <th></th>\n",
       "    </tr>\n",
       "  </thead>\n",
       "  <tbody>\n",
       "    <tr>\n",
       "      <th>Average</th>\n",
       "      <td>1895</td>\n",
       "      <td>1425</td>\n",
       "      <td>313</td>\n",
       "      <td>101</td>\n",
       "    </tr>\n",
       "    <tr>\n",
       "      <th>Excellent</th>\n",
       "      <td>31</td>\n",
       "      <td>69</td>\n",
       "      <td>126</td>\n",
       "      <td>74</td>\n",
       "    </tr>\n",
       "    <tr>\n",
       "      <th>Good</th>\n",
       "      <td>606</td>\n",
       "      <td>794</td>\n",
       "      <td>496</td>\n",
       "      <td>200</td>\n",
       "    </tr>\n",
       "    <tr>\n",
       "      <th>Not rated</th>\n",
       "      <td>1700</td>\n",
       "      <td>402</td>\n",
       "      <td>35</td>\n",
       "      <td>11</td>\n",
       "    </tr>\n",
       "    <tr>\n",
       "      <th>Poor</th>\n",
       "      <td>62</td>\n",
       "      <td>98</td>\n",
       "      <td>20</td>\n",
       "      <td>6</td>\n",
       "    </tr>\n",
       "    <tr>\n",
       "      <th>Very Good</th>\n",
       "      <td>144</td>\n",
       "      <td>325</td>\n",
       "      <td>415</td>\n",
       "      <td>194</td>\n",
       "    </tr>\n",
       "  </tbody>\n",
       "</table>\n",
       "</div>"
      ],
      "text/plain": [
       "Gamme de prix        1     2    3    4\n",
       "Texte de la note                      \n",
       "Average           1895  1425  313  101\n",
       "Excellent           31    69  126   74\n",
       "Good               606   794  496  200\n",
       "Not rated         1700   402   35   11\n",
       "Poor                62    98   20    6\n",
       "Very Good          144   325  415  194"
      ]
     },
     "execution_count": 12,
     "metadata": {},
     "output_type": "execute_result"
    }
   ],
   "source": [
    "pd.crosstab(df['Texte de la note'],df['Gamme de prix'])"
   ]
  },
  {
   "cell_type": "markdown",
   "metadata": {},
   "source": [
    "11- Afficher l'histogramme de la variable 'hours-per-week'. Interpréter."
   ]
  },
  {
   "cell_type": "code",
   "execution_count": 18,
   "metadata": {
    "execution": {
     "iopub.execute_input": "2021-05-25T12:30:53.778461Z",
     "iopub.status.busy": "2021-05-25T12:30:53.777593Z",
     "iopub.status.idle": "2021-05-25T12:30:54.531701Z",
     "shell.execute_reply": "2021-05-25T12:30:54.531134Z",
     "shell.execute_reply.started": "2021-05-24T14:36:56.422413Z"
    },
    "id": "akURAID5vt8r",
    "outputId": "ca4ed1cb-f418-4b3e-8513-7af891924316",
    "papermill": {
     "duration": 0.816027,
     "end_time": "2021-05-25T12:30:54.531874",
     "exception": false,
     "start_time": "2021-05-25T12:30:53.715847",
     "status": "completed"
    },
    "tags": []
   },
   "outputs": [
    {
     "data": {
      "text/plain": [
       "<AxesSubplot:xlabel='Texte de la note', ylabel='count'>"
      ]
     },
     "execution_count": 18,
     "metadata": {},
     "output_type": "execute_result"
    },
    {
     "data": {
      "image/png": "[encoded data removed]",
      "text/plain": [
       "<Figure size 1080x360 with 1 Axes>"
      ]
     },
     "metadata": {},
     "output_type": "display_data"
    }
   ],
   "source": [
    "plt.figure(figsize=(15,5))\n",
    "\n",
    "sns.countplot(data=df, x='Texte de la note',hue=df['Couleur de la note'], palette='Set1')"
   ]
  },
  {
   "cell_type": "markdown",
   "metadata": {},
   "source": [
    "12- Afficher la matrice de correlations et en déduire les variables les plus correlées"
   ]
  },
  {
   "cell_type": "code",
   "execution_count": 19,
   "metadata": {
    "execution": {
     "iopub.execute_input": "2021-05-25T12:30:57.464819Z",
     "iopub.status.busy": "2021-05-25T12:30:57.464138Z",
     "iopub.status.idle": "2021-05-25T12:30:57.748050Z",
     "shell.execute_reply": "2021-05-25T12:30:57.747474Z",
     "shell.execute_reply.started": "2021-05-24T14:36:57.932728Z"
    },
    "id": "AAY5nEXiym4D",
    "outputId": "18071c9d-b7a0-418f-f7d2-d4b141d5b4a2",
    "papermill": {
     "duration": 0.354633,
     "end_time": "2021-05-25T12:30:57.748198",
     "exception": false,
     "start_time": "2021-05-25T12:30:57.393565",
     "status": "completed"
    },
    "scrolled": true,
    "tags": []
   },
   "outputs": [
    {
     "data": {
      "image/png": "[encoded data removed]",
      "text/plain": [
       "<Figure size 720x360 with 2 Axes>"
      ]
     },
     "metadata": {},
     "output_type": "display_data"
    }
   ],
   "source": [
    "plt.figure(figsize=(10,5))\n",
    "correlation = df.corr( method='pearson' )\n",
    "sns.heatmap( correlation, annot=True );"
   ]
  },
  {
   "cell_type": "markdown",
   "metadata": {},
   "source": [
    "les variables les plus correlées sont 'Note globale' avec 'Gamme de prix'"
   ]
  },
  {
   "cell_type": "markdown",
   "metadata": {},
   "source": [
    "13- Afficher le boxplot de la variable 'Gamme de prix'. Interpréter"
   ]
  },
  {
   "cell_type": "code",
   "execution_count": 22,
   "metadata": {
    "execution": {
     "iopub.execute_input": "2021-05-25T12:30:55.024925Z",
     "iopub.status.busy": "2021-05-25T12:30:55.023951Z",
     "iopub.status.idle": "2021-05-25T12:30:55.193318Z",
     "shell.execute_reply": "2021-05-25T12:30:55.192252Z",
     "shell.execute_reply.started": "2021-05-24T14:36:57.068192Z"
    },
    "id": "leqwxXvQVPwn",
    "outputId": "5965c159-8102-4385-8c60-60a02f096db6",
    "papermill": {
     "duration": 0.235691,
     "end_time": "2021-05-25T12:30:55.193475",
     "exception": false,
     "start_time": "2021-05-25T12:30:54.957784",
     "status": "completed"
    },
    "tags": []
   },
   "outputs": [
    {
     "data": {
      "image/png": "[encoded data removed]",
      "text/plain": [
       "<Figure size 432x288 with 1 Axes>"
      ]
     },
     "metadata": {},
     "output_type": "display_data"
    }
   ],
   "source": [
    "sns.set(style='whitegrid')\n",
    "ax=sns.boxplot(data=df['Gamme de prix'],orient='h')"
   ]
  },
  {
   "cell_type": "markdown",
   "metadata": {},
   "source": [
    "14- Calculer et afficher les valeurs de Sup et Inf de cette variable"
   ]
  },
  {
   "cell_type": "code",
   "execution_count": 29,
   "metadata": {},
   "outputs": [],
   "source": [
    "Q1=df['Gamme de prix'].quantile(0.25)\n",
    "Q3=df['Gamme de prix'].quantile(0.75)\n",
    "IQR=Q3-Q1\n",
    "Inf = df['Gamme de prix'].quantile(0.25)-1.5*IQR\n",
    "Sup = df['Gamme de prix'].quantile(0.75)+1.5*IQR"
   ]
  },
  {
   "cell_type": "code",
   "execution_count": 30,
   "metadata": {},
   "outputs": [
    {
     "name": "stdout",
     "output_type": "stream",
     "text": [
      "3.5\n",
      "-0.5\n"
     ]
    }
   ],
   "source": [
    "print(Sup)\n",
    "print(Inf)"
   ]
  },
  {
   "cell_type": "markdown",
   "metadata": {},
   "source": [
    "15- Déduire le nombre de outliers"
   ]
  },
  {
   "cell_type": "code",
   "execution_count": 32,
   "metadata": {},
   "outputs": [
    {
     "data": {
      "text/plain": [
       "Nom restaurant          586\n",
       "Code pays               586\n",
       "Ville                   586\n",
       "Adresse                 586\n",
       "Localite                586\n",
       "Localite detaillee      586\n",
       "Longitude               586\n",
       "Latitude                586\n",
       "Cuisines                586\n",
       "Cout pour deux          586\n",
       "Devise                  586\n",
       "reservation table       586\n",
       "livraison en ligne      586\n",
       "Livraison maintenant    586\n",
       "commande sur menu       586\n",
       "Gamme de prix           586\n",
       "Note globale            586\n",
       "Couleur de la note      586\n",
       "Texte de la note        586\n",
       "Votes                   586\n",
       "dtype: int64"
      ]
     },
     "execution_count": 32,
     "metadata": {},
     "output_type": "execute_result"
    }
   ],
   "source": [
    "df[df['Gamme de prix']>=Sup].count()"
   ]
  },
  {
   "cell_type": "code",
   "execution_count": 34,
   "metadata": {},
   "outputs": [
    {
     "data": {
      "text/plain": [
       "Nom restaurant          0\n",
       "Code pays               0\n",
       "Ville                   0\n",
       "Adresse                 0\n",
       "Localite                0\n",
       "Localite detaillee      0\n",
       "Longitude               0\n",
       "Latitude                0\n",
       "Cuisines                0\n",
       "Cout pour deux          0\n",
       "Devise                  0\n",
       "reservation table       0\n",
       "livraison en ligne      0\n",
       "Livraison maintenant    0\n",
       "commande sur menu       0\n",
       "Gamme de prix           0\n",
       "Note globale            0\n",
       "Couleur de la note      0\n",
       "Texte de la note        0\n",
       "Votes                   0\n",
       "dtype: int64"
      ]
     },
     "execution_count": 34,
     "metadata": {},
     "output_type": "execute_result"
    }
   ],
   "source": [
    "df[df['Gamme de prix']<=Inf].count()"
   ]
  },
  {
   "cell_type": "code",
   "execution_count": 35,
   "metadata": {},
   "outputs": [
    {
     "data": {
      "text/plain": [
       "586"
      ]
     },
     "execution_count": 35,
     "metadata": {},
     "output_type": "execute_result"
    }
   ],
   "source": [
    "# ou bien :\n",
    "outliers=[x for x in df['Gamme de prix'] if x <Inf or x > Sup ]\n",
    "len(outliers)"
   ]
  },
  {
   "cell_type": "markdown",
   "metadata": {},
   "source": [
    "16- Supprimer les outliers de la colonne 'Gamme de prix'."
   ]
  },
  {
   "cell_type": "code",
   "execution_count": 62,
   "metadata": {},
   "outputs": [
    {
     "ename": "AttributeError",
     "evalue": "'numpy.ndarray' object has no attribute 'drop'",
     "output_type": "error",
     "traceback": [
      "\u001b[0;31m---------------------------------------------------------------------------\u001b[0m",
      "\u001b[0;31mAttributeError\u001b[0m                            Traceback (most recent call last)",
      "\u001b[0;32m<ipython-input-62-81b51644e804>\u001b[0m in \u001b[0;36m<module>\u001b[0;34m\u001b[0m\n\u001b[0;32m----> 1\u001b[0;31m \u001b[0mdf\u001b[0m\u001b[0;34m.\u001b[0m\u001b[0mdrop\u001b[0m\u001b[0;34m(\u001b[0m\u001b[0mdf\u001b[0m\u001b[0;34m[\u001b[0m\u001b[0mdf\u001b[0m\u001b[0;34m[\u001b[0m\u001b[0;34m'Gamme de prix'\u001b[0m\u001b[0;34m]\u001b[0m\u001b[0;34m>\u001b[0m\u001b[0mSup\u001b[0m\u001b[0;34m]\u001b[0m\u001b[0;34m.\u001b[0m\u001b[0mindex\u001b[0m\u001b[0;34m,\u001b[0m\u001b[0minplace\u001b[0m\u001b[0;34m=\u001b[0m\u001b[0;32mTrue\u001b[0m\u001b[0;34m)\u001b[0m\u001b[0;34m\u001b[0m\u001b[0;34m\u001b[0m\u001b[0m\n\u001b[0m",
      "\u001b[0;31mAttributeError\u001b[0m: 'numpy.ndarray' object has no attribute 'drop'"
     ]
    }
   ],
   "source": [
    "df.drop(df[df['Gamme de prix']>Sup].index,inplace=True) "
   ]
  },
  {
   "cell_type": "markdown",
   "metadata": {},
   "source": [
    "17- Vérifier qu'il ne reste plus d'outliers pour les 'Gamme de prix'"
   ]
  },
  {
   "cell_type": "code",
   "execution_count": 61,
   "metadata": {},
   "outputs": [
    {
     "ename": "IndexError",
     "evalue": "only integers, slices (`:`), ellipsis (`...`), numpy.newaxis (`None`) and integer or boolean arrays are valid indices",
     "output_type": "error",
     "traceback": [
      "\u001b[0;31m---------------------------------------------------------------------------\u001b[0m",
      "\u001b[0;31mIndexError\u001b[0m                                Traceback (most recent call last)",
      "\u001b[0;32m<ipython-input-61-c34b9f7448af>\u001b[0m in \u001b[0;36m<module>\u001b[0;34m\u001b[0m\n\u001b[0;32m----> 1\u001b[0;31m \u001b[0mdf\u001b[0m\u001b[0;34m[\u001b[0m\u001b[0mdf\u001b[0m\u001b[0;34m[\u001b[0m\u001b[0;34m'Gamme de prix'\u001b[0m\u001b[0;34m]\u001b[0m\u001b[0;34m>=\u001b[0m\u001b[0mSup\u001b[0m\u001b[0;34m]\u001b[0m\u001b[0;34m.\u001b[0m\u001b[0mcount\u001b[0m\u001b[0;34m(\u001b[0m\u001b[0;34m)\u001b[0m\u001b[0;34m\u001b[0m\u001b[0;34m\u001b[0m\u001b[0m\n\u001b[0m",
      "\u001b[0;31mIndexError\u001b[0m: only integers, slices (`:`), ellipsis (`...`), numpy.newaxis (`None`) and integer or boolean arrays are valid indices"
     ]
    }
   ],
   "source": [
    "df[df['Gamme de prix']>=Sup].count()"
   ]
  },
  {
   "cell_type": "markdown",
   "metadata": {},
   "source": [
    "17- Afficher les noms de colonnes catégoriques"
   ]
  },
  {
   "cell_type": "code",
   "execution_count": 38,
   "metadata": {
    "scrolled": true
   },
   "outputs": [
    {
     "name": "stdout",
     "output_type": "stream",
     "text": [
      "Nom restaurant\n",
      "Ville\n",
      "Adresse\n",
      "Localite\n",
      "Localite detaillee\n",
      "Cuisines\n",
      "Devise\n",
      "reservation table\n",
      "livraison en ligne\n",
      "Livraison maintenant\n",
      "commande sur menu\n",
      "Couleur de la note\n",
      "Texte de la note\n"
     ]
    }
   ],
   "source": [
    "for col in df.columns:\n",
    "    if(df[col].dtype=='object'):\n",
    "        print(col)"
   ]
  },
  {
   "cell_type": "code",
   "execution_count": 39,
   "metadata": {},
   "outputs": [
    {
     "data": {
      "text/plain": [
       "['Nom restaurant',\n",
       " 'Ville',\n",
       " 'Adresse',\n",
       " 'Localite',\n",
       " 'Localite detaillee',\n",
       " 'Cuisines',\n",
       " 'Devise',\n",
       " 'reservation table',\n",
       " 'livraison en ligne',\n",
       " 'Livraison maintenant',\n",
       " 'commande sur menu',\n",
       " 'Couleur de la note',\n",
       " 'Texte de la note']"
      ]
     },
     "execution_count": 39,
     "metadata": {},
     "output_type": "execute_result"
    }
   ],
   "source": [
    "# ou bien :\n",
    "list=[x for x in df.columns if df[x].dtype=='object']\n",
    "list"
   ]
  },
  {
   "cell_type": "markdown",
   "metadata": {},
   "source": [
    "18- Transformer la variable target 'reservation table' en numérique"
   ]
  },
  {
   "cell_type": "code",
   "execution_count": 63,
   "metadata": {},
   "outputs": [],
   "source": [
    "from sklearn.preprocessing import LabelEncoder\n",
    "label = LabelEncoder()"
   ]
  },
  {
   "cell_type": "code",
   "execution_count": 64,
   "metadata": {},
   "outputs": [
    {
     "ename": "IndexError",
     "evalue": "only integers, slices (`:`), ellipsis (`...`), numpy.newaxis (`None`) and integer or boolean arrays are valid indices",
     "output_type": "error",
     "traceback": [
      "\u001b[0;31m---------------------------------------------------------------------------\u001b[0m",
      "\u001b[0;31mIndexError\u001b[0m                                Traceback (most recent call last)",
      "\u001b[0;32m<ipython-input-64-87ab3ee2febc>\u001b[0m in \u001b[0;36m<module>\u001b[0;34m\u001b[0m\n\u001b[0;32m----> 1\u001b[0;31m \u001b[0mdf\u001b[0m\u001b[0;34m[\u001b[0m\u001b[0;34m'reservation table'\u001b[0m\u001b[0;34m]\u001b[0m \u001b[0;34m=\u001b[0m \u001b[0mlabel\u001b[0m\u001b[0;34m.\u001b[0m\u001b[0mfit_transform\u001b[0m\u001b[0;34m(\u001b[0m\u001b[0mdf\u001b[0m\u001b[0;34m[\u001b[0m\u001b[0;34m'reservation table'\u001b[0m\u001b[0;34m]\u001b[0m\u001b[0;34m)\u001b[0m\u001b[0;34m\u001b[0m\u001b[0;34m\u001b[0m\u001b[0m\n\u001b[0m",
      "\u001b[0;31mIndexError\u001b[0m: only integers, slices (`:`), ellipsis (`...`), numpy.newaxis (`None`) and integer or boolean arrays are valid indices"
     ]
    }
   ],
   "source": [
    "df['reservation table'] = label.fit_transform(df['reservation table'])"
   ]
  },
  {
   "cell_type": "markdown",
   "metadata": {},
   "source": [
    "19- Vérifier la transformation"
   ]
  },
  {
   "cell_type": "code",
   "execution_count": 50,
   "metadata": {},
   "outputs": [
    {
     "data": {
      "text/plain": [
       "0       1\n",
       "1       1\n",
       "5       0\n",
       "9       1\n",
       "10      0\n",
       "       ..\n",
       "9544    0\n",
       "9545    0\n",
       "9546    0\n",
       "9547    0\n",
       "9550    0\n",
       "Name: reservation table, Length: 8956, dtype: int64"
      ]
     },
     "execution_count": 50,
     "metadata": {},
     "output_type": "execute_result"
    }
   ],
   "source": [
    "df['reservation table']"
   ]
  },
  {
   "cell_type": "markdown",
   "metadata": {},
   "source": [
    "20- Afficher les valeurs distinctes de la variable 'Texte de la note'"
   ]
  },
  {
   "cell_type": "code",
   "execution_count": 51,
   "metadata": {},
   "outputs": [
    {
     "data": {
      "text/plain": [
       "array([1, 5, 2, 0, 3, 4])"
      ]
     },
     "execution_count": 51,
     "metadata": {},
     "output_type": "execute_result"
    }
   ],
   "source": [
    "df['Texte de la note'].unique()"
   ]
  },
  {
   "cell_type": "markdown",
   "metadata": {},
   "source": [
    "21- Catégoriser la colonne 'Texte de la note'"
   ]
  },
  {
   "cell_type": "code",
   "execution_count": 52,
   "metadata": {},
   "outputs": [],
   "source": [
    "from sklearn.preprocessing import OneHotEncoder\n",
    "from sklearn.compose import ColumnTransformer\n",
    "ct = ColumnTransformer([('Texte de la note',OneHotEncoder(),['Texte de la note'])],\\\n",
    "                      remainder = 'passthrough')\n",
    "df = ct.fit_transform(df)"
   ]
  },
  {
   "cell_type": "markdown",
   "metadata": {},
   "source": [
    "22- Afficher le type du dataframe après cette étape"
   ]
  },
  {
   "cell_type": "code",
   "execution_count": 53,
   "metadata": {
    "scrolled": false
   },
   "outputs": [
    {
     "data": {
      "text/plain": [
       "numpy.ndarray"
      ]
     },
     "execution_count": 53,
     "metadata": {},
     "output_type": "execute_result"
    }
   ],
   "source": [
    "type(df)"
   ]
  },
  {
   "cell_type": "markdown",
   "metadata": {},
   "source": [
    "23- Afficher la ligne n°3 de df et expliquer les valeurs des 5 premières colonnes."
   ]
  },
  {
   "cell_type": "code",
   "execution_count": 54,
   "metadata": {},
   "outputs": [
    {
     "data": {
      "text/plain": [
       "array([0.0, 1.0, 0.0, 0.0, 0.0, 0.0, 'Locavore', 162, 'Pasig City',\n",
       "       'Brixton Technology Center, 10 Brixton Street, Kapitolyo, Pasig City',\n",
       "       'Kapitolyo', 'Kapitolyo, Pasig City', 121.056532, 14.572041,\n",
       "       'Filipino', 1100, 'Botswana Pula(P)', 1, 'No', 'No', 'No', 3, 4.8,\n",
       "       'Dark Green', 532], dtype=object)"
      ]
     },
     "execution_count": 54,
     "metadata": {},
     "output_type": "execute_result"
    }
   ],
   "source": [
    "df[3,:]"
   ]
  },
  {
   "cell_type": "markdown",
   "metadata": {},
   "source": [
    "24- Affecter à la variable Y le target 'Texte de la note', puis le reste du dataframe à la variable X"
   ]
  },
  {
   "cell_type": "code",
   "execution_count": 55,
   "metadata": {},
   "outputs": [],
   "source": [
    "X = df[:,0:-2]\n",
    "Y= df[:,-2]"
   ]
  },
  {
   "cell_type": "markdown",
   "metadata": {},
   "source": [
    "25- Afficher les types de X et Y"
   ]
  },
  {
   "cell_type": "code",
   "execution_count": 56,
   "metadata": {},
   "outputs": [
    {
     "data": {
      "text/plain": [
       "numpy.ndarray"
      ]
     },
     "execution_count": 56,
     "metadata": {},
     "output_type": "execute_result"
    }
   ],
   "source": [
    "type(X)"
   ]
  },
  {
   "cell_type": "markdown",
   "metadata": {},
   "source": [
    "NB : on n'a pas besoin de transformer X et Y en type numpyarray (.values)"
   ]
  },
  {
   "cell_type": "markdown",
   "metadata": {},
   "source": [
    "supposons que vous avez fait toutes les catégorisations nécessaires, \n",
    "\n",
    "26- Répartir les données en train et test"
   ]
  },
  {
   "cell_type": "code",
   "execution_count": 57,
   "metadata": {},
   "outputs": [],
   "source": [
    "from sklearn.model_selection import train_test_split\n",
    "X_train,X_test,y_train,y_test = train_test_split(X,Y,test_size=0.2,\\\n",
    "                                                random_state=0)\n",
    "# random_state  D'un autre côté, si vous utilisez random_state=some_number, \n",
    "#vous pouvez garantir que la sortie de Run 1 sera égale à la sortie de Run 2, \n",
    "#c'est-à-dire que votre division sera toujours la même. Peu importe le nombre réel de random_state 42, 0, 21, ... \n",
    "# L'important est qu'à chaque fois que vous utilisez 42, vous obtiendrez toujours la même sortie la première fois que \n",
    "#vous effectuez le fractionnement."
   ]
  },
  {
   "cell_type": "code",
   "execution_count": 58,
   "metadata": {},
   "outputs": [
    {
     "data": {
      "text/plain": [
       "(7164, 23)"
      ]
     },
     "execution_count": 58,
     "metadata": {},
     "output_type": "execute_result"
    }
   ],
   "source": [
    "X_train.shape"
   ]
  },
  {
   "cell_type": "code",
   "execution_count": 59,
   "metadata": {},
   "outputs": [
    {
     "data": {
      "text/plain": [
       "(1792, 23)"
      ]
     },
     "execution_count": 59,
     "metadata": {},
     "output_type": "execute_result"
    }
   ],
   "source": [
    "X_test.shape"
   ]
  },
  {
   "cell_type": "markdown",
   "metadata": {},
   "source": [
    "27- Donnez la cellule de code qui permet de normaliser le X_train et X_test (ne pas exécuter)."
   ]
  },
  {
   "cell_type": "code",
   "execution_count": null,
   "metadata": {},
   "outputs": [],
   "source": [
    "from sklearn.preprocessing import MinMaxScaler\n",
    "scaler=MinMaxScaler()\n",
    "X_train_norm=scaler.fit_transform(X_train)\n",
    "X_test_norm=scaler.fit_transform(X_test)"
   ]
  }
 ],
 "metadata": {
  "kernelspec": {
   "display_name": "Python 3",
   "language": "python",
   "name": "python3"
  },
  "language_info": {
   "codemirror_mode": {
    "name": "ipython",
    "version": 3
   },
   "file_extension": ".py",
   "mimetype": "text/x-python",
   "name": "python",
   "nbconvert_exporter": "python",
   "pygments_lexer": "ipython3",
   "version": "3.7.3"
  },
  "papermill": {
   "default_parameters": {},
   "duration": 24.902566,
   "end_time": "2021-05-25T12:31:05.160928",
   "environment_variables": {},
   "exception": null,
   "input_path": "__notebook__.ipynb",
   "output_path": "__notebook__.ipynb",
   "parameters": {},
   "start_time": "2021-05-25T12:30:40.258362",
   "version": "2.3.3"
  }
 },
 "nbformat": 4,
 "nbformat_minor": 5
}
