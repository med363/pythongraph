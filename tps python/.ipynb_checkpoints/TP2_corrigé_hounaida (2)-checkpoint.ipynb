{
 "cells": [
  {
   "cell_type": "markdown",
   "id": "ca064094",
   "metadata": {
    "id": "r4k50t_FwPbl",
    "papermill": {
     "duration": 0.053026,
     "end_time": "2021-05-25T12:30:48.760489",
     "exception": false,
     "start_time": "2021-05-25T12:30:48.707463",
     "status": "completed"
    },
    "tags": []
   },
   "source": [
    "# I . IMPORTS"
   ]
  },
  {
   "cell_type": "code",
   "execution_count": 1,
   "id": "bc25ff29",
   "metadata": {
    "execution": {
     "iopub.execute_input": "2021-05-25T12:30:48.882295Z",
     "iopub.status.busy": "2021-05-25T12:30:48.880468Z",
     "iopub.status.idle": "2021-05-25T12:30:50.293920Z",
     "shell.execute_reply": "2021-05-25T12:30:50.294484Z",
     "shell.execute_reply.started": "2021-05-24T14:36:56.05444Z"
    },
    "id": "B13cvIthuFxs",
    "papermill": {
     "duration": 1.481245,
     "end_time": "2021-05-25T12:30:50.294820",
     "exception": false,
     "start_time": "2021-05-25T12:30:48.813575",
     "status": "completed"
    },
    "tags": []
   },
   "outputs": [],
   "source": [
    "import pandas as pd\n",
    "import numpy as np\n",
    "import math\n",
    "import seaborn as sns\n",
    "import matplotlib.pyplot as plt\n",
    "import warnings \n",
    "warnings.filterwarnings('ignore')"
   ]
  },
  {
   "cell_type": "markdown",
   "id": "bed67db7",
   "metadata": {
    "id": "dIpg5xYRwVeV",
    "papermill": {
     "duration": 0.051149,
     "end_time": "2021-05-25T12:30:50.398713",
     "exception": false,
     "start_time": "2021-05-25T12:30:50.347564",
     "status": "completed"
    },
    "tags": []
   },
   "source": [
    "# II . LOAD DATA"
   ]
  },
  {
   "cell_type": "markdown",
   "id": "7e31c136",
   "metadata": {},
   "source": [
    "1- importer le fichier de données"
   ]
  },
  {
   "cell_type": "code",
   "execution_count": 2,
   "id": "25db2d0c",
   "metadata": {
    "execution": {
     "iopub.execute_input": "2021-05-25T12:30:50.506089Z",
     "iopub.status.busy": "2021-05-25T12:30:50.504918Z",
     "iopub.status.idle": "2021-05-25T12:30:50.568509Z",
     "shell.execute_reply": "2021-05-25T12:30:50.567838Z",
     "shell.execute_reply.started": "2021-05-24T14:36:56.073769Z"
    },
    "id": "-0CnjENHwcOq",
    "papermill": {
     "duration": 0.118501,
     "end_time": "2021-05-25T12:30:50.568650",
     "exception": false,
     "start_time": "2021-05-25T12:30:50.450149",
     "status": "completed"
    },
    "tags": []
   },
   "outputs": [
    {
     "ename": "FileNotFoundError",
     "evalue": "[Errno 2] No such file or directory: 'healthcare-dataset-stroke-data.csv'",
     "output_type": "error",
     "traceback": [
      "\u001b[1;31m---------------------------------------------------------------------------\u001b[0m",
      "\u001b[1;31mFileNotFoundError\u001b[0m                         Traceback (most recent call last)",
      "\u001b[1;32m<ipython-input-2-21a08d337b80>\u001b[0m in \u001b[0;36m<module>\u001b[1;34m\u001b[0m\n\u001b[1;32m----> 1\u001b[1;33m \u001b[0mdf\u001b[0m \u001b[1;33m=\u001b[0m \u001b[0mpd\u001b[0m\u001b[1;33m.\u001b[0m\u001b[0mread_csv\u001b[0m\u001b[1;33m(\u001b[0m\u001b[1;34m\"healthcare-dataset-stroke-data.csv\"\u001b[0m\u001b[1;33m,\u001b[0m \u001b[0msep\u001b[0m \u001b[1;33m=\u001b[0m\u001b[1;34m','\u001b[0m\u001b[1;33m,\u001b[0m  \u001b[0mheader\u001b[0m \u001b[1;33m=\u001b[0m\u001b[1;36m0\u001b[0m\u001b[1;33m)\u001b[0m\u001b[1;33m\u001b[0m\u001b[1;33m\u001b[0m\u001b[0m\n\u001b[0m\u001b[0;32m      2\u001b[0m \u001b[0mprint\u001b[0m\u001b[1;33m(\u001b[0m\u001b[0mtype\u001b[0m\u001b[1;33m(\u001b[0m\u001b[0mdf\u001b[0m\u001b[1;33m)\u001b[0m\u001b[1;33m)\u001b[0m\u001b[1;33m\u001b[0m\u001b[1;33m\u001b[0m\u001b[0m\n",
      "\u001b[1;32mD:\\Anaconda\\lib\\site-packages\\pandas\\io\\parsers.py\u001b[0m in \u001b[0;36mread_csv\u001b[1;34m(filepath_or_buffer, sep, delimiter, header, names, index_col, usecols, squeeze, prefix, mangle_dupe_cols, dtype, engine, converters, true_values, false_values, skipinitialspace, skiprows, skipfooter, nrows, na_values, keep_default_na, na_filter, verbose, skip_blank_lines, parse_dates, infer_datetime_format, keep_date_col, date_parser, dayfirst, cache_dates, iterator, chunksize, compression, thousands, decimal, lineterminator, quotechar, quoting, doublequote, escapechar, comment, encoding, dialect, error_bad_lines, warn_bad_lines, delim_whitespace, low_memory, memory_map, float_precision, storage_options)\u001b[0m\n\u001b[0;32m    608\u001b[0m     \u001b[0mkwds\u001b[0m\u001b[1;33m.\u001b[0m\u001b[0mupdate\u001b[0m\u001b[1;33m(\u001b[0m\u001b[0mkwds_defaults\u001b[0m\u001b[1;33m)\u001b[0m\u001b[1;33m\u001b[0m\u001b[1;33m\u001b[0m\u001b[0m\n\u001b[0;32m    609\u001b[0m \u001b[1;33m\u001b[0m\u001b[0m\n\u001b[1;32m--> 610\u001b[1;33m     \u001b[1;32mreturn\u001b[0m \u001b[0m_read\u001b[0m\u001b[1;33m(\u001b[0m\u001b[0mfilepath_or_buffer\u001b[0m\u001b[1;33m,\u001b[0m \u001b[0mkwds\u001b[0m\u001b[1;33m)\u001b[0m\u001b[1;33m\u001b[0m\u001b[1;33m\u001b[0m\u001b[0m\n\u001b[0m\u001b[0;32m    611\u001b[0m \u001b[1;33m\u001b[0m\u001b[0m\n\u001b[0;32m    612\u001b[0m \u001b[1;33m\u001b[0m\u001b[0m\n",
      "\u001b[1;32mD:\\Anaconda\\lib\\site-packages\\pandas\\io\\parsers.py\u001b[0m in \u001b[0;36m_read\u001b[1;34m(filepath_or_buffer, kwds)\u001b[0m\n\u001b[0;32m    460\u001b[0m \u001b[1;33m\u001b[0m\u001b[0m\n\u001b[0;32m    461\u001b[0m     \u001b[1;31m# Create the parser.\u001b[0m\u001b[1;33m\u001b[0m\u001b[1;33m\u001b[0m\u001b[1;33m\u001b[0m\u001b[0m\n\u001b[1;32m--> 462\u001b[1;33m     \u001b[0mparser\u001b[0m \u001b[1;33m=\u001b[0m \u001b[0mTextFileReader\u001b[0m\u001b[1;33m(\u001b[0m\u001b[0mfilepath_or_buffer\u001b[0m\u001b[1;33m,\u001b[0m \u001b[1;33m**\u001b[0m\u001b[0mkwds\u001b[0m\u001b[1;33m)\u001b[0m\u001b[1;33m\u001b[0m\u001b[1;33m\u001b[0m\u001b[0m\n\u001b[0m\u001b[0;32m    463\u001b[0m \u001b[1;33m\u001b[0m\u001b[0m\n\u001b[0;32m    464\u001b[0m     \u001b[1;32mif\u001b[0m \u001b[0mchunksize\u001b[0m \u001b[1;32mor\u001b[0m \u001b[0miterator\u001b[0m\u001b[1;33m:\u001b[0m\u001b[1;33m\u001b[0m\u001b[1;33m\u001b[0m\u001b[0m\n",
      "\u001b[1;32mD:\\Anaconda\\lib\\site-packages\\pandas\\io\\parsers.py\u001b[0m in \u001b[0;36m__init__\u001b[1;34m(self, f, engine, **kwds)\u001b[0m\n\u001b[0;32m    817\u001b[0m             \u001b[0mself\u001b[0m\u001b[1;33m.\u001b[0m\u001b[0moptions\u001b[0m\u001b[1;33m[\u001b[0m\u001b[1;34m\"has_index_names\"\u001b[0m\u001b[1;33m]\u001b[0m \u001b[1;33m=\u001b[0m \u001b[0mkwds\u001b[0m\u001b[1;33m[\u001b[0m\u001b[1;34m\"has_index_names\"\u001b[0m\u001b[1;33m]\u001b[0m\u001b[1;33m\u001b[0m\u001b[1;33m\u001b[0m\u001b[0m\n\u001b[0;32m    818\u001b[0m \u001b[1;33m\u001b[0m\u001b[0m\n\u001b[1;32m--> 819\u001b[1;33m         \u001b[0mself\u001b[0m\u001b[1;33m.\u001b[0m\u001b[0m_engine\u001b[0m \u001b[1;33m=\u001b[0m \u001b[0mself\u001b[0m\u001b[1;33m.\u001b[0m\u001b[0m_make_engine\u001b[0m\u001b[1;33m(\u001b[0m\u001b[0mself\u001b[0m\u001b[1;33m.\u001b[0m\u001b[0mengine\u001b[0m\u001b[1;33m)\u001b[0m\u001b[1;33m\u001b[0m\u001b[1;33m\u001b[0m\u001b[0m\n\u001b[0m\u001b[0;32m    820\u001b[0m \u001b[1;33m\u001b[0m\u001b[0m\n\u001b[0;32m    821\u001b[0m     \u001b[1;32mdef\u001b[0m \u001b[0mclose\u001b[0m\u001b[1;33m(\u001b[0m\u001b[0mself\u001b[0m\u001b[1;33m)\u001b[0m\u001b[1;33m:\u001b[0m\u001b[1;33m\u001b[0m\u001b[1;33m\u001b[0m\u001b[0m\n",
      "\u001b[1;32mD:\\Anaconda\\lib\\site-packages\\pandas\\io\\parsers.py\u001b[0m in \u001b[0;36m_make_engine\u001b[1;34m(self, engine)\u001b[0m\n\u001b[0;32m   1048\u001b[0m             )\n\u001b[0;32m   1049\u001b[0m         \u001b[1;31m# error: Too many arguments for \"ParserBase\"\u001b[0m\u001b[1;33m\u001b[0m\u001b[1;33m\u001b[0m\u001b[1;33m\u001b[0m\u001b[0m\n\u001b[1;32m-> 1050\u001b[1;33m         \u001b[1;32mreturn\u001b[0m \u001b[0mmapping\u001b[0m\u001b[1;33m[\u001b[0m\u001b[0mengine\u001b[0m\u001b[1;33m]\u001b[0m\u001b[1;33m(\u001b[0m\u001b[0mself\u001b[0m\u001b[1;33m.\u001b[0m\u001b[0mf\u001b[0m\u001b[1;33m,\u001b[0m \u001b[1;33m**\u001b[0m\u001b[0mself\u001b[0m\u001b[1;33m.\u001b[0m\u001b[0moptions\u001b[0m\u001b[1;33m)\u001b[0m  \u001b[1;31m# type: ignore[call-arg]\u001b[0m\u001b[1;33m\u001b[0m\u001b[1;33m\u001b[0m\u001b[0m\n\u001b[0m\u001b[0;32m   1051\u001b[0m \u001b[1;33m\u001b[0m\u001b[0m\n\u001b[0;32m   1052\u001b[0m     \u001b[1;32mdef\u001b[0m \u001b[0m_failover_to_python\u001b[0m\u001b[1;33m(\u001b[0m\u001b[0mself\u001b[0m\u001b[1;33m)\u001b[0m\u001b[1;33m:\u001b[0m\u001b[1;33m\u001b[0m\u001b[1;33m\u001b[0m\u001b[0m\n",
      "\u001b[1;32mD:\\Anaconda\\lib\\site-packages\\pandas\\io\\parsers.py\u001b[0m in \u001b[0;36m__init__\u001b[1;34m(self, src, **kwds)\u001b[0m\n\u001b[0;32m   1865\u001b[0m \u001b[1;33m\u001b[0m\u001b[0m\n\u001b[0;32m   1866\u001b[0m         \u001b[1;31m# open handles\u001b[0m\u001b[1;33m\u001b[0m\u001b[1;33m\u001b[0m\u001b[1;33m\u001b[0m\u001b[0m\n\u001b[1;32m-> 1867\u001b[1;33m         \u001b[0mself\u001b[0m\u001b[1;33m.\u001b[0m\u001b[0m_open_handles\u001b[0m\u001b[1;33m(\u001b[0m\u001b[0msrc\u001b[0m\u001b[1;33m,\u001b[0m \u001b[0mkwds\u001b[0m\u001b[1;33m)\u001b[0m\u001b[1;33m\u001b[0m\u001b[1;33m\u001b[0m\u001b[0m\n\u001b[0m\u001b[0;32m   1868\u001b[0m         \u001b[1;32massert\u001b[0m \u001b[0mself\u001b[0m\u001b[1;33m.\u001b[0m\u001b[0mhandles\u001b[0m \u001b[1;32mis\u001b[0m \u001b[1;32mnot\u001b[0m \u001b[1;32mNone\u001b[0m\u001b[1;33m\u001b[0m\u001b[1;33m\u001b[0m\u001b[0m\n\u001b[0;32m   1869\u001b[0m         \u001b[1;32mfor\u001b[0m \u001b[0mkey\u001b[0m \u001b[1;32min\u001b[0m \u001b[1;33m(\u001b[0m\u001b[1;34m\"storage_options\"\u001b[0m\u001b[1;33m,\u001b[0m \u001b[1;34m\"encoding\"\u001b[0m\u001b[1;33m,\u001b[0m \u001b[1;34m\"memory_map\"\u001b[0m\u001b[1;33m,\u001b[0m \u001b[1;34m\"compression\"\u001b[0m\u001b[1;33m)\u001b[0m\u001b[1;33m:\u001b[0m\u001b[1;33m\u001b[0m\u001b[1;33m\u001b[0m\u001b[0m\n",
      "\u001b[1;32mD:\\Anaconda\\lib\\site-packages\\pandas\\io\\parsers.py\u001b[0m in \u001b[0;36m_open_handles\u001b[1;34m(self, src, kwds)\u001b[0m\n\u001b[0;32m   1360\u001b[0m         \u001b[0mLet\u001b[0m \u001b[0mthe\u001b[0m \u001b[0mreaders\u001b[0m \u001b[0mopen\u001b[0m \u001b[0mIOHanldes\u001b[0m \u001b[0mafter\u001b[0m \u001b[0mthey\u001b[0m \u001b[0mare\u001b[0m \u001b[0mdone\u001b[0m \u001b[1;32mwith\u001b[0m \u001b[0mtheir\u001b[0m \u001b[0mpotential\u001b[0m \u001b[0mraises\u001b[0m\u001b[1;33m.\u001b[0m\u001b[1;33m\u001b[0m\u001b[1;33m\u001b[0m\u001b[0m\n\u001b[0;32m   1361\u001b[0m         \"\"\"\n\u001b[1;32m-> 1362\u001b[1;33m         self.handles = get_handle(\n\u001b[0m\u001b[0;32m   1363\u001b[0m             \u001b[0msrc\u001b[0m\u001b[1;33m,\u001b[0m\u001b[1;33m\u001b[0m\u001b[1;33m\u001b[0m\u001b[0m\n\u001b[0;32m   1364\u001b[0m             \u001b[1;34m\"r\"\u001b[0m\u001b[1;33m,\u001b[0m\u001b[1;33m\u001b[0m\u001b[1;33m\u001b[0m\u001b[0m\n",
      "\u001b[1;32mD:\\Anaconda\\lib\\site-packages\\pandas\\io\\common.py\u001b[0m in \u001b[0;36mget_handle\u001b[1;34m(path_or_buf, mode, encoding, compression, memory_map, is_text, errors, storage_options)\u001b[0m\n\u001b[0;32m    640\u001b[0m                 \u001b[0merrors\u001b[0m \u001b[1;33m=\u001b[0m \u001b[1;34m\"replace\"\u001b[0m\u001b[1;33m\u001b[0m\u001b[1;33m\u001b[0m\u001b[0m\n\u001b[0;32m    641\u001b[0m             \u001b[1;31m# Encoding\u001b[0m\u001b[1;33m\u001b[0m\u001b[1;33m\u001b[0m\u001b[1;33m\u001b[0m\u001b[0m\n\u001b[1;32m--> 642\u001b[1;33m             handle = open(\n\u001b[0m\u001b[0;32m    643\u001b[0m                 \u001b[0mhandle\u001b[0m\u001b[1;33m,\u001b[0m\u001b[1;33m\u001b[0m\u001b[1;33m\u001b[0m\u001b[0m\n\u001b[0;32m    644\u001b[0m                 \u001b[0mioargs\u001b[0m\u001b[1;33m.\u001b[0m\u001b[0mmode\u001b[0m\u001b[1;33m,\u001b[0m\u001b[1;33m\u001b[0m\u001b[1;33m\u001b[0m\u001b[0m\n",
      "\u001b[1;31mFileNotFoundError\u001b[0m: [Errno 2] No such file or directory: 'healthcare-dataset-stroke-data.csv'"
     ]
    }
   ],
   "source": [
    "df = pd.read_csv(\"healthcare-dataset-stroke-data.csv\", sep =',',  header =0)\n",
    "print(type(df))"
   ]
  },
  {
   "cell_type": "markdown",
   "id": "14fb0d4e",
   "metadata": {
    "id": "B8xYZHPi6b4v",
    "papermill": {
     "duration": 0.051708,
     "end_time": "2021-05-25T12:30:50.673789",
     "exception": false,
     "start_time": "2021-05-25T12:30:50.622081",
     "status": "completed"
    },
    "tags": []
   },
   "source": [
    "# III . DATA DESCRIPTION"
   ]
  },
  {
   "cell_type": "markdown",
   "id": "9f5ebc4a",
   "metadata": {},
   "source": [
    "- Afficher une description générale des données (premières et dernières lignes)"
   ]
  },
  {
   "cell_type": "code",
   "execution_count": null,
   "id": "f4a0851f",
   "metadata": {},
   "outputs": [],
   "source": [
    "df.head(5110)"
   ]
  },
  {
   "cell_type": "markdown",
   "id": "0d866f9d",
   "metadata": {
    "id": "RPs2Skkf6yw3",
    "papermill": {
     "duration": 0.053071,
     "end_time": "2021-05-25T12:30:51.056994",
     "exception": false,
     "start_time": "2021-05-25T12:30:51.003923",
     "status": "completed"
    },
    "tags": []
   },
   "source": [
    "## 1. Data Dimension"
   ]
  },
  {
   "cell_type": "markdown",
   "id": "125ceeaa",
   "metadata": {},
   "source": [
    "- Afficher le shape des lignes et des colonnes du dataframe\n",
    "**nombrede ligne 5110*\n",
    "**nombre de colonnes: 12*"
   ]
  },
  {
   "cell_type": "code",
   "execution_count": null,
   "id": "d4b7d77d",
   "metadata": {},
   "outputs": [],
   "source": [
    "df.shape\n",
    "\n",
    "#nbL,nbC=df.shape\n",
    "#print (nbL,\"  \",nbC)\n"
   ]
  },
  {
   "cell_type": "markdown",
   "id": "f7d4c40e",
   "metadata": {},
   "source": [
    "## 2. Data types"
   ]
  },
  {
   "cell_type": "raw",
   "id": "853e51cb",
   "metadata": {},
   "source": [
    "2.1 - afficher les informations du dataframe"
   ]
  },
  {
   "cell_type": "code",
   "execution_count": null,
   "id": "bb89e033",
   "metadata": {},
   "outputs": [],
   "source": [
    "df.info()"
   ]
  },
  {
   "cell_type": "raw",
   "id": "63e7f3d4",
   "metadata": {},
   "source": [
    "2.2 - afficher les types de données dans chaque colonne"
   ]
  },
  {
   "cell_type": "code",
   "execution_count": null,
   "id": "1dfbcc82",
   "metadata": {},
   "outputs": [],
   "source": [
    "df.dtypes"
   ]
  },
  {
   "cell_type": "raw",
   "id": "7606b0f8",
   "metadata": {},
   "source": [
    "2.3 - parcourir les colonnes du dataframe (for) pour afficher leur type et le nombre de valeurs null (ou manquantes)"
   ]
  },
  {
   "cell_type": "code",
   "execution_count": null,
   "id": "0842842e",
   "metadata": {},
   "outputs": [],
   "source": [
    "for l in df.columns:\n",
    "    print (l,\"  \",df[l].dtype, \"  \", df[l].isnull().sum())"
   ]
  },
  {
   "cell_type": "markdown",
   "id": "b4353d02",
   "metadata": {},
   "source": [
    "\n",
    "\n",
    "\n",
    "\n",
    "2.4 - Supprimer la colonne Id qui n'est pas intéressante (df.drop(['col'], axis=1, inplace=True))\n",
    "\n",
    "Vérifier."
   ]
  },
  {
   "cell_type": "code",
   "execution_count": null,
   "id": "c75a1e59",
   "metadata": {},
   "outputs": [],
   "source": [
    "#df.drop(['id'], axis=1, inplace=True)\n",
    "df=df.drop(['id'], axis=1)\n",
    "df"
   ]
  },
  {
   "cell_type": "markdown",
   "id": "d00bf956",
   "metadata": {},
   "source": [
    "2.5 - vérifier la suppression"
   ]
  },
  {
   "cell_type": "code",
   "execution_count": null,
   "id": "bee9c143",
   "metadata": {},
   "outputs": [],
   "source": [
    "df"
   ]
  },
  {
   "cell_type": "raw",
   "id": "779aef37",
   "metadata": {},
   "source": [
    "2.6 - convertir le type de la colonne 'age' en int\n",
    "df['col'].astype(type)"
   ]
  },
  {
   "cell_type": "code",
   "execution_count": null,
   "id": "1019dbd9",
   "metadata": {},
   "outputs": [],
   "source": [
    "df['age'].astype('int64')\n",
    "#df.age.astype('int64')\n",
    "#df.age.astype(int)  ===> int32"
   ]
  },
  {
   "cell_type": "markdown",
   "id": "dcf10b8d",
   "metadata": {
    "id": "mAib9PiO8MuE",
    "papermill": {
     "duration": 0.056739,
     "end_time": "2021-05-25T12:30:51.757132",
     "exception": false,
     "start_time": "2021-05-25T12:30:51.700393",
     "status": "completed"
    },
    "tags": []
   },
   "source": [
    "##  3. Check NaN"
   ]
  },
  {
   "cell_type": "markdown",
   "id": "85181d9c",
   "metadata": {},
   "source": [
    "3.1 - Vérifier l'existance de valeurs manquantes"
   ]
  },
  {
   "cell_type": "code",
   "execution_count": null,
   "id": "71cc5749",
   "metadata": {},
   "outputs": [],
   "source": [
    "df.isna().any()\n",
    "#df.isnull().any()\n",
    "#df.isna()"
   ]
  },
  {
   "cell_type": "markdown",
   "id": "cb6373a9",
   "metadata": {},
   "source": [
    "3.2 - chercher le nombre de valeurs NaN dans chaque colonne et son nombre de valeurs"
   ]
  },
  {
   "cell_type": "code",
   "execution_count": null,
   "id": "d04069f4",
   "metadata": {},
   "outputs": [],
   "source": [
    "df.isnull().sum()"
   ]
  },
  {
   "cell_type": "markdown",
   "id": "f2586cc1",
   "metadata": {},
   "source": [
    "3.3 - Supprimer les nan dans la variable 'bmi'pour les remplacer par la moyenne des 'bmi'  \n",
    "**NB: utiliser la méthode fillna(...)**"
   ]
  },
  {
   "cell_type": "code",
   "execution_count": null,
   "id": "0af2c282",
   "metadata": {},
   "outputs": [],
   "source": [
    "df=df.fillna(df['bmi'].mean())\n",
    "df\n",
    "#ou bien df.fillna(df['bmi'].mean(),inplace=true)"
   ]
  },
  {
   "cell_type": "code",
   "execution_count": null,
   "id": "94c66281",
   "metadata": {
    "scrolled": true
   },
   "outputs": [],
   "source": [
    "#!pip install scikit-learn"
   ]
  },
  {
   "cell_type": "raw",
   "id": "0f7616cb",
   "metadata": {},
   "source": [
    "df = pd.read_csv(\"healthcare-dataset-stroke-data.csv\", sep =',',  header =0)\n",
    "df.drop(['id'], axis=1, inplace=True)\n",
    "X=df.iloc[:,:-1] \n",
    "Y=df.iloc[:,-1] \n",
    "X=X.values\n",
    "Y=Y.values\n",
    "X[1]"
   ]
  },
  {
   "cell_type": "raw",
   "id": "7125da11",
   "metadata": {},
   "source": [
    "from sklearn.impute import SimpleImputer\n",
    "imp = SimpleImputer(missing_values=np.nan, strategy='mean')\n",
    "idf=pd.DataFrame(imp.fit_transform(X[:,[8]]))\n",
    "X[:,[8]]=imp.transform ( X[:,[8]]  )\n",
    "X[1]"
   ]
  },
  {
   "cell_type": "markdown",
   "id": "3f8688f9",
   "metadata": {},
   "source": [
    "3.4 - Afficher le nombre lignes pour chaque classe de la colonne Stroke"
   ]
  },
  {
   "cell_type": "code",
   "execution_count": null,
   "id": "500708b3",
   "metadata": {},
   "outputs": [],
   "source": [
    "df['stroke'].value_counts()"
   ]
  },
  {
   "cell_type": "markdown",
   "id": "f408fc45",
   "metadata": {},
   "source": [
    "3.5 - afficher le nombre de femme et d'homme (gender) dans le dataframe"
   ]
  },
  {
   "cell_type": "code",
   "execution_count": null,
   "id": "316bfe1a",
   "metadata": {},
   "outputs": [],
   "source": [
    "df.gender.value_counts()"
   ]
  },
  {
   "cell_type": "markdown",
   "id": "27a7e9f4",
   "metadata": {},
   "source": [
    "3.6 - afficher le nombre de personnes mariées"
   ]
  },
  {
   "cell_type": "code",
   "execution_count": null,
   "id": "766a58ac",
   "metadata": {},
   "outputs": [],
   "source": [
    "#len(df.loc[df['ever_married']=='Yes'])\n",
    "#df.ever_married.value_counts()\n",
    "#df.ever_married.value_counts().Yes\n",
    "'''d=df.groupby('ever_married')\n",
    "d.get_group('Yes').shape'''\n",
    "df[df['ever_married']=='Yes'].shape[0]"
   ]
  },
  {
   "cell_type": "markdown",
   "id": "5effd305",
   "metadata": {
    "id": "7EVxNV9-kU1D",
    "papermill": {
     "duration": 0.055759,
     "end_time": "2021-05-25T12:30:52.406713",
     "exception": false,
     "start_time": "2021-05-25T12:30:52.350954",
     "status": "completed"
    },
    "tags": []
   },
   "source": [
    "## 4. Descriptive Statistical"
   ]
  },
  {
   "cell_type": "markdown",
   "id": "0648f55c",
   "metadata": {},
   "source": [
    "4.1 - examiner le rapport entre le type de travail et le stroke (pandas.crosstab(...))"
   ]
  },
  {
   "cell_type": "code",
   "execution_count": null,
   "id": "512e195c",
   "metadata": {},
   "outputs": [],
   "source": [
    "pd.crosstab(df['work_type'],df['stroke'])"
   ]
  },
  {
   "cell_type": "markdown",
   "id": "9531c09b",
   "metadata": {},
   "source": [
    "4.2 - visualiser ce rapport avec df.plot.scatter(...) puis avec sns.countplot(..)"
   ]
  },
  {
   "cell_type": "code",
   "execution_count": null,
   "id": "3af40d22",
   "metadata": {},
   "outputs": [],
   "source": [
    "#df.plot.scatter(x='work_type',y='stroke')\n",
    "#df.plot.scatter(x='work_type',y='age')\n",
    "df.plot.scatter(x='avg_glucose_level',y='age')"
   ]
  },
  {
   "cell_type": "code",
   "execution_count": null,
   "id": "9ab62e9e",
   "metadata": {},
   "outputs": [],
   "source": [
    "sns.countplot(data=df,x='work_type',hue='stroke')"
   ]
  },
  {
   "cell_type": "markdown",
   "id": "c38e6631",
   "metadata": {
    "id": "PDuWjpXDvuny",
    "papermill": {
     "duration": 0.058168,
     "end_time": "2021-05-25T12:30:53.658545",
     "exception": false,
     "start_time": "2021-05-25T12:30:53.600377",
     "status": "completed"
    },
    "tags": []
   },
   "source": [
    "## 5. Numerical Variable"
   ]
  },
  {
   "cell_type": "markdown",
   "id": "f71ef6a5",
   "metadata": {},
   "source": [
    "5.1 - créer un dataframe 'df_num' intermediaire contenant les variables numérique seulement"
   ]
  },
  {
   "cell_type": "code",
   "execution_count": null,
   "id": "dad6d1bc",
   "metadata": {},
   "outputs": [],
   "source": [
    "df_num=df.select_dtypes(exclude=['object'])\n",
    "\n",
    "#df_num=df.select_dtypes(include=['number'])\n",
    "\n",
    "#list=['age', 'avg_glucose_level', 'bmi']\n",
    "#df_num = df[list]"
   ]
  },
  {
   "cell_type": "markdown",
   "id": "649f5f31",
   "metadata": {},
   "source": [
    "5.2- créer un dataframe 'df_cat' intermediaire contenant les variables catégorielles seulement"
   ]
  },
  {
   "cell_type": "code",
   "execution_count": 3,
   "id": "4b7962fc",
   "metadata": {},
   "outputs": [
    {
     "ename": "NameError",
     "evalue": "name 'df' is not defined",
     "output_type": "error",
     "traceback": [
      "\u001b[1;31m---------------------------------------------------------------------------\u001b[0m",
      "\u001b[1;31mNameError\u001b[0m                                 Traceback (most recent call last)",
      "\u001b[1;32m<ipython-input-3-213db40d155a>\u001b[0m in \u001b[0;36m<module>\u001b[1;34m\u001b[0m\n\u001b[1;32m----> 1\u001b[1;33m \u001b[0mdf_cat\u001b[0m\u001b[1;33m=\u001b[0m\u001b[0mdf\u001b[0m\u001b[1;33m.\u001b[0m\u001b[0mselect_dtypes\u001b[0m\u001b[1;33m(\u001b[0m\u001b[0minclude\u001b[0m\u001b[1;33m=\u001b[0m\u001b[1;33m[\u001b[0m\u001b[1;34m'object'\u001b[0m\u001b[1;33m]\u001b[0m\u001b[1;33m)\u001b[0m\u001b[1;33m\u001b[0m\u001b[1;33m\u001b[0m\u001b[0m\n\u001b[0m\u001b[0;32m      2\u001b[0m \u001b[1;31m#df_cat = df[['gender', 'hypertension', 'heart_disease', 'ever_married',\u001b[0m\u001b[1;33m\u001b[0m\u001b[1;33m\u001b[0m\u001b[1;33m\u001b[0m\u001b[0m\n\u001b[0;32m      3\u001b[0m \u001b[1;31m#                             'work_type', 'Residence_type', 'smoking_status']]\u001b[0m\u001b[1;33m\u001b[0m\u001b[1;33m\u001b[0m\u001b[1;33m\u001b[0m\u001b[0m\n",
      "\u001b[1;31mNameError\u001b[0m: name 'df' is not defined"
     ]
    }
   ],
   "source": [
    "df_cat=df.select_dtypes(include=['object'])\n",
    "#df_cat = df[['gender', 'hypertension', 'heart_disease', 'ever_married',\n",
    "#                             'work_type', 'Residence_type', 'smoking_status']]"
   ]
  },
  {
   "cell_type": "code",
   "execution_count": 4,
   "id": "ed25cb36",
   "metadata": {},
   "outputs": [
    {
     "ename": "NameError",
     "evalue": "name 'df_cat' is not defined",
     "output_type": "error",
     "traceback": [
      "\u001b[1;31m---------------------------------------------------------------------------\u001b[0m",
      "\u001b[1;31mNameError\u001b[0m                                 Traceback (most recent call last)",
      "\u001b[1;32m<ipython-input-4-2b988f342253>\u001b[0m in \u001b[0;36m<module>\u001b[1;34m\u001b[0m\n\u001b[0;32m      1\u001b[0m \u001b[1;31m#pour vérifier\u001b[0m\u001b[1;33m\u001b[0m\u001b[1;33m\u001b[0m\u001b[1;33m\u001b[0m\u001b[0m\n\u001b[1;32m----> 2\u001b[1;33m \u001b[0mdf_cat\u001b[0m\u001b[1;33m.\u001b[0m\u001b[0mcolumns\u001b[0m\u001b[1;33m\u001b[0m\u001b[1;33m\u001b[0m\u001b[0m\n\u001b[0m",
      "\u001b[1;31mNameError\u001b[0m: name 'df_cat' is not defined"
     ]
    }
   ],
   "source": [
    "#pour vérifier\n",
    "df_cat.columns"
   ]
  },
  {
   "cell_type": "markdown",
   "id": "9cb9b931",
   "metadata": {},
   "source": [
    "5.3 - Afficher en histogrammes les statistiques des variables numériques (df.hist(...))"
   ]
  },
  {
   "cell_type": "code",
   "execution_count": 5,
   "id": "d8bc8d19",
   "metadata": {
    "scrolled": true
   },
   "outputs": [
    {
     "ename": "NameError",
     "evalue": "name 'df_num' is not defined",
     "output_type": "error",
     "traceback": [
      "\u001b[1;31m---------------------------------------------------------------------------\u001b[0m",
      "\u001b[1;31mNameError\u001b[0m                                 Traceback (most recent call last)",
      "\u001b[1;32m<ipython-input-5-06a63d7f3720>\u001b[0m in \u001b[0;36m<module>\u001b[1;34m\u001b[0m\n\u001b[1;32m----> 1\u001b[1;33m \u001b[0mdf_num\u001b[0m\u001b[1;33m.\u001b[0m\u001b[0mhist\u001b[0m\u001b[1;33m(\u001b[0m\u001b[0mfigsize\u001b[0m\u001b[1;33m=\u001b[0m\u001b[1;33m(\u001b[0m\u001b[1;36m10\u001b[0m\u001b[1;33m,\u001b[0m\u001b[1;36m10\u001b[0m\u001b[1;33m)\u001b[0m\u001b[1;33m)\u001b[0m\u001b[1;33m\u001b[0m\u001b[1;33m\u001b[0m\u001b[0m\n\u001b[0m",
      "\u001b[1;31mNameError\u001b[0m: name 'df_num' is not defined"
     ]
    }
   ],
   "source": [
    "df_num.hist(figsize=(10,10))"
   ]
  },
  {
   "cell_type": "code",
   "execution_count": 6,
   "id": "109a1ac7",
   "metadata": {},
   "outputs": [
    {
     "ename": "NameError",
     "evalue": "name 'df_num' is not defined",
     "output_type": "error",
     "traceback": [
      "\u001b[1;31m---------------------------------------------------------------------------\u001b[0m",
      "\u001b[1;31mNameError\u001b[0m                                 Traceback (most recent call last)",
      "\u001b[1;32m<ipython-input-6-04eecef9b195>\u001b[0m in \u001b[0;36m<module>\u001b[1;34m\u001b[0m\n\u001b[0;32m      3\u001b[0m \u001b[0mn_bins\u001b[0m \u001b[1;33m=\u001b[0m \u001b[1;36m10\u001b[0m\u001b[1;33m\u001b[0m\u001b[1;33m\u001b[0m\u001b[0m\n\u001b[0;32m      4\u001b[0m \u001b[0mfig\u001b[0m\u001b[1;33m,\u001b[0m \u001b[0maxs\u001b[0m \u001b[1;33m=\u001b[0m \u001b[0mplt\u001b[0m\u001b[1;33m.\u001b[0m\u001b[0msubplots\u001b[0m\u001b[1;33m(\u001b[0m\u001b[1;36m2\u001b[0m\u001b[1;33m,\u001b[0m \u001b[1;36m3\u001b[0m\u001b[1;33m)\u001b[0m\u001b[1;33m\u001b[0m\u001b[1;33m\u001b[0m\u001b[0m\n\u001b[1;32m----> 5\u001b[1;33m \u001b[0maxs\u001b[0m\u001b[1;33m[\u001b[0m\u001b[1;36m0\u001b[0m\u001b[1;33m,\u001b[0m\u001b[1;36m0\u001b[0m\u001b[1;33m]\u001b[0m\u001b[1;33m.\u001b[0m\u001b[0mhist\u001b[0m\u001b[1;33m(\u001b[0m\u001b[0mdf_num\u001b[0m\u001b[1;33m[\u001b[0m\u001b[1;34m'age'\u001b[0m\u001b[1;33m]\u001b[0m\u001b[1;33m,\u001b[0m \u001b[0mbins\u001b[0m \u001b[1;33m=\u001b[0m \u001b[0mn_bins\u001b[0m\u001b[1;33m)\u001b[0m\u001b[1;33m;\u001b[0m\u001b[1;33m\u001b[0m\u001b[1;33m\u001b[0m\u001b[0m\n\u001b[0m\u001b[0;32m      6\u001b[0m \u001b[0maxs\u001b[0m\u001b[1;33m[\u001b[0m\u001b[1;36m0\u001b[0m\u001b[1;33m,\u001b[0m\u001b[1;36m0\u001b[0m\u001b[1;33m]\u001b[0m\u001b[1;33m.\u001b[0m\u001b[0mset_title\u001b[0m\u001b[1;33m(\u001b[0m\u001b[1;34m'Age'\u001b[0m\u001b[1;33m)\u001b[0m\u001b[1;33m;\u001b[0m\u001b[1;33m\u001b[0m\u001b[1;33m\u001b[0m\u001b[0m\n\u001b[0;32m      7\u001b[0m \u001b[0maxs\u001b[0m\u001b[1;33m[\u001b[0m\u001b[1;36m0\u001b[0m\u001b[1;33m,\u001b[0m\u001b[1;36m1\u001b[0m\u001b[1;33m]\u001b[0m\u001b[1;33m.\u001b[0m\u001b[0mhist\u001b[0m\u001b[1;33m(\u001b[0m\u001b[0mdf_num\u001b[0m\u001b[1;33m[\u001b[0m\u001b[1;34m'hypertension'\u001b[0m\u001b[1;33m]\u001b[0m\u001b[1;33m,\u001b[0m \u001b[0mbins\u001b[0m \u001b[1;33m=\u001b[0m \u001b[0mn_bins\u001b[0m\u001b[1;33m)\u001b[0m\u001b[1;33m;\u001b[0m\u001b[1;33m\u001b[0m\u001b[1;33m\u001b[0m\u001b[0m\n",
      "\u001b[1;31mNameError\u001b[0m: name 'df_num' is not defined"
     ]
    },
    {
     "data": {
      "image/png": "[encoded data removed]",
      "text/plain": [
       "<Figure size 432x288 with 6 Axes>"
      ]
     },
     "metadata": {
      "needs_background": "light"
     },
     "output_type": "display_data"
    }
   ],
   "source": [
    "import matplotlib.pyplot as plt\n",
    "\n",
    "n_bins = 10\n",
    "fig, axs = plt.subplots(2, 3)\n",
    "axs[0,0].hist(df_num['age'], bins = n_bins);\n",
    "axs[0,0].set_title('Age');\n",
    "axs[0,1].hist(df_num['hypertension'], bins = n_bins);\n",
    "axs[0,1].set_title('Hypertension');\n",
    "axs[1,0].hist(df_num['heart_disease'], bins = n_bins);\n",
    "axs[1,0].set_title('heart_disease');\n",
    "axs[1,1].hist(df_num['avg_glucose_level'], bins = n_bins);\n",
    "axs[1,1].set_title('avg_glucose_level');\n",
    "axs[1,1].hist(df_num['bmi'], bins = n_bins);\n",
    "axs[1,1].set_title('bmi');\n",
    "# add some spacing between subplots\n",
    "fig.tight_layout(pad=1.0);"
   ]
  },
  {
   "cell_type": "markdown",
   "id": "d5762bed",
   "metadata": {},
   "source": [
    "5.4 - Afficher en barres le nombre d'observations de la variable catégorique 'stroke' (sns.countplot(...)."
   ]
  },
  {
   "cell_type": "code",
   "execution_count": null,
   "id": "7e58a22c",
   "metadata": {},
   "outputs": [],
   "source": [
    "plt.figure(figsize=(5,5))\n",
    "sns.countplot(x='stroke', data=df_num);"
   ]
  },
  {
   "cell_type": "markdown",
   "id": "e5812c3a",
   "metadata": {
    "id": "1w050uPx0ZSr",
    "papermill": {
     "duration": 0.058582,
     "end_time": "2021-05-25T12:30:54.898464",
     "exception": false,
     "start_time": "2021-05-25T12:30:54.839882",
     "status": "completed"
    },
    "tags": []
   },
   "source": [
    "# IV. Visualisation and cleaning data"
   ]
  },
  {
   "cell_type": "markdown",
   "id": "27ebd5dc",
   "metadata": {},
   "source": [
    "1 - Afficher quelque boîtes à moustaches (boxplot) "
   ]
  },
  {
   "cell_type": "code",
   "execution_count": 7,
   "id": "7975c63d",
   "metadata": {},
   "outputs": [
    {
     "ename": "NameError",
     "evalue": "name 'df_num' is not defined",
     "output_type": "error",
     "traceback": [
      "\u001b[1;31m---------------------------------------------------------------------------\u001b[0m",
      "\u001b[1;31mNameError\u001b[0m                                 Traceback (most recent call last)",
      "\u001b[1;32m<ipython-input-7-c25f582669e3>\u001b[0m in \u001b[0;36m<module>\u001b[1;34m\u001b[0m\n\u001b[1;32m----> 1\u001b[1;33m \u001b[0msns\u001b[0m\u001b[1;33m.\u001b[0m\u001b[0mboxplot\u001b[0m\u001b[1;33m(\u001b[0m\u001b[0mdf_num\u001b[0m\u001b[1;33m[\u001b[0m\u001b[1;34m'age'\u001b[0m\u001b[1;33m]\u001b[0m\u001b[1;33m)\u001b[0m\u001b[1;33m\u001b[0m\u001b[1;33m\u001b[0m\u001b[0m\n\u001b[0m",
      "\u001b[1;31mNameError\u001b[0m: name 'df_num' is not defined"
     ]
    }
   ],
   "source": [
    "sns.boxplot(df_num['age'])"
   ]
  },
  {
   "cell_type": "code",
   "execution_count": 8,
   "id": "4adbbb6a",
   "metadata": {
    "execution": {
     "iopub.execute_input": "2021-05-25T12:30:55.024925Z",
     "iopub.status.busy": "2021-05-25T12:30:55.023951Z",
     "iopub.status.idle": "2021-05-25T12:30:55.193318Z",
     "shell.execute_reply": "2021-05-25T12:30:55.192252Z",
     "shell.execute_reply.started": "2021-05-24T14:36:57.068192Z"
    },
    "id": "leqwxXvQVPwn",
    "outputId": "5965c159-8102-4385-8c60-60a02f096db6",
    "papermill": {
     "duration": 0.235691,
     "end_time": "2021-05-25T12:30:55.193475",
     "exception": false,
     "start_time": "2021-05-25T12:30:54.957784",
     "status": "completed"
    },
    "scrolled": true,
    "tags": []
   },
   "outputs": [
    {
     "ename": "NameError",
     "evalue": "name 'df_num' is not defined",
     "output_type": "error",
     "traceback": [
      "\u001b[1;31m---------------------------------------------------------------------------\u001b[0m",
      "\u001b[1;31mNameError\u001b[0m                                 Traceback (most recent call last)",
      "\u001b[1;32m<ipython-input-8-58299301a1d0>\u001b[0m in \u001b[0;36m<module>\u001b[1;34m\u001b[0m\n\u001b[1;32m----> 1\u001b[1;33m \u001b[0msns\u001b[0m\u001b[1;33m.\u001b[0m\u001b[0mboxplot\u001b[0m\u001b[1;33m(\u001b[0m\u001b[0mdata\u001b[0m \u001b[1;33m=\u001b[0m \u001b[0mdf_num\u001b[0m\u001b[1;33m)\u001b[0m\u001b[1;33m\u001b[0m\u001b[1;33m\u001b[0m\u001b[0m\n\u001b[0m",
      "\u001b[1;31mNameError\u001b[0m: name 'df_num' is not defined"
     ]
    }
   ],
   "source": [
    "sns.boxplot(data = df_num)"
   ]
  },
  {
   "cell_type": "code",
   "execution_count": 9,
   "id": "5a4fb8ce",
   "metadata": {},
   "outputs": [
    {
     "ename": "NameError",
     "evalue": "name 'df_num' is not defined",
     "output_type": "error",
     "traceback": [
      "\u001b[1;31m---------------------------------------------------------------------------\u001b[0m",
      "\u001b[1;31mNameError\u001b[0m                                 Traceback (most recent call last)",
      "\u001b[1;32m<ipython-input-9-77ff0433e823>\u001b[0m in \u001b[0;36m<module>\u001b[1;34m\u001b[0m\n\u001b[0;32m      2\u001b[0m \u001b[1;33m\u001b[0m\u001b[0m\n\u001b[0;32m      3\u001b[0m \u001b[0mcn\u001b[0m \u001b[1;33m=\u001b[0m \u001b[1;33m[\u001b[0m\u001b[1;36m0\u001b[0m\u001b[1;33m,\u001b[0m \u001b[1;36m1\u001b[0m\u001b[1;33m]\u001b[0m\u001b[1;33m\u001b[0m\u001b[1;33m\u001b[0m\u001b[0m\n\u001b[1;32m----> 4\u001b[1;33m \u001b[0msns\u001b[0m\u001b[1;33m.\u001b[0m\u001b[0mboxplot\u001b[0m\u001b[1;33m(\u001b[0m\u001b[0mx\u001b[0m \u001b[1;33m=\u001b[0m \u001b[1;34m'stroke'\u001b[0m\u001b[1;33m,\u001b[0m \u001b[0my\u001b[0m \u001b[1;33m=\u001b[0m \u001b[1;34m'age'\u001b[0m\u001b[1;33m,\u001b[0m \u001b[0mdata\u001b[0m \u001b[1;33m=\u001b[0m \u001b[0mdf_num\u001b[0m\u001b[1;33m,\u001b[0m \u001b[0morder\u001b[0m \u001b[1;33m=\u001b[0m \u001b[0mcn\u001b[0m\u001b[1;33m,\u001b[0m \u001b[0max\u001b[0m \u001b[1;33m=\u001b[0m \u001b[0maxs\u001b[0m\u001b[1;33m[\u001b[0m\u001b[1;36m0\u001b[0m\u001b[1;33m,\u001b[0m\u001b[1;36m0\u001b[0m\u001b[1;33m]\u001b[0m\u001b[1;33m)\u001b[0m\u001b[1;33m;\u001b[0m\u001b[1;33m\u001b[0m\u001b[1;33m\u001b[0m\u001b[0m\n\u001b[0m\u001b[0;32m      5\u001b[0m \u001b[0msns\u001b[0m\u001b[1;33m.\u001b[0m\u001b[0mboxplot\u001b[0m\u001b[1;33m(\u001b[0m\u001b[0mx\u001b[0m \u001b[1;33m=\u001b[0m \u001b[1;34m'stroke'\u001b[0m\u001b[1;33m,\u001b[0m \u001b[0my\u001b[0m \u001b[1;33m=\u001b[0m \u001b[1;34m'hypertension'\u001b[0m\u001b[1;33m,\u001b[0m \u001b[0mdata\u001b[0m \u001b[1;33m=\u001b[0m \u001b[0mdf_num\u001b[0m\u001b[1;33m,\u001b[0m \u001b[0morder\u001b[0m \u001b[1;33m=\u001b[0m \u001b[0mcn\u001b[0m\u001b[1;33m,\u001b[0m \u001b[0max\u001b[0m \u001b[1;33m=\u001b[0m \u001b[0maxs\u001b[0m\u001b[1;33m[\u001b[0m\u001b[1;36m0\u001b[0m\u001b[1;33m,\u001b[0m\u001b[1;36m1\u001b[0m\u001b[1;33m]\u001b[0m\u001b[1;33m)\u001b[0m\u001b[1;33m;\u001b[0m\u001b[1;33m\u001b[0m\u001b[1;33m\u001b[0m\u001b[0m\n\u001b[0;32m      6\u001b[0m \u001b[0msns\u001b[0m\u001b[1;33m.\u001b[0m\u001b[0mboxplot\u001b[0m\u001b[1;33m(\u001b[0m\u001b[0mx\u001b[0m \u001b[1;33m=\u001b[0m \u001b[1;34m'stroke'\u001b[0m\u001b[1;33m,\u001b[0m \u001b[0my\u001b[0m \u001b[1;33m=\u001b[0m \u001b[1;34m'heart_disease'\u001b[0m\u001b[1;33m,\u001b[0m \u001b[0mdata\u001b[0m \u001b[1;33m=\u001b[0m \u001b[0mdf_num\u001b[0m\u001b[1;33m,\u001b[0m \u001b[0morder\u001b[0m \u001b[1;33m=\u001b[0m \u001b[0mcn\u001b[0m\u001b[1;33m,\u001b[0m \u001b[0max\u001b[0m \u001b[1;33m=\u001b[0m \u001b[0maxs\u001b[0m\u001b[1;33m[\u001b[0m\u001b[1;36m1\u001b[0m\u001b[1;33m,\u001b[0m\u001b[1;36m0\u001b[0m\u001b[1;33m]\u001b[0m\u001b[1;33m)\u001b[0m\u001b[1;33m;\u001b[0m\u001b[1;33m\u001b[0m\u001b[1;33m\u001b[0m\u001b[0m\n",
      "\u001b[1;31mNameError\u001b[0m: name 'df_num' is not defined"
     ]
    },
    {
     "data": {
      "image/png": "[encoded data removed]",
      "text/plain": [
       "<Figure size 432x288 with 4 Axes>"
      ]
     },
     "metadata": {
      "needs_background": "light"
     },
     "output_type": "display_data"
    }
   ],
   "source": [
    "fig, axs = plt.subplots(2, 2)\n",
    "\n",
    "cn = [0, 1]\n",
    "sns.boxplot(x = 'stroke', y = 'age', data = df_num, order = cn, ax = axs[0,0]);\n",
    "sns.boxplot(x = 'stroke', y = 'hypertension', data = df_num, order = cn, ax = axs[0,1]);\n",
    "sns.boxplot(x = 'stroke', y = 'heart_disease', data = df_num, order = cn, ax = axs[1,0]);\n",
    "sns.boxplot(x = 'stroke', y = 'bmi', data = df_num,  order = cn, ax = axs[1,1]);\n",
    "# add some spacing between subplots\n",
    "fig.tight_layout(pad=1.0);"
   ]
  },
  {
   "cell_type": "markdown",
   "id": "daad0d8a",
   "metadata": {},
   "source": [
    "## IV.1 - traitement des valeurs aberrantes de la colonne 'bmi'"
   ]
  },
  {
   "cell_type": "markdown",
   "id": "455b36be",
   "metadata": {},
   "source": [
    "1. diagramme en moustache pour la colonne 'bmi' (boxplot)"
   ]
  },
  {
   "cell_type": "code",
   "execution_count": 10,
   "id": "eb77e579",
   "metadata": {},
   "outputs": [
    {
     "ename": "NameError",
     "evalue": "name 'df_num' is not defined",
     "output_type": "error",
     "traceback": [
      "\u001b[1;31m---------------------------------------------------------------------------\u001b[0m",
      "\u001b[1;31mNameError\u001b[0m                                 Traceback (most recent call last)",
      "\u001b[1;32m<ipython-input-10-8c2b5fd35e04>\u001b[0m in \u001b[0;36m<module>\u001b[1;34m\u001b[0m\n\u001b[0;32m      1\u001b[0m \u001b[0msns\u001b[0m\u001b[1;33m.\u001b[0m\u001b[0mset\u001b[0m\u001b[1;33m(\u001b[0m\u001b[0mstyle\u001b[0m\u001b[1;33m=\u001b[0m\u001b[1;34m'whitegrid'\u001b[0m\u001b[1;33m)\u001b[0m\u001b[1;33m\u001b[0m\u001b[1;33m\u001b[0m\u001b[0m\n\u001b[1;32m----> 2\u001b[1;33m \u001b[0max\u001b[0m\u001b[1;33m=\u001b[0m\u001b[0msns\u001b[0m\u001b[1;33m.\u001b[0m\u001b[0mboxplot\u001b[0m\u001b[1;33m(\u001b[0m\u001b[0mdata\u001b[0m\u001b[1;33m=\u001b[0m\u001b[0mdf_num\u001b[0m\u001b[1;33m[\u001b[0m\u001b[1;34m'bmi'\u001b[0m\u001b[1;33m]\u001b[0m\u001b[1;33m,\u001b[0m\u001b[0morient\u001b[0m\u001b[1;33m=\u001b[0m\u001b[1;34m'v'\u001b[0m\u001b[1;33m)\u001b[0m\u001b[1;33m\u001b[0m\u001b[1;33m\u001b[0m\u001b[0m\n\u001b[0m",
      "\u001b[1;31mNameError\u001b[0m: name 'df_num' is not defined"
     ]
    }
   ],
   "source": [
    "sns.set(style='whitegrid')\n",
    "ax=sns.boxplot(data=df_num['bmi'],orient='v')\n"
   ]
  },
  {
   "cell_type": "markdown",
   "id": "44fa92d9",
   "metadata": {},
   "source": [
    "2 - calculer les 4 quartiles (Q1,Q3,IRQ) et Sup, Inf"
   ]
  },
  {
   "cell_type": "code",
   "execution_count": 11,
   "id": "e50d76c1",
   "metadata": {},
   "outputs": [
    {
     "ename": "NameError",
     "evalue": "name 'df' is not defined",
     "output_type": "error",
     "traceback": [
      "\u001b[1;31m---------------------------------------------------------------------------\u001b[0m",
      "\u001b[1;31mNameError\u001b[0m                                 Traceback (most recent call last)",
      "\u001b[1;32m<ipython-input-11-00050f3ebd20>\u001b[0m in \u001b[0;36m<module>\u001b[1;34m\u001b[0m\n\u001b[1;32m----> 1\u001b[1;33m \u001b[0mQ1\u001b[0m\u001b[1;33m=\u001b[0m\u001b[0mdf\u001b[0m\u001b[1;33m[\u001b[0m\u001b[1;34m'bmi'\u001b[0m\u001b[1;33m]\u001b[0m\u001b[1;33m.\u001b[0m\u001b[0mquantile\u001b[0m\u001b[1;33m(\u001b[0m\u001b[1;36m0.25\u001b[0m\u001b[1;33m)\u001b[0m\u001b[1;33m\u001b[0m\u001b[1;33m\u001b[0m\u001b[0m\n\u001b[0m\u001b[0;32m      2\u001b[0m \u001b[0mQ1\u001b[0m\u001b[1;33m\u001b[0m\u001b[1;33m\u001b[0m\u001b[0m\n",
      "\u001b[1;31mNameError\u001b[0m: name 'df' is not defined"
     ]
    }
   ],
   "source": [
    "Q1=df['bmi'].quantile(0.25)\n",
    "Q1"
   ]
  },
  {
   "cell_type": "code",
   "execution_count": 12,
   "id": "49b16fdf",
   "metadata": {},
   "outputs": [
    {
     "ename": "NameError",
     "evalue": "name 'df' is not defined",
     "output_type": "error",
     "traceback": [
      "\u001b[1;31m---------------------------------------------------------------------------\u001b[0m",
      "\u001b[1;31mNameError\u001b[0m                                 Traceback (most recent call last)",
      "\u001b[1;32m<ipython-input-12-42aa0d5877d6>\u001b[0m in \u001b[0;36m<module>\u001b[1;34m\u001b[0m\n\u001b[1;32m----> 1\u001b[1;33m \u001b[0mQ3\u001b[0m\u001b[1;33m=\u001b[0m\u001b[0mdf\u001b[0m\u001b[1;33m[\u001b[0m\u001b[1;34m'bmi'\u001b[0m\u001b[1;33m]\u001b[0m\u001b[1;33m.\u001b[0m\u001b[0mquantile\u001b[0m\u001b[1;33m(\u001b[0m\u001b[1;36m0.75\u001b[0m\u001b[1;33m)\u001b[0m\u001b[1;33m\u001b[0m\u001b[1;33m\u001b[0m\u001b[0m\n\u001b[0m\u001b[0;32m      2\u001b[0m \u001b[0mQ3\u001b[0m\u001b[1;33m\u001b[0m\u001b[1;33m\u001b[0m\u001b[0m\n",
      "\u001b[1;31mNameError\u001b[0m: name 'df' is not defined"
     ]
    }
   ],
   "source": [
    "Q3=df['bmi'].quantile(0.75)\n",
    "Q3"
   ]
  },
  {
   "cell_type": "code",
   "execution_count": 13,
   "id": "eab57156",
   "metadata": {},
   "outputs": [
    {
     "ename": "NameError",
     "evalue": "name 'Q1' is not defined",
     "output_type": "error",
     "traceback": [
      "\u001b[1;31m---------------------------------------------------------------------------\u001b[0m",
      "\u001b[1;31mNameError\u001b[0m                                 Traceback (most recent call last)",
      "\u001b[1;32m<ipython-input-13-2ad66d5baf28>\u001b[0m in \u001b[0;36m<module>\u001b[1;34m\u001b[0m\n\u001b[1;32m----> 1\u001b[1;33m \u001b[0mQ2\u001b[0m \u001b[1;33m=\u001b[0m \u001b[1;33m(\u001b[0m\u001b[0mQ1\u001b[0m\u001b[1;33m+\u001b[0m\u001b[0mQ3\u001b[0m\u001b[1;33m)\u001b[0m \u001b[1;33m/\u001b[0m \u001b[1;36m2\u001b[0m\u001b[1;33m\u001b[0m\u001b[1;33m\u001b[0m\u001b[0m\n\u001b[0m\u001b[0;32m      2\u001b[0m \u001b[0mQ2\u001b[0m\u001b[1;33m\u001b[0m\u001b[1;33m\u001b[0m\u001b[0m\n",
      "\u001b[1;31mNameError\u001b[0m: name 'Q1' is not defined"
     ]
    }
   ],
   "source": [
    "Q2 = (Q1+Q3) / 2\n",
    "Q2"
   ]
  },
  {
   "cell_type": "code",
   "execution_count": 14,
   "id": "dbbd3899",
   "metadata": {},
   "outputs": [
    {
     "ename": "NameError",
     "evalue": "name 'Q3' is not defined",
     "output_type": "error",
     "traceback": [
      "\u001b[1;31m---------------------------------------------------------------------------\u001b[0m",
      "\u001b[1;31mNameError\u001b[0m                                 Traceback (most recent call last)",
      "\u001b[1;32m<ipython-input-14-97b123a59b2d>\u001b[0m in \u001b[0;36m<module>\u001b[1;34m\u001b[0m\n\u001b[1;32m----> 1\u001b[1;33m \u001b[0mIQR\u001b[0m\u001b[1;33m=\u001b[0m\u001b[0mQ3\u001b[0m\u001b[1;33m-\u001b[0m\u001b[0mQ1\u001b[0m\u001b[1;33m\u001b[0m\u001b[1;33m\u001b[0m\u001b[0m\n\u001b[0m",
      "\u001b[1;31mNameError\u001b[0m: name 'Q3' is not defined"
     ]
    }
   ],
   "source": [
    "IQR=Q3-Q1"
   ]
  },
  {
   "cell_type": "code",
   "execution_count": 15,
   "id": "9f09b942",
   "metadata": {},
   "outputs": [
    {
     "ename": "NameError",
     "evalue": "name 'Q1' is not defined",
     "output_type": "error",
     "traceback": [
      "\u001b[1;31m---------------------------------------------------------------------------\u001b[0m",
      "\u001b[1;31mNameError\u001b[0m                                 Traceback (most recent call last)",
      "\u001b[1;32m<ipython-input-15-2fc176f5c114>\u001b[0m in \u001b[0;36m<module>\u001b[1;34m\u001b[0m\n\u001b[1;32m----> 1\u001b[1;33m \u001b[0minf\u001b[0m\u001b[1;33m=\u001b[0m\u001b[0mQ1\u001b[0m\u001b[1;33m-\u001b[0m\u001b[1;36m1.5\u001b[0m\u001b[1;33m*\u001b[0m\u001b[0mIQR\u001b[0m\u001b[1;33m\u001b[0m\u001b[1;33m\u001b[0m\u001b[0m\n\u001b[0m\u001b[0;32m      2\u001b[0m \u001b[0minf\u001b[0m\u001b[1;33m\u001b[0m\u001b[1;33m\u001b[0m\u001b[0m\n",
      "\u001b[1;31mNameError\u001b[0m: name 'Q1' is not defined"
     ]
    }
   ],
   "source": [
    "inf=Q1-1.5*IQR\n",
    "inf"
   ]
  },
  {
   "cell_type": "code",
   "execution_count": 16,
   "id": "b9c9b81f",
   "metadata": {},
   "outputs": [
    {
     "ename": "NameError",
     "evalue": "name 'Q3' is not defined",
     "output_type": "error",
     "traceback": [
      "\u001b[1;31m---------------------------------------------------------------------------\u001b[0m",
      "\u001b[1;31mNameError\u001b[0m                                 Traceback (most recent call last)",
      "\u001b[1;32m<ipython-input-16-a34e702c0051>\u001b[0m in \u001b[0;36m<module>\u001b[1;34m\u001b[0m\n\u001b[1;32m----> 1\u001b[1;33m \u001b[0msup\u001b[0m\u001b[1;33m=\u001b[0m\u001b[0mQ3\u001b[0m\u001b[1;33m+\u001b[0m\u001b[1;36m1.5\u001b[0m\u001b[1;33m*\u001b[0m\u001b[0mIQR\u001b[0m\u001b[1;33m\u001b[0m\u001b[1;33m\u001b[0m\u001b[0m\n\u001b[0m\u001b[0;32m      2\u001b[0m \u001b[0msup\u001b[0m\u001b[1;33m\u001b[0m\u001b[1;33m\u001b[0m\u001b[0m\n",
      "\u001b[1;31mNameError\u001b[0m: name 'Q3' is not defined"
     ]
    }
   ],
   "source": [
    "sup=Q3+1.5*IQR\n",
    "sup"
   ]
  },
  {
   "cell_type": "markdown",
   "id": "e4bc3ba4",
   "metadata": {},
   "source": [
    "3- déduire le nombre de outliers"
   ]
  },
  {
   "cell_type": "code",
   "execution_count": 17,
   "id": "1895470e",
   "metadata": {},
   "outputs": [
    {
     "ename": "NameError",
     "evalue": "name 'df_num' is not defined",
     "output_type": "error",
     "traceback": [
      "\u001b[1;31m---------------------------------------------------------------------------\u001b[0m",
      "\u001b[1;31mNameError\u001b[0m                                 Traceback (most recent call last)",
      "\u001b[1;32m<ipython-input-17-82b2b87a4bee>\u001b[0m in \u001b[0;36m<module>\u001b[1;34m\u001b[0m\n\u001b[1;32m----> 1\u001b[1;33m \u001b[0mdf_num\u001b[0m\u001b[1;33m[\u001b[0m\u001b[0mdf_num\u001b[0m\u001b[1;33m[\u001b[0m\u001b[1;34m'bmi'\u001b[0m\u001b[1;33m]\u001b[0m\u001b[1;33m<\u001b[0m\u001b[0minf\u001b[0m \u001b[1;33m]\u001b[0m\u001b[1;33m.\u001b[0m\u001b[0mcount\u001b[0m\u001b[1;33m(\u001b[0m\u001b[1;33m)\u001b[0m\u001b[1;33m\u001b[0m\u001b[1;33m\u001b[0m\u001b[0m\n\u001b[0m",
      "\u001b[1;31mNameError\u001b[0m: name 'df_num' is not defined"
     ]
    }
   ],
   "source": [
    "df_num[df_num['bmi']<inf ].count()"
   ]
  },
  {
   "cell_type": "code",
   "execution_count": 18,
   "id": "b1f9b6c7",
   "metadata": {},
   "outputs": [
    {
     "ename": "NameError",
     "evalue": "name 'df_num' is not defined",
     "output_type": "error",
     "traceback": [
      "\u001b[1;31m---------------------------------------------------------------------------\u001b[0m",
      "\u001b[1;31mNameError\u001b[0m                                 Traceback (most recent call last)",
      "\u001b[1;32m<ipython-input-18-b6a6549720f0>\u001b[0m in \u001b[0;36m<module>\u001b[1;34m\u001b[0m\n\u001b[1;32m----> 1\u001b[1;33m \u001b[0mdf_num\u001b[0m\u001b[1;33m[\u001b[0m\u001b[0mdf_num\u001b[0m\u001b[1;33m[\u001b[0m\u001b[1;34m'bmi'\u001b[0m\u001b[1;33m]\u001b[0m\u001b[1;33m>\u001b[0m\u001b[0msup\u001b[0m \u001b[1;33m]\u001b[0m\u001b[1;33m.\u001b[0m\u001b[0mcount\u001b[0m\u001b[1;33m(\u001b[0m\u001b[1;33m)\u001b[0m\u001b[1;33m\u001b[0m\u001b[1;33m\u001b[0m\u001b[0m\n\u001b[0m",
      "\u001b[1;31mNameError\u001b[0m: name 'df_num' is not defined"
     ]
    }
   ],
   "source": [
    "df_num[df_num['bmi']>sup ].count()"
   ]
  },
  {
   "cell_type": "code",
   "execution_count": 19,
   "id": "c02997d0",
   "metadata": {},
   "outputs": [
    {
     "ename": "NameError",
     "evalue": "name 'df_num' is not defined",
     "output_type": "error",
     "traceback": [
      "\u001b[1;31m---------------------------------------------------------------------------\u001b[0m",
      "\u001b[1;31mNameError\u001b[0m                                 Traceback (most recent call last)",
      "\u001b[1;32m<ipython-input-19-a5082044606b>\u001b[0m in \u001b[0;36m<module>\u001b[1;34m\u001b[0m\n\u001b[1;32m----> 1\u001b[1;33m \u001b[0moutliers\u001b[0m\u001b[1;33m=\u001b[0m\u001b[1;33m[\u001b[0m\u001b[0mx\u001b[0m \u001b[1;32mfor\u001b[0m \u001b[0mx\u001b[0m \u001b[1;32min\u001b[0m \u001b[0mdf_num\u001b[0m\u001b[1;33m[\u001b[0m\u001b[1;34m\"bmi\"\u001b[0m\u001b[1;33m]\u001b[0m \u001b[1;32mif\u001b[0m \u001b[0mx\u001b[0m \u001b[1;33m<\u001b[0m\u001b[0minf\u001b[0m \u001b[1;32mor\u001b[0m \u001b[0mx\u001b[0m \u001b[1;33m>\u001b[0m \u001b[0msup\u001b[0m \u001b[1;33m]\u001b[0m\u001b[1;33m\u001b[0m\u001b[1;33m\u001b[0m\u001b[0m\n\u001b[0m\u001b[0;32m      2\u001b[0m \u001b[0mlen\u001b[0m\u001b[1;33m(\u001b[0m\u001b[0moutliers\u001b[0m\u001b[1;33m)\u001b[0m \u001b[1;31m#taille de la liste des outliers\u001b[0m\u001b[1;33m\u001b[0m\u001b[1;33m\u001b[0m\u001b[0m\n",
      "\u001b[1;31mNameError\u001b[0m: name 'df_num' is not defined"
     ]
    }
   ],
   "source": [
    "outliers=[x for x in df_num[\"bmi\"] if x <inf or x > sup ]\n",
    "len(outliers) #taille de la liste des outliers"
   ]
  },
  {
   "cell_type": "markdown",
   "id": "87f2f8af",
   "metadata": {},
   "source": [
    "4 - Ecrire une méthode drop_outliers() qui supprime les outliers du dataframe"
   ]
  },
  {
   "cell_type": "code",
   "execution_count": 20,
   "id": "942783e1",
   "metadata": {},
   "outputs": [],
   "source": [
    "def drop_outliers(data,field_name):\n",
    "    Q1=data[field_name].quantile(0.25)\n",
    "    Q3=data[field_name].quantile(0.75)\n",
    "    IQR=Q3-Q1\n",
    "    Inf = data[field_name].quantile(0.25)-1.5*IQR\n",
    "    Sup = data[field_name].quantile(0.75)+1.5*IQR\n",
    "    data.drop(data[data[field_name]>Sup].index,inplace=True)\n",
    "    data.drop(data[data[field_name]<Inf].index,inplace=True)\n",
    "    "
   ]
  },
  {
   "cell_type": "code",
   "execution_count": 21,
   "id": "ab6bce85",
   "metadata": {},
   "outputs": [
    {
     "ename": "NameError",
     "evalue": "name 'df_num' is not defined",
     "output_type": "error",
     "traceback": [
      "\u001b[1;31m---------------------------------------------------------------------------\u001b[0m",
      "\u001b[1;31mNameError\u001b[0m                                 Traceback (most recent call last)",
      "\u001b[1;32m<ipython-input-21-ee5f2dd9ef8a>\u001b[0m in \u001b[0;36m<module>\u001b[1;34m\u001b[0m\n\u001b[1;32m----> 1\u001b[1;33m \u001b[0mdrop_outliers\u001b[0m\u001b[1;33m(\u001b[0m\u001b[0mdf_num\u001b[0m\u001b[1;33m,\u001b[0m\u001b[1;34m'bmi'\u001b[0m\u001b[1;33m)\u001b[0m\u001b[1;33m\u001b[0m\u001b[1;33m\u001b[0m\u001b[0m\n\u001b[0m",
      "\u001b[1;31mNameError\u001b[0m: name 'df_num' is not defined"
     ]
    }
   ],
   "source": [
    "drop_outliers(df_num,'bmi')"
   ]
  },
  {
   "cell_type": "markdown",
   "id": "0e831ad5",
   "metadata": {},
   "source": [
    "5 - retracer le diagramme en moustache pour les 'bmi'"
   ]
  },
  {
   "cell_type": "code",
   "execution_count": 22,
   "id": "5e48a6ec",
   "metadata": {},
   "outputs": [
    {
     "ename": "NameError",
     "evalue": "name 'df_num' is not defined",
     "output_type": "error",
     "traceback": [
      "\u001b[1;31m---------------------------------------------------------------------------\u001b[0m",
      "\u001b[1;31mNameError\u001b[0m                                 Traceback (most recent call last)",
      "\u001b[1;32m<ipython-input-22-d32ae600ce53>\u001b[0m in \u001b[0;36m<module>\u001b[1;34m\u001b[0m\n\u001b[0;32m      1\u001b[0m \u001b[0msns\u001b[0m\u001b[1;33m.\u001b[0m\u001b[0mset\u001b[0m\u001b[1;33m(\u001b[0m\u001b[0mstyle\u001b[0m\u001b[1;33m=\u001b[0m\u001b[1;34m'whitegrid'\u001b[0m\u001b[1;33m)\u001b[0m\u001b[1;33m\u001b[0m\u001b[1;33m\u001b[0m\u001b[0m\n\u001b[1;32m----> 2\u001b[1;33m \u001b[0max\u001b[0m\u001b[1;33m=\u001b[0m\u001b[0msns\u001b[0m\u001b[1;33m.\u001b[0m\u001b[0mboxplot\u001b[0m \u001b[1;33m(\u001b[0m\u001b[0mdata\u001b[0m\u001b[1;33m=\u001b[0m\u001b[0mdf_num\u001b[0m\u001b[1;33m[\u001b[0m\u001b[1;34m'bmi'\u001b[0m\u001b[1;33m]\u001b[0m\u001b[1;33m,\u001b[0m\u001b[0morient\u001b[0m\u001b[1;33m=\u001b[0m\u001b[1;34m'v'\u001b[0m\u001b[1;33m)\u001b[0m\u001b[1;33m\u001b[0m\u001b[1;33m\u001b[0m\u001b[0m\n\u001b[0m",
      "\u001b[1;31mNameError\u001b[0m: name 'df_num' is not defined"
     ]
    }
   ],
   "source": [
    "sns.set(style='whitegrid')\n",
    "ax=sns.boxplot (data=df_num['bmi'],orient='v')"
   ]
  },
  {
   "cell_type": "code",
   "execution_count": 23,
   "id": "807c5fcb",
   "metadata": {},
   "outputs": [
    {
     "ename": "NameError",
     "evalue": "name 'df_num' is not defined",
     "output_type": "error",
     "traceback": [
      "\u001b[1;31m---------------------------------------------------------------------------\u001b[0m",
      "\u001b[1;31mNameError\u001b[0m                                 Traceback (most recent call last)",
      "\u001b[1;32m<ipython-input-23-b6a6549720f0>\u001b[0m in \u001b[0;36m<module>\u001b[1;34m\u001b[0m\n\u001b[1;32m----> 1\u001b[1;33m \u001b[0mdf_num\u001b[0m\u001b[1;33m[\u001b[0m\u001b[0mdf_num\u001b[0m\u001b[1;33m[\u001b[0m\u001b[1;34m'bmi'\u001b[0m\u001b[1;33m]\u001b[0m\u001b[1;33m>\u001b[0m\u001b[0msup\u001b[0m \u001b[1;33m]\u001b[0m\u001b[1;33m.\u001b[0m\u001b[0mcount\u001b[0m\u001b[1;33m(\u001b[0m\u001b[1;33m)\u001b[0m\u001b[1;33m\u001b[0m\u001b[1;33m\u001b[0m\u001b[0m\n\u001b[0m",
      "\u001b[1;31mNameError\u001b[0m: name 'df_num' is not defined"
     ]
    }
   ],
   "source": [
    "df_num[df_num['bmi']>sup ].count()"
   ]
  },
  {
   "cell_type": "markdown",
   "id": "43cfcdae",
   "metadata": {},
   "source": [
    "##  IV.2 - Traitement des valeurs aberrantes dans 'avg_glucose_level'"
   ]
  },
  {
   "cell_type": "markdown",
   "id": "137e3155",
   "metadata": {},
   "source": [
    " 1- tracer le diagramme en moustache pour les 'avg_glucose_level'"
   ]
  },
  {
   "cell_type": "code",
   "execution_count": 24,
   "id": "5367e0a7",
   "metadata": {},
   "outputs": [
    {
     "ename": "NameError",
     "evalue": "name 'df_num' is not defined",
     "output_type": "error",
     "traceback": [
      "\u001b[1;31m---------------------------------------------------------------------------\u001b[0m",
      "\u001b[1;31mNameError\u001b[0m                                 Traceback (most recent call last)",
      "\u001b[1;32m<ipython-input-24-8cc6689ccdf5>\u001b[0m in \u001b[0;36m<module>\u001b[1;34m\u001b[0m\n\u001b[0;32m      1\u001b[0m \u001b[0msns\u001b[0m\u001b[1;33m.\u001b[0m\u001b[0mset\u001b[0m\u001b[1;33m(\u001b[0m\u001b[0mstyle\u001b[0m\u001b[1;33m=\u001b[0m\u001b[1;34m'whitegrid'\u001b[0m\u001b[1;33m)\u001b[0m\u001b[1;33m\u001b[0m\u001b[1;33m\u001b[0m\u001b[0m\n\u001b[1;32m----> 2\u001b[1;33m \u001b[0max\u001b[0m\u001b[1;33m=\u001b[0m\u001b[0msns\u001b[0m\u001b[1;33m.\u001b[0m\u001b[0mboxplot\u001b[0m \u001b[1;33m(\u001b[0m\u001b[0mdata\u001b[0m\u001b[1;33m=\u001b[0m\u001b[0mdf_num\u001b[0m\u001b[1;33m[\u001b[0m\u001b[1;34m'avg_glucose_level'\u001b[0m\u001b[1;33m]\u001b[0m\u001b[1;33m,\u001b[0m\u001b[0morient\u001b[0m\u001b[1;33m=\u001b[0m\u001b[1;34m'v'\u001b[0m\u001b[1;33m)\u001b[0m\u001b[1;33m\u001b[0m\u001b[1;33m\u001b[0m\u001b[0m\n\u001b[0m",
      "\u001b[1;31mNameError\u001b[0m: name 'df_num' is not defined"
     ]
    }
   ],
   "source": [
    "sns.set(style='whitegrid')\n",
    "ax=sns.boxplot (data=df_num['avg_glucose_level'],orient='v')"
   ]
  },
  {
   "cell_type": "code",
   "execution_count": 25,
   "id": "89690528",
   "metadata": {},
   "outputs": [
    {
     "ename": "NameError",
     "evalue": "name 'df_num' is not defined",
     "output_type": "error",
     "traceback": [
      "\u001b[1;31m---------------------------------------------------------------------------\u001b[0m",
      "\u001b[1;31mNameError\u001b[0m                                 Traceback (most recent call last)",
      "\u001b[1;32m<ipython-input-25-0b6375cf97cb>\u001b[0m in \u001b[0;36m<module>\u001b[1;34m\u001b[0m\n\u001b[1;32m----> 1\u001b[1;33m \u001b[0mdf_num\u001b[0m\u001b[1;33m[\u001b[0m\u001b[0mdf_num\u001b[0m\u001b[1;33m[\u001b[0m\u001b[1;34m'avg_glucose_level'\u001b[0m\u001b[1;33m]\u001b[0m\u001b[1;33m>\u001b[0m\u001b[0msup\u001b[0m \u001b[1;33m]\u001b[0m\u001b[1;33m.\u001b[0m\u001b[0mcount\u001b[0m\u001b[1;33m(\u001b[0m\u001b[1;33m)\u001b[0m\u001b[1;33m\u001b[0m\u001b[1;33m\u001b[0m\u001b[0m\n\u001b[0m",
      "\u001b[1;31mNameError\u001b[0m: name 'df_num' is not defined"
     ]
    }
   ],
   "source": [
    "df_num[df_num['avg_glucose_level']>sup ].count()"
   ]
  },
  {
   "cell_type": "markdown",
   "id": "602d4a3e",
   "metadata": {},
   "source": [
    "2 - remplacer les outliers par la mediane"
   ]
  },
  {
   "cell_type": "code",
   "execution_count": 26,
   "id": "f149808a",
   "metadata": {},
   "outputs": [
    {
     "ename": "NameError",
     "evalue": "name 'df_num' is not defined",
     "output_type": "error",
     "traceback": [
      "\u001b[1;31m---------------------------------------------------------------------------\u001b[0m",
      "\u001b[1;31mNameError\u001b[0m                                 Traceback (most recent call last)",
      "\u001b[1;32m<ipython-input-26-d7fe93cd09f8>\u001b[0m in \u001b[0;36m<module>\u001b[1;34m\u001b[0m\n\u001b[1;32m----> 1\u001b[1;33m \u001b[0mQ1g\u001b[0m\u001b[1;33m=\u001b[0m\u001b[0mdf_num\u001b[0m\u001b[1;33m[\u001b[0m\u001b[1;34m'avg_glucose_level'\u001b[0m\u001b[1;33m]\u001b[0m\u001b[1;33m.\u001b[0m\u001b[0mquantile\u001b[0m\u001b[1;33m(\u001b[0m\u001b[1;36m0.25\u001b[0m\u001b[1;33m)\u001b[0m\u001b[1;33m\u001b[0m\u001b[1;33m\u001b[0m\u001b[0m\n\u001b[0m\u001b[0;32m      2\u001b[0m \u001b[0mQ3g\u001b[0m\u001b[1;33m=\u001b[0m\u001b[0mdf_num\u001b[0m\u001b[1;33m[\u001b[0m\u001b[1;34m'avg_glucose_level'\u001b[0m\u001b[1;33m]\u001b[0m\u001b[1;33m.\u001b[0m\u001b[0mquantile\u001b[0m\u001b[1;33m(\u001b[0m\u001b[1;36m0.75\u001b[0m\u001b[1;33m)\u001b[0m\u001b[1;33m\u001b[0m\u001b[1;33m\u001b[0m\u001b[0m\n\u001b[0;32m      3\u001b[0m \u001b[0mIQRg\u001b[0m\u001b[1;33m=\u001b[0m\u001b[0mQ3g\u001b[0m\u001b[1;33m-\u001b[0m\u001b[0mQ1g\u001b[0m\u001b[1;33m\u001b[0m\u001b[1;33m\u001b[0m\u001b[0m\n\u001b[0;32m      4\u001b[0m \u001b[0minfg\u001b[0m \u001b[1;33m=\u001b[0m \u001b[0mdf_num\u001b[0m\u001b[1;33m[\u001b[0m\u001b[1;34m'avg_glucose_level'\u001b[0m\u001b[1;33m]\u001b[0m\u001b[1;33m.\u001b[0m\u001b[0mquantile\u001b[0m\u001b[1;33m(\u001b[0m\u001b[1;36m0.25\u001b[0m\u001b[1;33m)\u001b[0m\u001b[1;33m-\u001b[0m\u001b[1;36m1.5\u001b[0m\u001b[1;33m*\u001b[0m\u001b[0mIQRg\u001b[0m\u001b[1;33m\u001b[0m\u001b[1;33m\u001b[0m\u001b[0m\n\u001b[0;32m      5\u001b[0m \u001b[0msupg\u001b[0m \u001b[1;33m=\u001b[0m \u001b[0mdf_num\u001b[0m\u001b[1;33m[\u001b[0m\u001b[1;34m'avg_glucose_level'\u001b[0m\u001b[1;33m]\u001b[0m\u001b[1;33m.\u001b[0m\u001b[0mquantile\u001b[0m\u001b[1;33m(\u001b[0m\u001b[1;36m0.75\u001b[0m\u001b[1;33m)\u001b[0m\u001b[1;33m+\u001b[0m\u001b[1;36m1.5\u001b[0m\u001b[1;33m*\u001b[0m\u001b[0mIQRg\u001b[0m\u001b[1;33m\u001b[0m\u001b[1;33m\u001b[0m\u001b[0m\n",
      "\u001b[1;31mNameError\u001b[0m: name 'df_num' is not defined"
     ]
    }
   ],
   "source": [
    "Q1g=df_num['avg_glucose_level'].quantile(0.25)\n",
    "Q3g=df_num['avg_glucose_level'].quantile(0.75)\n",
    "IQRg=Q3g-Q1g\n",
    "infg = df_num['avg_glucose_level'].quantile(0.25)-1.5*IQRg\n",
    "supg = df_num['avg_glucose_level'].quantile(0.75)+1.5*IQRg\n",
    "for i in df_num['avg_glucose_level']:\n",
    "     if i >=supg or i<=infg:\n",
    "            df_num['avg_glucose_level']=df_num['avg_glucose_level'].replace(i,np.median(df_num['avg_glucose_level']))"
   ]
  },
  {
   "cell_type": "markdown",
   "id": "60bf9f25",
   "metadata": {},
   "source": [
    "3- retracer le diagramme en moustache pour les 'avg_glucose_level'"
   ]
  },
  {
   "cell_type": "code",
   "execution_count": 27,
   "id": "0c6f3781",
   "metadata": {},
   "outputs": [
    {
     "ename": "NameError",
     "evalue": "name 'df_num' is not defined",
     "output_type": "error",
     "traceback": [
      "\u001b[1;31m---------------------------------------------------------------------------\u001b[0m",
      "\u001b[1;31mNameError\u001b[0m                                 Traceback (most recent call last)",
      "\u001b[1;32m<ipython-input-27-8cc6689ccdf5>\u001b[0m in \u001b[0;36m<module>\u001b[1;34m\u001b[0m\n\u001b[0;32m      1\u001b[0m \u001b[0msns\u001b[0m\u001b[1;33m.\u001b[0m\u001b[0mset\u001b[0m\u001b[1;33m(\u001b[0m\u001b[0mstyle\u001b[0m\u001b[1;33m=\u001b[0m\u001b[1;34m'whitegrid'\u001b[0m\u001b[1;33m)\u001b[0m\u001b[1;33m\u001b[0m\u001b[1;33m\u001b[0m\u001b[0m\n\u001b[1;32m----> 2\u001b[1;33m \u001b[0max\u001b[0m\u001b[1;33m=\u001b[0m\u001b[0msns\u001b[0m\u001b[1;33m.\u001b[0m\u001b[0mboxplot\u001b[0m \u001b[1;33m(\u001b[0m\u001b[0mdata\u001b[0m\u001b[1;33m=\u001b[0m\u001b[0mdf_num\u001b[0m\u001b[1;33m[\u001b[0m\u001b[1;34m'avg_glucose_level'\u001b[0m\u001b[1;33m]\u001b[0m\u001b[1;33m,\u001b[0m\u001b[0morient\u001b[0m\u001b[1;33m=\u001b[0m\u001b[1;34m'v'\u001b[0m\u001b[1;33m)\u001b[0m\u001b[1;33m\u001b[0m\u001b[1;33m\u001b[0m\u001b[0m\n\u001b[0m",
      "\u001b[1;31mNameError\u001b[0m: name 'df_num' is not defined"
     ]
    }
   ],
   "source": [
    "sns.set(style='whitegrid')\n",
    "ax=sns.boxplot (data=df_num['avg_glucose_level'],orient='v')"
   ]
  },
  {
   "cell_type": "code",
   "execution_count": 28,
   "id": "8d6b4082",
   "metadata": {},
   "outputs": [
    {
     "ename": "NameError",
     "evalue": "name 'df_num' is not defined",
     "output_type": "error",
     "traceback": [
      "\u001b[1;31m---------------------------------------------------------------------------\u001b[0m",
      "\u001b[1;31mNameError\u001b[0m                                 Traceback (most recent call last)",
      "\u001b[1;32m<ipython-input-28-429de0637841>\u001b[0m in \u001b[0;36m<module>\u001b[1;34m\u001b[0m\n\u001b[1;32m----> 1\u001b[1;33m \u001b[0mdf_num\u001b[0m\u001b[1;33m.\u001b[0m\u001b[0mloc\u001b[0m\u001b[1;33m[\u001b[0m\u001b[0mdf_num\u001b[0m\u001b[1;33m[\u001b[0m\u001b[1;34m'avg_glucose_level'\u001b[0m\u001b[1;33m]\u001b[0m\u001b[1;33m>=\u001b[0m\u001b[0msupg\u001b[0m\u001b[1;33m]\u001b[0m\u001b[1;33m\u001b[0m\u001b[1;33m\u001b[0m\u001b[0m\n\u001b[0m",
      "\u001b[1;31mNameError\u001b[0m: name 'df_num' is not defined"
     ]
    }
   ],
   "source": [
    "df_num.loc[df_num['avg_glucose_level']>=supg]"
   ]
  },
  {
   "cell_type": "code",
   "execution_count": 29,
   "id": "af8756bc",
   "metadata": {},
   "outputs": [
    {
     "ename": "NameError",
     "evalue": "name 'Sup' is not defined",
     "output_type": "error",
     "traceback": [
      "\u001b[1;31m---------------------------------------------------------------------------\u001b[0m",
      "\u001b[1;31mNameError\u001b[0m                                 Traceback (most recent call last)",
      "\u001b[1;32m<ipython-input-29-86589fd924a3>\u001b[0m in \u001b[0;36m<module>\u001b[1;34m\u001b[0m\n\u001b[1;32m----> 1\u001b[1;33m \u001b[0mprint\u001b[0m\u001b[1;33m(\u001b[0m\u001b[0mSup\u001b[0m\u001b[1;33m)\u001b[0m\u001b[1;33m\u001b[0m\u001b[1;33m\u001b[0m\u001b[0m\n\u001b[0m\u001b[0;32m      2\u001b[0m \u001b[0mprint\u001b[0m\u001b[1;33m(\u001b[0m\u001b[0mInf\u001b[0m\u001b[1;33m)\u001b[0m\u001b[1;33m\u001b[0m\u001b[1;33m\u001b[0m\u001b[0m\n",
      "\u001b[1;31mNameError\u001b[0m: name 'Sup' is not defined"
     ]
    }
   ],
   "source": [
    "print(Sup)\n",
    "print(Inf)"
   ]
  },
  {
   "cell_type": "markdown",
   "id": "e3e94718",
   "metadata": {},
   "source": [
    "# V. Autres visualisations statistiques"
   ]
  },
  {
   "cell_type": "markdown",
   "id": "615de118",
   "metadata": {},
   "source": [
    "1- Afficher en barres le nombre d'observations de la variable catégorique 'stroke' classée par 'Gender'.\n",
    "\n",
    "Interpréter."
   ]
  },
  {
   "cell_type": "code",
   "execution_count": 30,
   "id": "92ff9b52",
   "metadata": {
    "execution": {
     "iopub.execute_input": "2021-05-25T12:30:55.329181Z",
     "iopub.status.busy": "2021-05-25T12:30:55.328147Z",
     "iopub.status.idle": "2021-05-25T12:30:55.488263Z",
     "shell.execute_reply": "2021-05-25T12:30:55.487600Z",
     "shell.execute_reply.started": "2021-05-24T14:36:57.223155Z"
    },
    "id": "wI7JdO_g2Ckd",
    "outputId": "a07e7d54-a172-45e2-e3ad-8196c83d4514",
    "papermill": {
     "duration": 0.235055,
     "end_time": "2021-05-25T12:30:55.488417",
     "exception": false,
     "start_time": "2021-05-25T12:30:55.253362",
     "status": "completed"
    },
    "scrolled": true,
    "tags": []
   },
   "outputs": [
    {
     "ename": "NameError",
     "evalue": "name 'df' is not defined",
     "output_type": "error",
     "traceback": [
      "\u001b[1;31m---------------------------------------------------------------------------\u001b[0m",
      "\u001b[1;31mNameError\u001b[0m                                 Traceback (most recent call last)",
      "\u001b[1;32m<ipython-input-30-3113a611ae50>\u001b[0m in \u001b[0;36m<module>\u001b[1;34m\u001b[0m\n\u001b[0;32m      1\u001b[0m \u001b[0mplt\u001b[0m\u001b[1;33m.\u001b[0m\u001b[0mfigure\u001b[0m\u001b[1;33m(\u001b[0m\u001b[0mfigsize\u001b[0m\u001b[1;33m=\u001b[0m\u001b[1;33m(\u001b[0m\u001b[1;36m15\u001b[0m\u001b[1;33m,\u001b[0m\u001b[1;36m5\u001b[0m\u001b[1;33m)\u001b[0m\u001b[1;33m)\u001b[0m\u001b[1;33m\u001b[0m\u001b[1;33m\u001b[0m\u001b[0m\n\u001b[0;32m      2\u001b[0m \u001b[1;33m\u001b[0m\u001b[0m\n\u001b[1;32m----> 3\u001b[1;33m \u001b[0msns\u001b[0m\u001b[1;33m.\u001b[0m\u001b[0mcountplot\u001b[0m\u001b[1;33m(\u001b[0m\u001b[0mdata\u001b[0m\u001b[1;33m=\u001b[0m\u001b[0mdf\u001b[0m\u001b[1;33m,\u001b[0m \u001b[0mx\u001b[0m\u001b[1;33m=\u001b[0m\u001b[1;34m'gender'\u001b[0m\u001b[1;33m,\u001b[0m\u001b[0mhue\u001b[0m\u001b[1;33m=\u001b[0m\u001b[0mdf\u001b[0m\u001b[1;33m[\u001b[0m\u001b[1;34m'stroke'\u001b[0m\u001b[1;33m]\u001b[0m\u001b[1;33m,\u001b[0m \u001b[0mpalette\u001b[0m\u001b[1;33m=\u001b[0m\u001b[1;34m'Set1'\u001b[0m\u001b[1;33m)\u001b[0m\u001b[1;33m;\u001b[0m\u001b[1;33m\u001b[0m\u001b[1;33m\u001b[0m\u001b[0m\n\u001b[0m",
      "\u001b[1;31mNameError\u001b[0m: name 'df' is not defined"
     ]
    },
    {
     "data": {
      "text/plain": [
       "<Figure size 1080x360 with 0 Axes>"
      ]
     },
     "metadata": {},
     "output_type": "display_data"
    }
   ],
   "source": [
    "plt.figure(figsize=(15,5))\n",
    "\n",
    "sns.countplot(data=df, x='gender',hue=df['stroke'], palette='Set1');"
   ]
  },
  {
   "cell_type": "markdown",
   "id": "83389f7d",
   "metadata": {},
   "source": [
    "2- Afficher en barres le nombre d'observations de la variable catégorique 'stroke' classée par 'work_type'.\n",
    "\n",
    "Interpréter."
   ]
  },
  {
   "cell_type": "code",
   "execution_count": 31,
   "id": "85b8ad7c",
   "metadata": {
    "execution": {
     "iopub.execute_input": "2021-05-25T12:30:55.748468Z",
     "iopub.status.busy": "2021-05-25T12:30:55.746012Z",
     "iopub.status.idle": "2021-05-25T12:30:55.938676Z",
     "shell.execute_reply": "2021-05-25T12:30:55.938018Z",
     "shell.execute_reply.started": "2021-05-24T14:36:57.365845Z"
    },
    "id": "VDOD3GyLc-7A",
    "outputId": "5d490417-95f4-4394-d5fd-f1d4fc51d71b",
    "papermill": {
     "duration": 0.26806,
     "end_time": "2021-05-25T12:30:55.938847",
     "exception": false,
     "start_time": "2021-05-25T12:30:55.670787",
     "status": "completed"
    },
    "tags": []
   },
   "outputs": [
    {
     "ename": "NameError",
     "evalue": "name 'df' is not defined",
     "output_type": "error",
     "traceback": [
      "\u001b[1;31m---------------------------------------------------------------------------\u001b[0m",
      "\u001b[1;31mNameError\u001b[0m                                 Traceback (most recent call last)",
      "\u001b[1;32m<ipython-input-31-bbb1723bfec2>\u001b[0m in \u001b[0;36m<module>\u001b[1;34m\u001b[0m\n\u001b[0;32m      1\u001b[0m \u001b[0mplt\u001b[0m\u001b[1;33m.\u001b[0m\u001b[0mfigure\u001b[0m\u001b[1;33m(\u001b[0m\u001b[0mfigsize\u001b[0m\u001b[1;33m=\u001b[0m\u001b[1;33m(\u001b[0m\u001b[1;36m15\u001b[0m\u001b[1;33m,\u001b[0m\u001b[1;36m5\u001b[0m\u001b[1;33m)\u001b[0m\u001b[1;33m)\u001b[0m\u001b[1;33m\u001b[0m\u001b[1;33m\u001b[0m\u001b[0m\n\u001b[0;32m      2\u001b[0m \u001b[1;33m\u001b[0m\u001b[0m\n\u001b[1;32m----> 3\u001b[1;33m \u001b[0msns\u001b[0m\u001b[1;33m.\u001b[0m\u001b[0mcountplot\u001b[0m\u001b[1;33m(\u001b[0m\u001b[0mx\u001b[0m\u001b[1;33m=\u001b[0m\u001b[1;34m'work_type'\u001b[0m\u001b[1;33m,\u001b[0m\u001b[0mhue\u001b[0m\u001b[1;33m=\u001b[0m\u001b[0mdf\u001b[0m\u001b[1;33m[\u001b[0m\u001b[1;34m'stroke'\u001b[0m\u001b[1;33m]\u001b[0m\u001b[1;33m,\u001b[0m\u001b[0mpalette\u001b[0m\u001b[1;33m=\u001b[0m\u001b[1;34m'Set2'\u001b[0m\u001b[1;33m,\u001b[0m\u001b[0mdata\u001b[0m\u001b[1;33m=\u001b[0m\u001b[0mdf\u001b[0m\u001b[1;33m)\u001b[0m\u001b[1;33m;\u001b[0m\u001b[1;33m\u001b[0m\u001b[1;33m\u001b[0m\u001b[0m\n\u001b[0m",
      "\u001b[1;31mNameError\u001b[0m: name 'df' is not defined"
     ]
    },
    {
     "data": {
      "text/plain": [
       "<Figure size 1080x360 with 0 Axes>"
      ]
     },
     "metadata": {},
     "output_type": "display_data"
    }
   ],
   "source": [
    "plt.figure(figsize=(15,5))\n",
    "\n",
    "sns.countplot(x='work_type',hue=df['stroke'],palette='Set2',data=df);"
   ]
  },
  {
   "cell_type": "markdown",
   "id": "bcd07262",
   "metadata": {},
   "source": [
    "3- Afficher en barres le nombre de lignes par type de résidence"
   ]
  },
  {
   "cell_type": "code",
   "execution_count": null,
   "id": "6eba6c60",
   "metadata": {
    "execution": {
     "iopub.execute_input": "2021-05-25T12:30:56.073358Z",
     "iopub.status.busy": "2021-05-25T12:30:56.070521Z",
     "iopub.status.idle": "2021-05-25T12:30:56.190063Z",
     "shell.execute_reply": "2021-05-25T12:30:56.189533Z",
     "shell.execute_reply.started": "2021-05-24T14:36:57.530622Z"
    },
    "id": "9TTp6SqZs3eC",
    "outputId": "d67f169b-c116-496a-d9ef-00e0f614f47e",
    "papermill": {
     "duration": 0.190364,
     "end_time": "2021-05-25T12:30:56.190208",
     "exception": false,
     "start_time": "2021-05-25T12:30:55.999844",
     "status": "completed"
    },
    "tags": []
   },
   "outputs": [],
   "source": [
    "plt.figure(figsize=(5,5))\n",
    "sns.countplot( x='Residence_type', palette='Set2', data=df);"
   ]
  },
  {
   "cell_type": "markdown",
   "id": "9b39077d",
   "metadata": {},
   "source": [
    "4- Afficher en barres le nombre d'observations de la variable catégorique 'stroke' classée par 'ever_married'.\n",
    "\n",
    "Interpréter."
   ]
  },
  {
   "cell_type": "code",
   "execution_count": null,
   "id": "d4052728",
   "metadata": {
    "execution": {
     "iopub.execute_input": "2021-05-25T12:30:56.454283Z",
     "iopub.status.busy": "2021-05-25T12:30:56.453479Z",
     "iopub.status.idle": "2021-05-25T12:30:56.606323Z",
     "shell.execute_reply": "2021-05-25T12:30:56.605765Z",
     "shell.execute_reply.started": "2021-05-24T14:36:57.637086Z"
    },
    "id": "z--awwo-tASM",
    "outputId": "4decda34-951e-431c-e6d6-eec8bfaca197",
    "papermill": {
     "duration": 0.229605,
     "end_time": "2021-05-25T12:30:56.606467",
     "exception": false,
     "start_time": "2021-05-25T12:30:56.376862",
     "status": "completed"
    },
    "tags": []
   },
   "outputs": [],
   "source": [
    "plt.figure(figsize=(5,5))\n",
    "sns.countplot( x='ever_married', hue=df['stroke'], palette='Set2', data=df)"
   ]
  },
  {
   "cell_type": "markdown",
   "id": "51923f97",
   "metadata": {},
   "source": [
    "####### La plupart des personnes ayant subi un AVC sont mariées."
   ]
  },
  {
   "cell_type": "markdown",
   "id": "7dbc1158",
   "metadata": {},
   "source": [
    "5- Afficher en barres le nombre d'observations de la variable catégorique 'stroke' classée par 'smoking_status'.\n",
    "\n",
    "Interpréter."
   ]
  },
  {
   "cell_type": "code",
   "execution_count": null,
   "id": "463685ff",
   "metadata": {
    "execution": {
     "iopub.execute_input": "2021-05-25T12:30:56.913699Z",
     "iopub.status.busy": "2021-05-25T12:30:56.880618Z",
     "iopub.status.idle": "2021-05-25T12:30:57.074552Z",
     "shell.execute_reply": "2021-05-25T12:30:57.074030Z",
     "shell.execute_reply.started": "2021-05-24T14:36:57.771728Z"
    },
    "id": "zSiKZtHTtHyo",
    "outputId": "cf1862af-209e-4061-c848-2dfd4dabc0f4",
    "papermill": {
     "duration": 0.276781,
     "end_time": "2021-05-25T12:30:57.074688",
     "exception": false,
     "start_time": "2021-05-25T12:30:56.797907",
     "status": "completed"
    },
    "tags": []
   },
   "outputs": [],
   "source": [
    "plt.figure(figsize=(15,5))\n",
    "sns.countplot( x='smoking_status', hue=df['stroke'], palette='Set2', data=df)"
   ]
  },
  {
   "cell_type": "markdown",
   "id": "19046755",
   "metadata": {},
   "source": [
    "##### Les personnes qui ne fumaient pas avaient une incidence plus élevée d'AVC que les autres qui fumaient ou avaient déjà fumé. Cependant, il y a une grande partie qui est inconnue et qui peut - ou non - changer ce scénario."
   ]
  },
  {
   "cell_type": "markdown",
   "id": "7c1f64d1",
   "metadata": {},
   "source": [
    "6- Afficher la correlation entre les variables du dataframe (coefficient de pearson)"
   ]
  },
  {
   "cell_type": "code",
   "execution_count": null,
   "id": "c0188180",
   "metadata": {
    "execution": {
     "iopub.execute_input": "2021-05-25T12:30:57.464819Z",
     "iopub.status.busy": "2021-05-25T12:30:57.464138Z",
     "iopub.status.idle": "2021-05-25T12:30:57.748050Z",
     "shell.execute_reply": "2021-05-25T12:30:57.747474Z",
     "shell.execute_reply.started": "2021-05-24T14:36:57.932728Z"
    },
    "id": "AAY5nEXiym4D",
    "outputId": "18071c9d-b7a0-418f-f7d2-d4b141d5b4a2",
    "papermill": {
     "duration": 0.354633,
     "end_time": "2021-05-25T12:30:57.748198",
     "exception": false,
     "start_time": "2021-05-25T12:30:57.393565",
     "status": "completed"
    },
    "tags": []
   },
   "outputs": [],
   "source": [
    "plt.figure(figsize=(10,5))\n",
    "correlation = df.corr( method='pearson' )\n",
    "sns.heatmap( correlation, annot=True );"
   ]
  },
  {
   "cell_type": "code",
   "execution_count": null,
   "id": "c8e8070a",
   "metadata": {},
   "outputs": [],
   "source": [
    "correlation"
   ]
  },
  {
   "cell_type": "markdown",
   "id": "13453e58",
   "metadata": {},
   "source": [
    "# VI. Les variables en entrée X et la cible Y"
   ]
  },
  {
   "cell_type": "markdown",
   "id": "99604a6c",
   "metadata": {},
   "source": [
    "1 - Afficher un rappel de dimension et un echantillon du dataframe"
   ]
  },
  {
   "cell_type": "code",
   "execution_count": null,
   "id": "c1eb6b92",
   "metadata": {},
   "outputs": [],
   "source": [
    "df.shape"
   ]
  },
  {
   "cell_type": "code",
   "execution_count": null,
   "id": "0b74fce6",
   "metadata": {},
   "outputs": [],
   "source": [
    "df.head()"
   ]
  },
  {
   "cell_type": "markdown",
   "id": "10af0dea",
   "metadata": {},
   "source": [
    "2 - affecter à Y (cible) la dernière colonne (stroke) et le reste du dataframe au entrées X"
   ]
  },
  {
   "cell_type": "code",
   "execution_count": null,
   "id": "4ac0810d",
   "metadata": {},
   "outputs": [],
   "source": [
    "X = df.iloc[:,0:10]\n",
    "Y= df.iloc[:,10]"
   ]
  },
  {
   "cell_type": "code",
   "execution_count": null,
   "id": "d2f72c39",
   "metadata": {},
   "outputs": [],
   "source": [
    "3 - afficher un echontillion de X et Y"
   ]
  },
  {
   "cell_type": "code",
   "execution_count": null,
   "id": "3326cfc2",
   "metadata": {},
   "outputs": [],
   "source": [
    "X.head()"
   ]
  },
  {
   "cell_type": "code",
   "execution_count": null,
   "id": "cbd0079a",
   "metadata": {},
   "outputs": [],
   "source": [
    "Y.head()"
   ]
  },
  {
   "cell_type": "markdown",
   "id": "9eff8cb9",
   "metadata": {},
   "source": [
    "## VI.1 Transformer X et Y en tableau numpy"
   ]
  },
  {
   "cell_type": "markdown",
   "id": "54490324",
   "metadata": {},
   "source": [
    "1 - lancer les commandes qui transforme X et Y en type numpyarray"
   ]
  },
  {
   "cell_type": "code",
   "execution_count": null,
   "id": "7aa0c1e8",
   "metadata": {},
   "outputs": [],
   "source": [
    "X=X.values\n",
    "Y=Y.values"
   ]
  },
  {
   "cell_type": "markdown",
   "id": "5a76398e",
   "metadata": {},
   "source": [
    "2 - Vérifier le type et le contenu de X et Y"
   ]
  },
  {
   "cell_type": "code",
   "execution_count": null,
   "id": "fb4045c5",
   "metadata": {},
   "outputs": [],
   "source": [
    "type(X)"
   ]
  },
  {
   "cell_type": "code",
   "execution_count": null,
   "id": "1a7d0e9c",
   "metadata": {},
   "outputs": [],
   "source": [
    "X[:5,:]"
   ]
  },
  {
   "cell_type": "markdown",
   "id": "2c398e7d",
   "metadata": {},
   "source": [
    "# VII. transformation des variables catégoriques"
   ]
  },
  {
   "cell_type": "markdown",
   "id": "c16adcc9",
   "metadata": {},
   "source": [
    "**1 - Nous commençons par les colonnes catégoriques à deux états 'gender','ever_married','Residence_type'**"
   ]
  },
  {
   "cell_type": "code",
   "execution_count": null,
   "id": "7c934da8",
   "metadata": {},
   "outputs": [],
   "source": [
    "from sklearn.preprocessing import LabelEncoder\n",
    "label = LabelEncoder()"
   ]
  },
  {
   "cell_type": "code",
   "execution_count": null,
   "id": "6d20cbf9",
   "metadata": {},
   "outputs": [],
   "source": [
    "X[:,0] = label.fit_transform(X[:,0]) # colonne gender devient 1-->male ou 0-->female\n",
    "X[:,4] = label.fit_transform(X[:,4]) # colonne ever_married devient no-->0 ou yes-->1\n",
    "X[:,6] = label.fit_transform(X[:,6]) # colonne Residence_type devient rural-->0 ou urban-->1"
   ]
  },
  {
   "cell_type": "markdown",
   "id": "e3cb6442",
   "metadata": {},
   "source": [
    "2 - Vérifier cette transformation"
   ]
  },
  {
   "cell_type": "code",
   "execution_count": null,
   "id": "6f88c36a",
   "metadata": {},
   "outputs": [],
   "source": [
    "X[:10,:]"
   ]
  },
  {
   "cell_type": "markdown",
   "id": "0246c90d",
   "metadata": {},
   "source": [
    "**3 - nous transformons la colonne work_type qui a 5 etats : 'private','self-employed','gov-job','children','never-worked'**"
   ]
  },
  {
   "cell_type": "code",
   "execution_count": null,
   "id": "9520b1db",
   "metadata": {},
   "outputs": [],
   "source": [
    "from sklearn.preprocessing import OneHotEncoder\n",
    "from sklearn.compose import ColumnTransformer"
   ]
  },
  {
   "cell_type": "code",
   "execution_count": null,
   "id": "6905e360",
   "metadata": {},
   "outputs": [],
   "source": [
    "ct = ColumnTransformer([('work_type',OneHotEncoder(),[5])],\\\n",
    "                      remainder = 'passthrough')"
   ]
  },
  {
   "cell_type": "code",
   "execution_count": null,
   "id": "04ce3bd2",
   "metadata": {},
   "outputs": [],
   "source": [
    "X = ct.fit_transform(X)"
   ]
  },
  {
   "cell_type": "markdown",
   "id": "00423800",
   "metadata": {},
   "source": [
    "4 - Vérifier la transformation de la colonne 'work_type' par 4 colonne ajouter en début du X (shap et affichage)"
   ]
  },
  {
   "cell_type": "code",
   "execution_count": null,
   "id": "fc3c5b51",
   "metadata": {},
   "outputs": [],
   "source": [
    "X.shape # ajout de 4 autres colonnes \n",
    "#private ---> 0.0 0.0 1.0 0.0 0.0 "
   ]
  },
  {
   "cell_type": "code",
   "execution_count": null,
   "id": "4e482d71",
   "metadata": {},
   "outputs": [],
   "source": [
    "X[:,0:5]"
   ]
  },
  {
   "cell_type": "markdown",
   "id": "549e8435",
   "metadata": {},
   "source": [
    "**5 - Nous remarquons que la première colonne peut être supprimée (on les supprime alors)**"
   ]
  },
  {
   "cell_type": "code",
   "execution_count": null,
   "id": "87ef6d06",
   "metadata": {},
   "outputs": [],
   "source": [
    "X = X[:,1:]"
   ]
  },
  {
   "cell_type": "markdown",
   "id": "203143f3",
   "metadata": {},
   "source": [
    "6 - Vérifier cette suppression (shape et affichage d'un echantillion)"
   ]
  },
  {
   "cell_type": "code",
   "execution_count": null,
   "id": "0e2a196b",
   "metadata": {},
   "outputs": [],
   "source": [
    "X.shape"
   ]
  },
  {
   "cell_type": "code",
   "execution_count": null,
   "id": "6d74db6d",
   "metadata": {},
   "outputs": [],
   "source": [
    "X[:5,:]"
   ]
  },
  {
   "cell_type": "markdown",
   "id": "ac1575cf",
   "metadata": {},
   "source": [
    "**7 - nous transformons la colonne 'smoking_status' qui a 4 etats :'formerly smoked','never smoked','smokes','unknown'**"
   ]
  },
  {
   "cell_type": "code",
   "execution_count": null,
   "id": "cc07cfd0",
   "metadata": {},
   "outputs": [],
   "source": [
    "ct = ColumnTransformer([('smoking_status',OneHotEncoder(),[11])],\\\n",
    "                      remainder = 'passthrough')"
   ]
  },
  {
   "cell_type": "code",
   "execution_count": null,
   "id": "bb440e6a",
   "metadata": {},
   "outputs": [],
   "source": [
    "X = ct.fit_transform(X)"
   ]
  },
  {
   "cell_type": "raw",
   "id": "8c903bc5",
   "metadata": {},
   "source": [
    "8 - Vérifier la transformation de la colonne 'smoking_status' par 4 colonne ajouter en début du X (shape et affichage)"
   ]
  },
  {
   "cell_type": "code",
   "execution_count": null,
   "id": "d59f51a7",
   "metadata": {},
   "outputs": [],
   "source": [
    "X[:5,:] # smoking_status est remplacé par 4 colonnes au début"
   ]
  },
  {
   "cell_type": "markdown",
   "id": "e7481365",
   "metadata": {},
   "source": [
    "**9 - nous enlevons la première colonne**"
   ]
  },
  {
   "cell_type": "code",
   "execution_count": null,
   "id": "0f7a6987",
   "metadata": {},
   "outputs": [],
   "source": [
    "X = X[:,1:]"
   ]
  },
  {
   "cell_type": "markdown",
   "id": "b0f2ea5c",
   "metadata": {},
   "source": [
    "10 - Vérifier cette suppression (shape et affichage)"
   ]
  },
  {
   "cell_type": "code",
   "execution_count": null,
   "id": "11e5b67b",
   "metadata": {},
   "outputs": [],
   "source": [
    "X.shape"
   ]
  },
  {
   "cell_type": "code",
   "execution_count": null,
   "id": "d0198e28",
   "metadata": {},
   "outputs": [],
   "source": [
    "X[:5,:]"
   ]
  },
  {
   "cell_type": "markdown",
   "id": "f1c0130a",
   "metadata": {},
   "source": [
    "# VIII. Splitting dataset into train and test sets"
   ]
  },
  {
   "cell_type": "markdown",
   "id": "2e726884",
   "metadata": {},
   "source": [
    "1 - lancer la répartition du dataframe en train et test"
   ]
  },
  {
   "cell_type": "code",
   "execution_count": null,
   "id": "2ef8e26c",
   "metadata": {},
   "outputs": [],
   "source": [
    "from sklearn.model_selection import train_test_split\n",
    "X_train,X_test,y_train,y_test = train_test_split(X,Y,test_size=0.2,\\\n",
    "                                                random_state=0)\n",
    "# random_state  D'un autre côté, si vous utilisez random_state=some_number, \n",
    "#vous pouvez garantir que la sortie de Run 1 sera égale à la sortie de Run 2, \n",
    "#c'est-à-dire que votre division sera toujours la même. Peu importe le nombre réel de random_state 42, 0, 21, ... \n",
    "# L'important est qu'à chaque fois que vous utilisez 42, vous obtiendrez toujours la même sortie la première fois que \n",
    "#vous effectuez le fractionnement."
   ]
  },
  {
   "cell_type": "markdown",
   "id": "3ac3e93e",
   "metadata": {},
   "source": [
    "2 - vérifier la dimension des partie test et train et la moyenne du y_train et y_test"
   ]
  },
  {
   "cell_type": "code",
   "execution_count": null,
   "id": "fb5ebd0b",
   "metadata": {},
   "outputs": [],
   "source": [
    "X_train.shape"
   ]
  },
  {
   "cell_type": "code",
   "execution_count": null,
   "id": "30dab304",
   "metadata": {},
   "outputs": [],
   "source": [
    "X_test.shape"
   ]
  },
  {
   "cell_type": "code",
   "execution_count": null,
   "id": "dc0993b5",
   "metadata": {},
   "outputs": [],
   "source": [
    "Y.mean()"
   ]
  },
  {
   "cell_type": "code",
   "execution_count": null,
   "id": "cedf8cc1",
   "metadata": {},
   "outputs": [],
   "source": [
    "print(y_train.mean())\n",
    "print(y_test.mean())"
   ]
  },
  {
   "cell_type": "markdown",
   "id": "e8b7867e",
   "metadata": {},
   "source": [
    "# IX. Mise à l'echelle des variables"
   ]
  },
  {
   "cell_type": "markdown",
   "id": "a6cfe878",
   "metadata": {},
   "source": [
    "1- Nous allons faire une standardisation du X_train et X_test"
   ]
  },
  {
   "cell_type": "code",
   "execution_count": null,
   "id": "3c04a97a",
   "metadata": {},
   "outputs": [],
   "source": [
    "from sklearn.preprocessing import StandardScaler\n",
    "scaler = StandardScaler()"
   ]
  },
  {
   "cell_type": "code",
   "execution_count": null,
   "id": "6e00b15c",
   "metadata": {},
   "outputs": [],
   "source": [
    "X_train_sc = scaler.fit_transform(X_train)\n",
    "X_test_sc = scaler.transform(X_test)"
   ]
  },
  {
   "cell_type": "markdown",
   "id": "278cb800",
   "metadata": {},
   "source": [
    "2 - Afficher un echantillon du X_train_sc"
   ]
  },
  {
   "cell_type": "code",
   "execution_count": null,
   "id": "d64c9de0",
   "metadata": {},
   "outputs": [],
   "source": [
    "X_train_sc[0:5,:]"
   ]
  },
  {
   "cell_type": "markdown",
   "id": "73b04414",
   "metadata": {},
   "source": [
    "# X. Modélisation "
   ]
  },
  {
   "cell_type": "markdown",
   "id": "3a884d73",
   "metadata": {},
   "source": [
    "## X.1 -  k Nearest Neighbors"
   ]
  },
  {
   "cell_type": "code",
   "execution_count": null,
   "id": "41d22cfc",
   "metadata": {},
   "outputs": [],
   "source": []
  },
  {
   "cell_type": "markdown",
   "id": "13e520c4",
   "metadata": {},
   "source": [
    "## X.2 - Evaluation du modèle KNN"
   ]
  },
  {
   "cell_type": "code",
   "execution_count": null,
   "id": "d22b7ba3",
   "metadata": {},
   "outputs": [],
   "source": []
  }
 ],
 "metadata": {
  "kernelspec": {
   "display_name": "Python 3",
   "language": "python",
   "name": "python3"
  },
  "language_info": {
   "codemirror_mode": {
    "name": "ipython",
    "version": 3
   },
   "file_extension": ".py",
   "mimetype": "text/x-python",
   "name": "python",
   "nbconvert_exporter": "python",
   "pygments_lexer": "ipython3",
   "version": "3.8.8"
  },
  "papermill": {
   "default_parameters": {},
   "duration": 24.902566,
   "end_time": "2021-05-25T12:31:05.160928",
   "environment_variables": {},
   "exception": null,
   "input_path": "__notebook__.ipynb",
   "output_path": "__notebook__.ipynb",
   "parameters": {},
   "start_time": "2021-05-25T12:30:40.258362",
   "version": "2.3.3"
  }
 },
 "nbformat": 4,
 "nbformat_minor": 5
}
