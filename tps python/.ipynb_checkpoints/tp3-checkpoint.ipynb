{
 "cells": [
  {
   "cell_type": "markdown",
   "id": "2757a614",
   "metadata": {},
   "source": [
    "1.4 Exercice avec solution\n",
    "\n",
    "\n",
    "Créer une fonction initialisation permettant de retourner M une matrice aléatoire de dimension\n",
    "(m,n+1) avec une colonne biais remplie de 1 tout à droite\n"
   ]
  },
  {
   "cell_type": "code",
   "execution_count": 14,
   "id": "b893d052",
   "metadata": {},
   "outputs": [
    {
     "name": "stdout",
     "output_type": "stream",
     "text": [
      "nbre de ligne2\n",
      "nbre de colonne3\n"
     ]
    },
    {
     "data": {
      "text/plain": [
       "array([[-0.05650213,  1.85926141,  0.27880825,  1.6273704 ],\n",
       "       [-2.74108216, -0.26970026, -0.2765144 , -0.79733801]])"
      ]
     },
     "execution_count": 14,
     "metadata": {},
     "output_type": "execute_result"
    }
   ],
   "source": [
    "import numpy as np\n",
    "\n",
    "def mat(m,n):\n",
    "    m=int(input('nbre de ligne'))\n",
    "    n=int(input('nbre de colonne'))\n",
    "    return  np.random.randn(m,n+1)\n",
    "\n",
    "mat(3,2)"
   ]
  },
  {
   "cell_type": "markdown",
   "id": "e6f8d69e",
   "metadata": {},
   "source": [
    "2.4 Exercice et Solution\n",
    "\n",
    "\n",
    "Standardisez la matrice suivante, c’est a dire effectuez le calcul suivant : A =\n",
    "A−mean(Acolonne)\n",
    "std(Acolonne)\n"
   ]
  },
  {
   "cell_type": "code",
   "execution_count": 15,
   "id": "4ef7480f",
   "metadata": {},
   "outputs": [
    {
     "data": {
      "text/plain": [
       "array([[44, 47, 64, 67, 67],\n",
       "       [ 9, 83, 21, 36, 87],\n",
       "       [70, 88, 88, 12, 58],\n",
       "       [65, 39, 87, 46, 88],\n",
       "       [81, 37, 25, 77, 72],\n",
       "       [ 9, 20, 80, 69, 79],\n",
       "       [47, 64, 82, 99, 88],\n",
       "       [49, 29, 19, 19, 14],\n",
       "       [39, 32, 65,  9, 57],\n",
       "       [32, 31, 74, 23, 35]])"
      ]
     },
     "execution_count": 15,
     "metadata": {},
     "output_type": "execute_result"
    }
   ],
   "source": [
    "np.random.seed(0)\n",
    "A = np.random.randint(0, 100, [10, 5])\n",
    "A"
   ]
  },
  {
   "cell_type": "code",
   "execution_count": 23,
   "id": "93394439",
   "metadata": {},
   "outputs": [
    {
     "data": {
      "text/plain": [
       "array([[43., 45., 62., 66., 65.],\n",
       "       [ 8., 81., 19., 35., 85.],\n",
       "       [69., 86., 86., 11., 56.],\n",
       "       [64., 37., 85., 45., 86.],\n",
       "       [80., 35., 23., 76., 70.],\n",
       "       [ 8., 18., 78., 68., 77.],\n",
       "       [46., 62., 80., 98., 86.],\n",
       "       [48., 27., 17., 18., 12.],\n",
       "       [38., 30., 63.,  8., 55.],\n",
       "       [31., 29., 72., 22., 33.]])"
      ]
     },
     "execution_count": 23,
     "metadata": {},
     "output_type": "execute_result"
    }
   ],
   "source": [
    "S = A-np.mean(A,axis=0)//np.std(A,axis=0)\n",
    "S"
   ]
  },
  {
   "cell_type": "code",
   "execution_count": 24,
   "id": "116104bc",
   "metadata": {},
   "outputs": [
    {
     "name": "stdout",
     "output_type": "stream",
     "text": [
      "[43.5 45.  58.5 44.7 62.5]\n"
     ]
    }
   ],
   "source": [
    "print(np.mean(S,axis=0))"
   ]
  },
  {
   "cell_type": "code",
   "execution_count": 25,
   "id": "95264f7a",
   "metadata": {},
   "outputs": [
    {
     "name": "stdout",
     "output_type": "stream",
     "text": [
      "[56.2 45.6 61.6 63.4 56.8 49.8 74.4 24.4 38.8 37.4]\n"
     ]
    }
   ],
   "source": [
    "print(np.mean(S,axis=1))"
   ]
  },
  {
   "cell_type": "code",
   "execution_count": null,
   "id": "f026c568",
   "metadata": {},
   "outputs": [],
   "source": [
    "print(np.(S,axis=0))"
   ]
  }
 ],
 "metadata": {
  "kernelspec": {
   "display_name": "Python 3",
   "language": "python",
   "name": "python3"
  },
  "language_info": {
   "codemirror_mode": {
    "name": "ipython",
    "version": 3
   },
   "file_extension": ".py",
   "mimetype": "text/x-python",
   "name": "python",
   "nbconvert_exporter": "python",
   "pygments_lexer": "ipython3",
   "version": "3.8.8"
  }
 },
 "nbformat": 4,
 "nbformat_minor": 5
}
