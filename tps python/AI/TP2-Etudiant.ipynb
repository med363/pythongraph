{
 "cells": [
  {
   "cell_type": "markdown",
   "id": "d405f497",
   "metadata": {
    "id": "r4k50t_FwPbl",
    "papermill": {
     "duration": 0.053026,
     "end_time": "2021-05-25T12:30:48.760489",
     "exception": false,
     "start_time": "2021-05-25T12:30:48.707463",
     "status": "completed"
    },
    "tags": []
   },
   "source": [
    "# I . IMPORTS"
   ]
  },
  {
   "cell_type": "code",
   "execution_count": 2,
   "id": "085c3447",
   "metadata": {
    "execution": {
     "iopub.execute_input": "2021-05-25T12:30:48.882295Z",
     "iopub.status.busy": "2021-05-25T12:30:48.880468Z",
     "iopub.status.idle": "2021-05-25T12:30:50.293920Z",
     "shell.execute_reply": "2021-05-25T12:30:50.294484Z",
     "shell.execute_reply.started": "2021-05-24T14:36:56.05444Z"
    },
    "id": "B13cvIthuFxs",
    "papermill": {
     "duration": 1.481245,
     "end_time": "2021-05-25T12:30:50.294820",
     "exception": false,
     "start_time": "2021-05-25T12:30:48.813575",
     "status": "completed"
    },
    "tags": []
   },
   "outputs": [],
   "source": [
    "import pandas as pd\n",
    "import numpy as np\n",
    "import math\n",
    "import seaborn as sns\n",
    "import matplotlib.pyplot as plt\n",
    "import warnings \n",
    "warnings.filterwarnings('ignore')"
   ]
  },
  {
   "cell_type": "markdown",
   "id": "c7e4ee91",
   "metadata": {
    "id": "dIpg5xYRwVeV",
    "papermill": {
     "duration": 0.051149,
     "end_time": "2021-05-25T12:30:50.398713",
     "exception": false,
     "start_time": "2021-05-25T12:30:50.347564",
     "status": "completed"
    },
    "tags": []
   },
   "source": [
    "# II . LOAD DATA"
   ]
  },
  {
   "cell_type": "markdown",
   "id": "fa8866de",
   "metadata": {},
   "source": [
    "1- importer le fichier de données"
   ]
  },
  {
   "cell_type": "code",
   "execution_count": 3,
   "id": "7b9cc27d",
   "metadata": {
    "execution": {
     "iopub.execute_input": "2021-05-25T12:30:50.506089Z",
     "iopub.status.busy": "2021-05-25T12:30:50.504918Z",
     "iopub.status.idle": "2021-05-25T12:30:50.568509Z",
     "shell.execute_reply": "2021-05-25T12:30:50.567838Z",
     "shell.execute_reply.started": "2021-05-24T14:36:56.073769Z"
    },
    "id": "-0CnjENHwcOq",
    "papermill": {
     "duration": 0.118501,
     "end_time": "2021-05-25T12:30:50.568650",
     "exception": false,
     "start_time": "2021-05-25T12:30:50.450149",
     "status": "completed"
    },
    "tags": []
   },
   "outputs": [
    {
     "name": "stdout",
     "output_type": "stream",
     "text": [
      "<class 'pandas.core.frame.DataFrame'>\n"
     ]
    }
   ],
   "source": [
    "df = pd.read_csv(\"Data.csv\", sep =',',  header =0)\n",
    "print(type(df))"
   ]
  },
  {
   "cell_type": "markdown",
   "id": "b059e095",
   "metadata": {
    "id": "B8xYZHPi6b4v",
    "papermill": {
     "duration": 0.051708,
     "end_time": "2021-05-25T12:30:50.673789",
     "exception": false,
     "start_time": "2021-05-25T12:30:50.622081",
     "status": "completed"
    },
    "tags": []
   },
   "source": [
    "# III . DATA DESCRIPTION"
   ]
  },
  {
   "cell_type": "markdown",
   "id": "dcb1bd83",
   "metadata": {},
   "source": [
    "- Afficher une description générale des données (premières et dernières lignes)"
   ]
  },
  {
   "cell_type": "code",
   "execution_count": 4,
   "id": "92cd083e",
   "metadata": {},
   "outputs": [
    {
     "data": {
      "text/html": [
       "<div>\n",
       "<style scoped>\n",
       "    .dataframe tbody tr th:only-of-type {\n",
       "        vertical-align: middle;\n",
       "    }\n",
       "\n",
       "    .dataframe tbody tr th {\n",
       "        vertical-align: top;\n",
       "    }\n",
       "\n",
       "    .dataframe thead th {\n",
       "        text-align: right;\n",
       "    }\n",
       "</style>\n",
       "<table border=\"1\" class=\"dataframe\">\n",
       "  <thead>\n",
       "    <tr style=\"text-align: right;\">\n",
       "      <th></th>\n",
       "      <th>id</th>\n",
       "      <th>gender</th>\n",
       "      <th>age</th>\n",
       "      <th>hypertension</th>\n",
       "      <th>heart_disease</th>\n",
       "      <th>ever_married</th>\n",
       "      <th>work_type</th>\n",
       "      <th>Residence_type</th>\n",
       "      <th>avg_glucose_level</th>\n",
       "      <th>bmi</th>\n",
       "      <th>smoking_status</th>\n",
       "      <th>stroke</th>\n",
       "    </tr>\n",
       "  </thead>\n",
       "  <tbody>\n",
       "    <tr>\n",
       "      <th>0</th>\n",
       "      <td>9046</td>\n",
       "      <td>Male</td>\n",
       "      <td>67.0</td>\n",
       "      <td>0</td>\n",
       "      <td>1</td>\n",
       "      <td>Yes</td>\n",
       "      <td>Private</td>\n",
       "      <td>Urban</td>\n",
       "      <td>228.69</td>\n",
       "      <td>36.6</td>\n",
       "      <td>formerly smoked</td>\n",
       "      <td>1</td>\n",
       "    </tr>\n",
       "    <tr>\n",
       "      <th>1</th>\n",
       "      <td>51676</td>\n",
       "      <td>Female</td>\n",
       "      <td>61.0</td>\n",
       "      <td>0</td>\n",
       "      <td>0</td>\n",
       "      <td>Yes</td>\n",
       "      <td>Self-employed</td>\n",
       "      <td>Rural</td>\n",
       "      <td>202.21</td>\n",
       "      <td>NaN</td>\n",
       "      <td>never smoked</td>\n",
       "      <td>1</td>\n",
       "    </tr>\n",
       "    <tr>\n",
       "      <th>2</th>\n",
       "      <td>31112</td>\n",
       "      <td>Male</td>\n",
       "      <td>80.0</td>\n",
       "      <td>0</td>\n",
       "      <td>1</td>\n",
       "      <td>Yes</td>\n",
       "      <td>Private</td>\n",
       "      <td>Rural</td>\n",
       "      <td>105.92</td>\n",
       "      <td>32.5</td>\n",
       "      <td>never smoked</td>\n",
       "      <td>1</td>\n",
       "    </tr>\n",
       "    <tr>\n",
       "      <th>3</th>\n",
       "      <td>60182</td>\n",
       "      <td>Female</td>\n",
       "      <td>49.0</td>\n",
       "      <td>0</td>\n",
       "      <td>0</td>\n",
       "      <td>Yes</td>\n",
       "      <td>Private</td>\n",
       "      <td>Urban</td>\n",
       "      <td>171.23</td>\n",
       "      <td>34.4</td>\n",
       "      <td>smokes</td>\n",
       "      <td>1</td>\n",
       "    </tr>\n",
       "    <tr>\n",
       "      <th>4</th>\n",
       "      <td>1665</td>\n",
       "      <td>Female</td>\n",
       "      <td>79.0</td>\n",
       "      <td>1</td>\n",
       "      <td>0</td>\n",
       "      <td>Yes</td>\n",
       "      <td>Self-employed</td>\n",
       "      <td>Rural</td>\n",
       "      <td>174.12</td>\n",
       "      <td>24.0</td>\n",
       "      <td>never smoked</td>\n",
       "      <td>1</td>\n",
       "    </tr>\n",
       "    <tr>\n",
       "      <th>...</th>\n",
       "      <td>...</td>\n",
       "      <td>...</td>\n",
       "      <td>...</td>\n",
       "      <td>...</td>\n",
       "      <td>...</td>\n",
       "      <td>...</td>\n",
       "      <td>...</td>\n",
       "      <td>...</td>\n",
       "      <td>...</td>\n",
       "      <td>...</td>\n",
       "      <td>...</td>\n",
       "      <td>...</td>\n",
       "    </tr>\n",
       "    <tr>\n",
       "      <th>5105</th>\n",
       "      <td>18234</td>\n",
       "      <td>Female</td>\n",
       "      <td>80.0</td>\n",
       "      <td>1</td>\n",
       "      <td>0</td>\n",
       "      <td>Yes</td>\n",
       "      <td>Private</td>\n",
       "      <td>Urban</td>\n",
       "      <td>83.75</td>\n",
       "      <td>NaN</td>\n",
       "      <td>never smoked</td>\n",
       "      <td>0</td>\n",
       "    </tr>\n",
       "    <tr>\n",
       "      <th>5106</th>\n",
       "      <td>44873</td>\n",
       "      <td>Female</td>\n",
       "      <td>81.0</td>\n",
       "      <td>0</td>\n",
       "      <td>0</td>\n",
       "      <td>Yes</td>\n",
       "      <td>Self-employed</td>\n",
       "      <td>Urban</td>\n",
       "      <td>125.20</td>\n",
       "      <td>40.0</td>\n",
       "      <td>never smoked</td>\n",
       "      <td>0</td>\n",
       "    </tr>\n",
       "    <tr>\n",
       "      <th>5107</th>\n",
       "      <td>19723</td>\n",
       "      <td>Female</td>\n",
       "      <td>35.0</td>\n",
       "      <td>0</td>\n",
       "      <td>0</td>\n",
       "      <td>Yes</td>\n",
       "      <td>Self-employed</td>\n",
       "      <td>Rural</td>\n",
       "      <td>82.99</td>\n",
       "      <td>30.6</td>\n",
       "      <td>never smoked</td>\n",
       "      <td>0</td>\n",
       "    </tr>\n",
       "    <tr>\n",
       "      <th>5108</th>\n",
       "      <td>37544</td>\n",
       "      <td>Male</td>\n",
       "      <td>51.0</td>\n",
       "      <td>0</td>\n",
       "      <td>0</td>\n",
       "      <td>Yes</td>\n",
       "      <td>Private</td>\n",
       "      <td>Rural</td>\n",
       "      <td>166.29</td>\n",
       "      <td>25.6</td>\n",
       "      <td>formerly smoked</td>\n",
       "      <td>0</td>\n",
       "    </tr>\n",
       "    <tr>\n",
       "      <th>5109</th>\n",
       "      <td>44679</td>\n",
       "      <td>Female</td>\n",
       "      <td>44.0</td>\n",
       "      <td>0</td>\n",
       "      <td>0</td>\n",
       "      <td>Yes</td>\n",
       "      <td>Govt_job</td>\n",
       "      <td>Urban</td>\n",
       "      <td>85.28</td>\n",
       "      <td>26.2</td>\n",
       "      <td>Unknown</td>\n",
       "      <td>0</td>\n",
       "    </tr>\n",
       "  </tbody>\n",
       "</table>\n",
       "<p>5110 rows × 12 columns</p>\n",
       "</div>"
      ],
      "text/plain": [
       "         id  gender   age  hypertension  heart_disease ever_married  \\\n",
       "0      9046    Male  67.0             0              1          Yes   \n",
       "1     51676  Female  61.0             0              0          Yes   \n",
       "2     31112    Male  80.0             0              1          Yes   \n",
       "3     60182  Female  49.0             0              0          Yes   \n",
       "4      1665  Female  79.0             1              0          Yes   \n",
       "...     ...     ...   ...           ...            ...          ...   \n",
       "5105  18234  Female  80.0             1              0          Yes   \n",
       "5106  44873  Female  81.0             0              0          Yes   \n",
       "5107  19723  Female  35.0             0              0          Yes   \n",
       "5108  37544    Male  51.0             0              0          Yes   \n",
       "5109  44679  Female  44.0             0              0          Yes   \n",
       "\n",
       "          work_type Residence_type  avg_glucose_level   bmi   smoking_status  \\\n",
       "0           Private          Urban             228.69  36.6  formerly smoked   \n",
       "1     Self-employed          Rural             202.21   NaN     never smoked   \n",
       "2           Private          Rural             105.92  32.5     never smoked   \n",
       "3           Private          Urban             171.23  34.4           smokes   \n",
       "4     Self-employed          Rural             174.12  24.0     never smoked   \n",
       "...             ...            ...                ...   ...              ...   \n",
       "5105        Private          Urban              83.75   NaN     never smoked   \n",
       "5106  Self-employed          Urban             125.20  40.0     never smoked   \n",
       "5107  Self-employed          Rural              82.99  30.6     never smoked   \n",
       "5108        Private          Rural             166.29  25.6  formerly smoked   \n",
       "5109       Govt_job          Urban              85.28  26.2          Unknown   \n",
       "\n",
       "      stroke  \n",
       "0          1  \n",
       "1          1  \n",
       "2          1  \n",
       "3          1  \n",
       "4          1  \n",
       "...      ...  \n",
       "5105       0  \n",
       "5106       0  \n",
       "5107       0  \n",
       "5108       0  \n",
       "5109       0  \n",
       "\n",
       "[5110 rows x 12 columns]"
      ]
     },
     "execution_count": 4,
     "metadata": {},
     "output_type": "execute_result"
    }
   ],
   "source": [
    "df.head(5110)"
   ]
  },
  {
   "cell_type": "markdown",
   "id": "6483c37d",
   "metadata": {
    "id": "RPs2Skkf6yw3",
    "papermill": {
     "duration": 0.053071,
     "end_time": "2021-05-25T12:30:51.056994",
     "exception": false,
     "start_time": "2021-05-25T12:30:51.003923",
     "status": "completed"
    },
    "tags": []
   },
   "source": [
    "## 1. Data Dimension"
   ]
  },
  {
   "cell_type": "markdown",
   "id": "05c91688",
   "metadata": {},
   "source": [
    "- Afficher le shape des lignes et des colonnes du dataframe\n",
    "**nombrede ligne 5110*\n",
    "**nombre de colonnes: 12*"
   ]
  },
  {
   "cell_type": "code",
   "execution_count": 5,
   "id": "3b7a5b8f",
   "metadata": {},
   "outputs": [
    {
     "data": {
      "text/plain": [
       "(5110, 12)"
      ]
     },
     "execution_count": 5,
     "metadata": {},
     "output_type": "execute_result"
    }
   ],
   "source": [
    "df.shape"
   ]
  },
  {
   "cell_type": "markdown",
   "id": "105e9cb2",
   "metadata": {},
   "source": [
    "## 2. Data types"
   ]
  },
  {
   "cell_type": "raw",
   "id": "6581fc31",
   "metadata": {},
   "source": [
    "2.1 - afficher les informations du dataframe"
   ]
  },
  {
   "cell_type": "code",
   "execution_count": 6,
   "id": "3cfbe751",
   "metadata": {},
   "outputs": [
    {
     "name": "stdout",
     "output_type": "stream",
     "text": [
      "<class 'pandas.core.frame.DataFrame'>\n",
      "RangeIndex: 5110 entries, 0 to 5109\n",
      "Data columns (total 12 columns):\n",
      " #   Column             Non-Null Count  Dtype  \n",
      "---  ------             --------------  -----  \n",
      " 0   id                 5110 non-null   int64  \n",
      " 1   gender             5110 non-null   object \n",
      " 2   age                5110 non-null   float64\n",
      " 3   hypertension       5110 non-null   int64  \n",
      " 4   heart_disease      5110 non-null   int64  \n",
      " 5   ever_married       5110 non-null   object \n",
      " 6   work_type          5110 non-null   object \n",
      " 7   Residence_type     5110 non-null   object \n",
      " 8   avg_glucose_level  5110 non-null   float64\n",
      " 9   bmi                4909 non-null   float64\n",
      " 10  smoking_status     5110 non-null   object \n",
      " 11  stroke             5110 non-null   int64  \n",
      "dtypes: float64(3), int64(4), object(5)\n",
      "memory usage: 479.2+ KB\n"
     ]
    }
   ],
   "source": [
    "df.info()"
   ]
  },
  {
   "cell_type": "raw",
   "id": "63a99974",
   "metadata": {},
   "source": [
    "2.2 - afficher les types de données dans chaque colonne"
   ]
  },
  {
   "cell_type": "code",
   "execution_count": 7,
   "id": "79bb4703",
   "metadata": {},
   "outputs": [
    {
     "data": {
      "text/plain": [
       "id                     int64\n",
       "gender                object\n",
       "age                  float64\n",
       "hypertension           int64\n",
       "heart_disease          int64\n",
       "ever_married          object\n",
       "work_type             object\n",
       "Residence_type        object\n",
       "avg_glucose_level    float64\n",
       "bmi                  float64\n",
       "smoking_status        object\n",
       "stroke                 int64\n",
       "dtype: object"
      ]
     },
     "execution_count": 7,
     "metadata": {},
     "output_type": "execute_result"
    }
   ],
   "source": [
    "df.dtypes"
   ]
  },
  {
   "cell_type": "raw",
   "id": "fa5a4ac2",
   "metadata": {},
   "source": [
    "2.3 - parcourir les colonnes du dataframe (for) pour afficher leur type et le nombre de valeurs null (ou manquantes)"
   ]
  },
  {
   "cell_type": "code",
   "execution_count": 8,
   "id": "4bd4dfaa",
   "metadata": {},
   "outputs": [
    {
     "name": "stdout",
     "output_type": "stream",
     "text": [
      "id int64 0\n",
      "gender object 0\n",
      "age float64 0\n",
      "hypertension int64 0\n",
      "heart_disease int64 0\n",
      "ever_married object 0\n",
      "work_type object 0\n",
      "Residence_type object 0\n",
      "avg_glucose_level float64 0\n",
      "bmi float64 201\n",
      "smoking_status object 0\n",
      "stroke int64 0\n"
     ]
    }
   ],
   "source": [
    "for col in df.columns:\n",
    "    print(col,df[col].dtype,df[col].isnull().sum())"
   ]
  },
  {
   "cell_type": "markdown",
   "id": "ab6b7c7c",
   "metadata": {},
   "source": [
    "2.4 - Supprimer la colonne Id qui n'est pas intéressante (df.drop(['col'], axis=1, inplace=True))\n",
    "\n",
    "Vérifier."
   ]
  },
  {
   "cell_type": "code",
   "execution_count": 9,
   "id": "0a7f0fbc",
   "metadata": {},
   "outputs": [],
   "source": [
    "# on trave sur df locaemnent\n",
    "df.drop(['id'], axis=1, inplace=True)\n",
    "# on trave sur copie df\n",
    "# df=df.drop(['id'],axis=0)"
   ]
  },
  {
   "cell_type": "markdown",
   "id": "34ff40d3",
   "metadata": {},
   "source": [
    "2.5 - vérifier la suppression"
   ]
  },
  {
   "cell_type": "code",
   "execution_count": 10,
   "id": "23f0478a",
   "metadata": {},
   "outputs": [
    {
     "data": {
      "text/html": [
       "<div>\n",
       "<style scoped>\n",
       "    .dataframe tbody tr th:only-of-type {\n",
       "        vertical-align: middle;\n",
       "    }\n",
       "\n",
       "    .dataframe tbody tr th {\n",
       "        vertical-align: top;\n",
       "    }\n",
       "\n",
       "    .dataframe thead th {\n",
       "        text-align: right;\n",
       "    }\n",
       "</style>\n",
       "<table border=\"1\" class=\"dataframe\">\n",
       "  <thead>\n",
       "    <tr style=\"text-align: right;\">\n",
       "      <th></th>\n",
       "      <th>gender</th>\n",
       "      <th>age</th>\n",
       "      <th>hypertension</th>\n",
       "      <th>heart_disease</th>\n",
       "      <th>ever_married</th>\n",
       "      <th>work_type</th>\n",
       "      <th>Residence_type</th>\n",
       "      <th>avg_glucose_level</th>\n",
       "      <th>bmi</th>\n",
       "      <th>smoking_status</th>\n",
       "      <th>stroke</th>\n",
       "    </tr>\n",
       "  </thead>\n",
       "  <tbody>\n",
       "    <tr>\n",
       "      <th>0</th>\n",
       "      <td>Male</td>\n",
       "      <td>67.0</td>\n",
       "      <td>0</td>\n",
       "      <td>1</td>\n",
       "      <td>Yes</td>\n",
       "      <td>Private</td>\n",
       "      <td>Urban</td>\n",
       "      <td>228.69</td>\n",
       "      <td>36.6</td>\n",
       "      <td>formerly smoked</td>\n",
       "      <td>1</td>\n",
       "    </tr>\n",
       "    <tr>\n",
       "      <th>1</th>\n",
       "      <td>Female</td>\n",
       "      <td>61.0</td>\n",
       "      <td>0</td>\n",
       "      <td>0</td>\n",
       "      <td>Yes</td>\n",
       "      <td>Self-employed</td>\n",
       "      <td>Rural</td>\n",
       "      <td>202.21</td>\n",
       "      <td>NaN</td>\n",
       "      <td>never smoked</td>\n",
       "      <td>1</td>\n",
       "    </tr>\n",
       "    <tr>\n",
       "      <th>2</th>\n",
       "      <td>Male</td>\n",
       "      <td>80.0</td>\n",
       "      <td>0</td>\n",
       "      <td>1</td>\n",
       "      <td>Yes</td>\n",
       "      <td>Private</td>\n",
       "      <td>Rural</td>\n",
       "      <td>105.92</td>\n",
       "      <td>32.5</td>\n",
       "      <td>never smoked</td>\n",
       "      <td>1</td>\n",
       "    </tr>\n",
       "    <tr>\n",
       "      <th>3</th>\n",
       "      <td>Female</td>\n",
       "      <td>49.0</td>\n",
       "      <td>0</td>\n",
       "      <td>0</td>\n",
       "      <td>Yes</td>\n",
       "      <td>Private</td>\n",
       "      <td>Urban</td>\n",
       "      <td>171.23</td>\n",
       "      <td>34.4</td>\n",
       "      <td>smokes</td>\n",
       "      <td>1</td>\n",
       "    </tr>\n",
       "    <tr>\n",
       "      <th>4</th>\n",
       "      <td>Female</td>\n",
       "      <td>79.0</td>\n",
       "      <td>1</td>\n",
       "      <td>0</td>\n",
       "      <td>Yes</td>\n",
       "      <td>Self-employed</td>\n",
       "      <td>Rural</td>\n",
       "      <td>174.12</td>\n",
       "      <td>24.0</td>\n",
       "      <td>never smoked</td>\n",
       "      <td>1</td>\n",
       "    </tr>\n",
       "  </tbody>\n",
       "</table>\n",
       "</div>"
      ],
      "text/plain": [
       "   gender   age  hypertension  heart_disease ever_married      work_type  \\\n",
       "0    Male  67.0             0              1          Yes        Private   \n",
       "1  Female  61.0             0              0          Yes  Self-employed   \n",
       "2    Male  80.0             0              1          Yes        Private   \n",
       "3  Female  49.0             0              0          Yes        Private   \n",
       "4  Female  79.0             1              0          Yes  Self-employed   \n",
       "\n",
       "  Residence_type  avg_glucose_level   bmi   smoking_status  stroke  \n",
       "0          Urban             228.69  36.6  formerly smoked       1  \n",
       "1          Rural             202.21   NaN     never smoked       1  \n",
       "2          Rural             105.92  32.5     never smoked       1  \n",
       "3          Urban             171.23  34.4           smokes       1  \n",
       "4          Rural             174.12  24.0     never smoked       1  "
      ]
     },
     "execution_count": 10,
     "metadata": {},
     "output_type": "execute_result"
    }
   ],
   "source": [
    "df.head()"
   ]
  },
  {
   "cell_type": "raw",
   "id": "6a440d67",
   "metadata": {},
   "source": [
    "2.6 - convertir le type de la colonne 'age' en int (df.drop())\n",
    "df['col'].astype(type)"
   ]
  },
  {
   "cell_type": "code",
   "execution_count": 11,
   "id": "0e156ed4",
   "metadata": {},
   "outputs": [
    {
     "data": {
      "text/plain": [
       "0       67\n",
       "1       61\n",
       "2       80\n",
       "3       49\n",
       "4       79\n",
       "        ..\n",
       "5105    80\n",
       "5106    81\n",
       "5107    35\n",
       "5108    51\n",
       "5109    44\n",
       "Name: age, Length: 5110, dtype: int32"
      ]
     },
     "execution_count": 11,
     "metadata": {},
     "output_type": "execute_result"
    }
   ],
   "source": [
    "# marge de valeur akther or pandas standard 64\n",
    "df['age'].astype(int)\n",
    "#df.age.astype('int64')"
   ]
  },
  {
   "cell_type": "markdown",
   "id": "dc34ff55",
   "metadata": {
    "id": "mAib9PiO8MuE",
    "papermill": {
     "duration": 0.056739,
     "end_time": "2021-05-25T12:30:51.757132",
     "exception": false,
     "start_time": "2021-05-25T12:30:51.700393",
     "status": "completed"
    },
    "tags": []
   },
   "source": [
    "##  3. Check NaN"
   ]
  },
  {
   "cell_type": "markdown",
   "id": "6a4750df",
   "metadata": {},
   "source": [
    "3.1 - Vérifier l'existance de valeurs manquantes"
   ]
  },
  {
   "cell_type": "code",
   "execution_count": 12,
   "id": "a01dee1a",
   "metadata": {},
   "outputs": [
    {
     "data": {
      "text/plain": [
       "True"
      ]
     },
     "execution_count": 12,
     "metadata": {},
     "output_type": "execute_result"
    }
   ],
   "source": [
    "# df_check=df.isnull()\n",
    "\n",
    "# print(df_check)\n",
    "df.isnull().values.any()\n",
    "\n",
    "# any pour ire true or false\n",
    "# isna() or isnull() kifkif ==> afiiche tab "
   ]
  },
  {
   "cell_type": "markdown",
   "id": "ed924dd9",
   "metadata": {},
   "source": [
    "3.2 - chercher le nombre de valeurs NaN dans chaque colonne et son nombre de valeurs"
   ]
  },
  {
   "cell_type": "code",
   "execution_count": 13,
   "id": "994db74e",
   "metadata": {},
   "outputs": [
    {
     "name": "stdout",
     "output_type": "stream",
     "text": [
      "gender                 0\n",
      "age                    0\n",
      "hypertension           0\n",
      "heart_disease          0\n",
      "ever_married           0\n",
      "work_type              0\n",
      "Residence_type         0\n",
      "avg_glucose_level      0\n",
      "bmi                  201\n",
      "smoking_status         0\n",
      "stroke                 0\n",
      "dtype: int64\n"
     ]
    }
   ],
   "source": [
    "count_nan = len(df) - df.count()\n",
    "print(count_nan)\n",
    "#df.isnull().sum()\n",
    "\n",
    "# count nbre de ligne remplir qlq soit valeur"
   ]
  },
  {
   "cell_type": "markdown",
   "id": "220fd56b",
   "metadata": {},
   "source": [
    "3.3 - Supprimer les nan dans la variable 'bmi'pour les remplacer par la moyenne des 'bmi'  \n",
    "**NB: utiliser la méthode fillna(...)**"
   ]
  },
  {
   "cell_type": "code",
   "execution_count": 14,
   "id": "70dc8129",
   "metadata": {},
   "outputs": [
    {
     "data": {
      "text/html": [
       "<div>\n",
       "<style scoped>\n",
       "    .dataframe tbody tr th:only-of-type {\n",
       "        vertical-align: middle;\n",
       "    }\n",
       "\n",
       "    .dataframe tbody tr th {\n",
       "        vertical-align: top;\n",
       "    }\n",
       "\n",
       "    .dataframe thead th {\n",
       "        text-align: right;\n",
       "    }\n",
       "</style>\n",
       "<table border=\"1\" class=\"dataframe\">\n",
       "  <thead>\n",
       "    <tr style=\"text-align: right;\">\n",
       "      <th></th>\n",
       "      <th>gender</th>\n",
       "      <th>age</th>\n",
       "      <th>hypertension</th>\n",
       "      <th>heart_disease</th>\n",
       "      <th>ever_married</th>\n",
       "      <th>work_type</th>\n",
       "      <th>Residence_type</th>\n",
       "      <th>avg_glucose_level</th>\n",
       "      <th>bmi</th>\n",
       "      <th>smoking_status</th>\n",
       "      <th>stroke</th>\n",
       "    </tr>\n",
       "  </thead>\n",
       "  <tbody>\n",
       "    <tr>\n",
       "      <th>0</th>\n",
       "      <td>Male</td>\n",
       "      <td>67.0</td>\n",
       "      <td>0</td>\n",
       "      <td>1</td>\n",
       "      <td>Yes</td>\n",
       "      <td>Private</td>\n",
       "      <td>Urban</td>\n",
       "      <td>228.69</td>\n",
       "      <td>36.600000</td>\n",
       "      <td>formerly smoked</td>\n",
       "      <td>1</td>\n",
       "    </tr>\n",
       "    <tr>\n",
       "      <th>1</th>\n",
       "      <td>Female</td>\n",
       "      <td>61.0</td>\n",
       "      <td>0</td>\n",
       "      <td>0</td>\n",
       "      <td>Yes</td>\n",
       "      <td>Self-employed</td>\n",
       "      <td>Rural</td>\n",
       "      <td>202.21</td>\n",
       "      <td>28.893237</td>\n",
       "      <td>never smoked</td>\n",
       "      <td>1</td>\n",
       "    </tr>\n",
       "    <tr>\n",
       "      <th>2</th>\n",
       "      <td>Male</td>\n",
       "      <td>80.0</td>\n",
       "      <td>0</td>\n",
       "      <td>1</td>\n",
       "      <td>Yes</td>\n",
       "      <td>Private</td>\n",
       "      <td>Rural</td>\n",
       "      <td>105.92</td>\n",
       "      <td>32.500000</td>\n",
       "      <td>never smoked</td>\n",
       "      <td>1</td>\n",
       "    </tr>\n",
       "    <tr>\n",
       "      <th>3</th>\n",
       "      <td>Female</td>\n",
       "      <td>49.0</td>\n",
       "      <td>0</td>\n",
       "      <td>0</td>\n",
       "      <td>Yes</td>\n",
       "      <td>Private</td>\n",
       "      <td>Urban</td>\n",
       "      <td>171.23</td>\n",
       "      <td>34.400000</td>\n",
       "      <td>smokes</td>\n",
       "      <td>1</td>\n",
       "    </tr>\n",
       "    <tr>\n",
       "      <th>4</th>\n",
       "      <td>Female</td>\n",
       "      <td>79.0</td>\n",
       "      <td>1</td>\n",
       "      <td>0</td>\n",
       "      <td>Yes</td>\n",
       "      <td>Self-employed</td>\n",
       "      <td>Rural</td>\n",
       "      <td>174.12</td>\n",
       "      <td>24.000000</td>\n",
       "      <td>never smoked</td>\n",
       "      <td>1</td>\n",
       "    </tr>\n",
       "    <tr>\n",
       "      <th>...</th>\n",
       "      <td>...</td>\n",
       "      <td>...</td>\n",
       "      <td>...</td>\n",
       "      <td>...</td>\n",
       "      <td>...</td>\n",
       "      <td>...</td>\n",
       "      <td>...</td>\n",
       "      <td>...</td>\n",
       "      <td>...</td>\n",
       "      <td>...</td>\n",
       "      <td>...</td>\n",
       "    </tr>\n",
       "    <tr>\n",
       "      <th>5105</th>\n",
       "      <td>Female</td>\n",
       "      <td>80.0</td>\n",
       "      <td>1</td>\n",
       "      <td>0</td>\n",
       "      <td>Yes</td>\n",
       "      <td>Private</td>\n",
       "      <td>Urban</td>\n",
       "      <td>83.75</td>\n",
       "      <td>28.893237</td>\n",
       "      <td>never smoked</td>\n",
       "      <td>0</td>\n",
       "    </tr>\n",
       "    <tr>\n",
       "      <th>5106</th>\n",
       "      <td>Female</td>\n",
       "      <td>81.0</td>\n",
       "      <td>0</td>\n",
       "      <td>0</td>\n",
       "      <td>Yes</td>\n",
       "      <td>Self-employed</td>\n",
       "      <td>Urban</td>\n",
       "      <td>125.20</td>\n",
       "      <td>40.000000</td>\n",
       "      <td>never smoked</td>\n",
       "      <td>0</td>\n",
       "    </tr>\n",
       "    <tr>\n",
       "      <th>5107</th>\n",
       "      <td>Female</td>\n",
       "      <td>35.0</td>\n",
       "      <td>0</td>\n",
       "      <td>0</td>\n",
       "      <td>Yes</td>\n",
       "      <td>Self-employed</td>\n",
       "      <td>Rural</td>\n",
       "      <td>82.99</td>\n",
       "      <td>30.600000</td>\n",
       "      <td>never smoked</td>\n",
       "      <td>0</td>\n",
       "    </tr>\n",
       "    <tr>\n",
       "      <th>5108</th>\n",
       "      <td>Male</td>\n",
       "      <td>51.0</td>\n",
       "      <td>0</td>\n",
       "      <td>0</td>\n",
       "      <td>Yes</td>\n",
       "      <td>Private</td>\n",
       "      <td>Rural</td>\n",
       "      <td>166.29</td>\n",
       "      <td>25.600000</td>\n",
       "      <td>formerly smoked</td>\n",
       "      <td>0</td>\n",
       "    </tr>\n",
       "    <tr>\n",
       "      <th>5109</th>\n",
       "      <td>Female</td>\n",
       "      <td>44.0</td>\n",
       "      <td>0</td>\n",
       "      <td>0</td>\n",
       "      <td>Yes</td>\n",
       "      <td>Govt_job</td>\n",
       "      <td>Urban</td>\n",
       "      <td>85.28</td>\n",
       "      <td>26.200000</td>\n",
       "      <td>Unknown</td>\n",
       "      <td>0</td>\n",
       "    </tr>\n",
       "  </tbody>\n",
       "</table>\n",
       "<p>5110 rows × 11 columns</p>\n",
       "</div>"
      ],
      "text/plain": [
       "      gender   age  hypertension  heart_disease ever_married      work_type  \\\n",
       "0       Male  67.0             0              1          Yes        Private   \n",
       "1     Female  61.0             0              0          Yes  Self-employed   \n",
       "2       Male  80.0             0              1          Yes        Private   \n",
       "3     Female  49.0             0              0          Yes        Private   \n",
       "4     Female  79.0             1              0          Yes  Self-employed   \n",
       "...      ...   ...           ...            ...          ...            ...   \n",
       "5105  Female  80.0             1              0          Yes        Private   \n",
       "5106  Female  81.0             0              0          Yes  Self-employed   \n",
       "5107  Female  35.0             0              0          Yes  Self-employed   \n",
       "5108    Male  51.0             0              0          Yes        Private   \n",
       "5109  Female  44.0             0              0          Yes       Govt_job   \n",
       "\n",
       "     Residence_type  avg_glucose_level        bmi   smoking_status  stroke  \n",
       "0             Urban             228.69  36.600000  formerly smoked       1  \n",
       "1             Rural             202.21  28.893237     never smoked       1  \n",
       "2             Rural             105.92  32.500000     never smoked       1  \n",
       "3             Urban             171.23  34.400000           smokes       1  \n",
       "4             Rural             174.12  24.000000     never smoked       1  \n",
       "...             ...                ...        ...              ...     ...  \n",
       "5105          Urban              83.75  28.893237     never smoked       0  \n",
       "5106          Urban             125.20  40.000000     never smoked       0  \n",
       "5107          Rural              82.99  30.600000     never smoked       0  \n",
       "5108          Rural             166.29  25.600000  formerly smoked       0  \n",
       "5109          Urban              85.28  26.200000          Unknown       0  \n",
       "\n",
       "[5110 rows x 11 columns]"
      ]
     },
     "execution_count": 14,
     "metadata": {},
     "output_type": "execute_result"
    }
   ],
   "source": [
    "#df.fillna(df['bmi'].mean(),inplace=True)\n",
    "df=df.fillna(df['bmi'].mean())\n",
    "df"
   ]
  },
  {
   "cell_type": "markdown",
   "id": "ba56ad55",
   "metadata": {},
   "source": [
    "3.4 - Afficher le nombre lignes pour chaque classe de la colonne Stroke"
   ]
  },
  {
   "cell_type": "code",
   "execution_count": 15,
   "id": "ecff3a15",
   "metadata": {},
   "outputs": [
    {
     "data": {
      "text/plain": [
       "stroke\n",
       "0    4861\n",
       "1     249\n",
       "dtype: int64"
      ]
     },
     "execution_count": 15,
     "metadata": {},
     "output_type": "execute_result"
    }
   ],
   "source": [
    "# g=df.groupby('stroke')\n",
    "# print(g.get_group(axis=0).shape)\n",
    "df.groupby('stroke').size()\n",
    "\n",
    "# ou bien\n",
    "# df['stroke'].vaue_counts() ==> base n'est pas equilibre"
   ]
  },
  {
   "cell_type": "markdown",
   "id": "d790484f",
   "metadata": {},
   "source": [
    "3.5 - afficher le nombre de femme et d'homme (gender) dans le dataframe"
   ]
  },
  {
   "cell_type": "code",
   "execution_count": 16,
   "id": "a258659b",
   "metadata": {},
   "outputs": [
    {
     "name": "stdout",
     "output_type": "stream",
     "text": [
      "2115\n",
      "2994\n"
     ]
    }
   ],
   "source": [
    "#scission des données selon le gender\n",
    "g = df.groupby('gender')\n",
    "#calculer la dimension du sous-DataFrame associé aux hommes et femmes\n",
    "print(g.get_group('Male').shape[0])\n",
    "print(g.get_group('Female').shape[0])\n",
    "\n",
    "# ou bien \n",
    "# df.gender.value_counts()"
   ]
  },
  {
   "cell_type": "markdown",
   "id": "d2ee4fec",
   "metadata": {},
   "source": [
    "3.6 - afficher le nombre de personnes mariées"
   ]
  },
  {
   "cell_type": "code",
   "execution_count": 17,
   "id": "d07564ac",
   "metadata": {},
   "outputs": [
    {
     "name": "stdout",
     "output_type": "stream",
     "text": [
      "3353\n"
     ]
    }
   ],
   "source": [
    "#scission des données selon le gender\n",
    "g = df.groupby('ever_married')\n",
    "#calculer la dimension du sous-DataFrame associé aux Yes\n",
    "print(g.get_group('Yes').shape[0])\n",
    "\n",
    "# ou bien\n",
    "# df.ever_married.values_counts()\n",
    "# ou bien\n",
    "\n",
    "# len(df.loc[df['ever_married']=='Yes'])\n",
    "\n",
    "# ou bien\n",
    "# df[df['ever_married']==Yes].shape[0]"
   ]
  },
  {
   "cell_type": "markdown",
   "id": "3e160852",
   "metadata": {
    "id": "7EVxNV9-kU1D",
    "papermill": {
     "duration": 0.055759,
     "end_time": "2021-05-25T12:30:52.406713",
     "exception": false,
     "start_time": "2021-05-25T12:30:52.350954",
     "status": "completed"
    },
    "tags": []
   },
   "source": [
    "## 4. Descriptive Statistical"
   ]
  },
  {
   "cell_type": "markdown",
   "id": "f95bf65b",
   "metadata": {},
   "source": [
    "4.1 - examiner le rapport entre le type de travail et le stroke (pandas.crosstab(...))"
   ]
  },
  {
   "cell_type": "code",
   "execution_count": 18,
   "id": "01b1260e",
   "metadata": {},
   "outputs": [
    {
     "data": {
      "text/html": [
       "<div>\n",
       "<style scoped>\n",
       "    .dataframe tbody tr th:only-of-type {\n",
       "        vertical-align: middle;\n",
       "    }\n",
       "\n",
       "    .dataframe tbody tr th {\n",
       "        vertical-align: top;\n",
       "    }\n",
       "\n",
       "    .dataframe thead th {\n",
       "        text-align: right;\n",
       "    }\n",
       "</style>\n",
       "<table border=\"1\" class=\"dataframe\">\n",
       "  <thead>\n",
       "    <tr style=\"text-align: right;\">\n",
       "      <th>stroke</th>\n",
       "      <th>0</th>\n",
       "      <th>1</th>\n",
       "    </tr>\n",
       "    <tr>\n",
       "      <th>work_type</th>\n",
       "      <th></th>\n",
       "      <th></th>\n",
       "    </tr>\n",
       "  </thead>\n",
       "  <tbody>\n",
       "    <tr>\n",
       "      <th>Govt_job</th>\n",
       "      <td>624</td>\n",
       "      <td>33</td>\n",
       "    </tr>\n",
       "    <tr>\n",
       "      <th>Never_worked</th>\n",
       "      <td>22</td>\n",
       "      <td>0</td>\n",
       "    </tr>\n",
       "    <tr>\n",
       "      <th>Private</th>\n",
       "      <td>2776</td>\n",
       "      <td>149</td>\n",
       "    </tr>\n",
       "    <tr>\n",
       "      <th>Self-employed</th>\n",
       "      <td>754</td>\n",
       "      <td>65</td>\n",
       "    </tr>\n",
       "    <tr>\n",
       "      <th>children</th>\n",
       "      <td>685</td>\n",
       "      <td>2</td>\n",
       "    </tr>\n",
       "  </tbody>\n",
       "</table>\n",
       "</div>"
      ],
      "text/plain": [
       "stroke            0    1\n",
       "work_type               \n",
       "Govt_job        624   33\n",
       "Never_worked     22    0\n",
       "Private        2776  149\n",
       "Self-employed   754   65\n",
       "children        685    2"
      ]
     },
     "execution_count": 18,
     "metadata": {},
     "output_type": "execute_result"
    }
   ],
   "source": [
    "pd.crosstab(df.work_type, df.stroke)"
   ]
  },
  {
   "cell_type": "markdown",
   "id": "c9a13aba",
   "metadata": {},
   "source": [
    "4.2 - visualiser ce rapport avec df.plot.scatter(...) puis avec sns.countplot(..)"
   ]
  },
  {
   "cell_type": "code",
   "execution_count": 19,
   "id": "3c5a9f15",
   "metadata": {},
   "outputs": [
    {
     "data": {
      "text/plain": [
       "<matplotlib.collections.PathCollection at 0x21dcfc31760>"
      ]
     },
     "execution_count": 19,
     "metadata": {},
     "output_type": "execute_result"
    },
    {
     "data": {
      "image/png": "[encoded data removed]",
      "text/plain": [
       "<Figure size 432x288 with 1 Axes>"
      ]
     },
     "metadata": {
      "needs_background": "light"
     },
     "output_type": "display_data"
    }
   ],
   "source": [
    "plt.scatter(x=df['work_type'],y=df['stroke'])\n",
    "\n",
    "# a partir du crosstab par rapport stroke 1 et 0"
   ]
  },
  {
   "cell_type": "code",
   "execution_count": 20,
   "id": "883d8e64",
   "metadata": {},
   "outputs": [
    {
     "data": {
      "text/plain": [
       "<AxesSubplot:xlabel='work_type', ylabel='count'>"
      ]
     },
     "execution_count": 20,
     "metadata": {},
     "output_type": "execute_result"
    },
    {
     "data": {
      "image/png": "[encoded data removed]",
      "text/plain": [
       "<Figure size 432x288 with 1 Axes>"
      ]
     },
     "metadata": {
      "needs_background": "light"
     },
     "output_type": "display_data"
    }
   ],
   "source": [
    "sns.countplot(data=df,x=df['work_type'],hue=df['stroke'])"
   ]
  },
  {
   "cell_type": "markdown",
   "id": "2a0c03b3",
   "metadata": {
    "id": "PDuWjpXDvuny",
    "papermill": {
     "duration": 0.058168,
     "end_time": "2021-05-25T12:30:53.658545",
     "exception": false,
     "start_time": "2021-05-25T12:30:53.600377",
     "status": "completed"
    },
    "tags": []
   },
   "source": [
    "## 5. Numerical Variable"
   ]
  },
  {
   "cell_type": "markdown",
   "id": "9824227f",
   "metadata": {},
   "source": [
    "5.1 - créer un dataframe 'df_num' intermediaire contenant les variables numérique seulement"
   ]
  },
  {
   "cell_type": "code",
   "execution_count": 21,
   "id": "f3ad32d8",
   "metadata": {},
   "outputs": [
    {
     "data": {
      "text/plain": [
       "Index(['age', 'hypertension', 'heart_disease', 'avg_glucose_level', 'bmi',\n",
       "       'stroke'],\n",
       "      dtype='object')"
      ]
     },
     "execution_count": 21,
     "metadata": {},
     "output_type": "execute_result"
    }
   ],
   "source": [
    "# tt colomns num \n",
    "df_num=df._get_numeric_data()\n",
    "df_num.columns"
   ]
  },
  {
   "cell_type": "markdown",
   "id": "df6d5336",
   "metadata": {},
   "source": [
    "5.2- créer un dataframe 'df_cat' intermediaire contenant les variables catégorielles seulement"
   ]
  },
  {
   "cell_type": "code",
   "execution_count": 22,
   "id": "09a92ede",
   "metadata": {},
   "outputs": [
    {
     "data": {
      "text/html": [
       "<div>\n",
       "<style scoped>\n",
       "    .dataframe tbody tr th:only-of-type {\n",
       "        vertical-align: middle;\n",
       "    }\n",
       "\n",
       "    .dataframe tbody tr th {\n",
       "        vertical-align: top;\n",
       "    }\n",
       "\n",
       "    .dataframe thead th {\n",
       "        text-align: right;\n",
       "    }\n",
       "</style>\n",
       "<table border=\"1\" class=\"dataframe\">\n",
       "  <thead>\n",
       "    <tr style=\"text-align: right;\">\n",
       "      <th></th>\n",
       "      <th>gender</th>\n",
       "      <th>ever_married</th>\n",
       "      <th>work_type</th>\n",
       "      <th>Residence_type</th>\n",
       "      <th>smoking_status</th>\n",
       "    </tr>\n",
       "  </thead>\n",
       "  <tbody>\n",
       "    <tr>\n",
       "      <th>0</th>\n",
       "      <td>Male</td>\n",
       "      <td>Yes</td>\n",
       "      <td>Private</td>\n",
       "      <td>Urban</td>\n",
       "      <td>formerly smoked</td>\n",
       "    </tr>\n",
       "    <tr>\n",
       "      <th>1</th>\n",
       "      <td>Female</td>\n",
       "      <td>Yes</td>\n",
       "      <td>Self-employed</td>\n",
       "      <td>Rural</td>\n",
       "      <td>never smoked</td>\n",
       "    </tr>\n",
       "    <tr>\n",
       "      <th>2</th>\n",
       "      <td>Male</td>\n",
       "      <td>Yes</td>\n",
       "      <td>Private</td>\n",
       "      <td>Rural</td>\n",
       "      <td>never smoked</td>\n",
       "    </tr>\n",
       "    <tr>\n",
       "      <th>3</th>\n",
       "      <td>Female</td>\n",
       "      <td>Yes</td>\n",
       "      <td>Private</td>\n",
       "      <td>Urban</td>\n",
       "      <td>smokes</td>\n",
       "    </tr>\n",
       "    <tr>\n",
       "      <th>4</th>\n",
       "      <td>Female</td>\n",
       "      <td>Yes</td>\n",
       "      <td>Self-employed</td>\n",
       "      <td>Rural</td>\n",
       "      <td>never smoked</td>\n",
       "    </tr>\n",
       "    <tr>\n",
       "      <th>...</th>\n",
       "      <td>...</td>\n",
       "      <td>...</td>\n",
       "      <td>...</td>\n",
       "      <td>...</td>\n",
       "      <td>...</td>\n",
       "    </tr>\n",
       "    <tr>\n",
       "      <th>5105</th>\n",
       "      <td>Female</td>\n",
       "      <td>Yes</td>\n",
       "      <td>Private</td>\n",
       "      <td>Urban</td>\n",
       "      <td>never smoked</td>\n",
       "    </tr>\n",
       "    <tr>\n",
       "      <th>5106</th>\n",
       "      <td>Female</td>\n",
       "      <td>Yes</td>\n",
       "      <td>Self-employed</td>\n",
       "      <td>Urban</td>\n",
       "      <td>never smoked</td>\n",
       "    </tr>\n",
       "    <tr>\n",
       "      <th>5107</th>\n",
       "      <td>Female</td>\n",
       "      <td>Yes</td>\n",
       "      <td>Self-employed</td>\n",
       "      <td>Rural</td>\n",
       "      <td>never smoked</td>\n",
       "    </tr>\n",
       "    <tr>\n",
       "      <th>5108</th>\n",
       "      <td>Male</td>\n",
       "      <td>Yes</td>\n",
       "      <td>Private</td>\n",
       "      <td>Rural</td>\n",
       "      <td>formerly smoked</td>\n",
       "    </tr>\n",
       "    <tr>\n",
       "      <th>5109</th>\n",
       "      <td>Female</td>\n",
       "      <td>Yes</td>\n",
       "      <td>Govt_job</td>\n",
       "      <td>Urban</td>\n",
       "      <td>Unknown</td>\n",
       "    </tr>\n",
       "  </tbody>\n",
       "</table>\n",
       "<p>5110 rows × 5 columns</p>\n",
       "</div>"
      ],
      "text/plain": [
       "      gender ever_married      work_type Residence_type   smoking_status\n",
       "0       Male          Yes        Private          Urban  formerly smoked\n",
       "1     Female          Yes  Self-employed          Rural     never smoked\n",
       "2       Male          Yes        Private          Rural     never smoked\n",
       "3     Female          Yes        Private          Urban           smokes\n",
       "4     Female          Yes  Self-employed          Rural     never smoked\n",
       "...      ...          ...            ...            ...              ...\n",
       "5105  Female          Yes        Private          Urban     never smoked\n",
       "5106  Female          Yes  Self-employed          Urban     never smoked\n",
       "5107  Female          Yes  Self-employed          Rural     never smoked\n",
       "5108    Male          Yes        Private          Rural  formerly smoked\n",
       "5109  Female          Yes       Govt_job          Urban          Unknown\n",
       "\n",
       "[5110 rows x 5 columns]"
      ]
     },
     "execution_count": 22,
     "metadata": {},
     "output_type": "execute_result"
    }
   ],
   "source": [
    "df_cat=df.select_dtypes(include=['object'])\n",
    "# df_cat=df.select_dtypes(exclude=['number'])\n",
    "df_cat"
   ]
  },
  {
   "cell_type": "markdown",
   "id": "235d4cd0",
   "metadata": {},
   "source": [
    "5.3 - Afficher en histogrammes les statistiques des variables numériques (df.hist(...))"
   ]
  },
  {
   "cell_type": "code",
   "execution_count": 23,
   "id": "c5c55abc",
   "metadata": {},
   "outputs": [
    {
     "data": {
      "image/png": "[encoded data removed]",
      "text/plain": [
       "<Figure size 432x288 with 6 Axes>"
      ]
     },
     "metadata": {
      "needs_background": "light"
     },
     "output_type": "display_data"
    }
   ],
   "source": [
    "hist=df_num.hist()"
   ]
  },
  {
   "cell_type": "code",
   "execution_count": 24,
   "id": "309ada2e",
   "metadata": {},
   "outputs": [
    {
     "data": {
      "text/plain": [
       "Text(0.5, 1.0, 'bmi')"
      ]
     },
     "execution_count": 24,
     "metadata": {},
     "output_type": "execute_result"
    },
    {
     "data": {
      "image/png": "[encoded data removed]",
      "text/plain": [
       "<Figure size 432x288 with 6 Axes>"
      ]
     },
     "metadata": {
      "needs_background": "light"
     },
     "output_type": "display_data"
    }
   ],
   "source": [
    "n_bin=10\n",
    "fig,axs=plt.subplots(2,3)\n",
    "axs[0,0].hist(df_num['age'],bins=n_bin)\n",
    "axs[0,0].set_title('age')\n",
    "axs[0,1].hist(df_num['hypertension'],bins=n_bin)\n",
    "axs[0,1].set_title('hypertension')\n",
    "axs[1,0].hist(df_num['avg_glucose_level'],bins=n_bin)\n",
    "axs[1,0].set_title('levelof glugoce')\n",
    "axs[1,1].hist(df_num['heart_disease'],bins=n_bin)\n",
    "axs[1,1].set_title('heart ')\n",
    "axs[1,1].hist(df_num['bmi'],bins=n_bin)\n",
    "axs[1,1].set_title('bmi')\n",
    "\n"
   ]
  },
  {
   "cell_type": "markdown",
   "id": "c19e4aa1",
   "metadata": {},
   "source": [
    "5.4 - Afficher en barres le nombre d'observations de la variable catégorique 'stroke' (sns.countplot(...)."
   ]
  },
  {
   "cell_type": "code",
   "execution_count": 25,
   "id": "f4852703",
   "metadata": {},
   "outputs": [
    {
     "data": {
      "text/plain": [
       "<AxesSubplot:xlabel='stroke', ylabel='count'>"
      ]
     },
     "execution_count": 25,
     "metadata": {},
     "output_type": "execute_result"
    },
    {
     "data": {
      "image/png": "[encoded data removed]",
      "text/plain": [
       "<Figure size 432x288 with 1 Axes>"
      ]
     },
     "metadata": {
      "needs_background": "light"
     },
     "output_type": "display_data"
    }
   ],
   "source": [
    "sns.countplot(df['stroke'].describe(include=['object']))"
   ]
  },
  {
   "cell_type": "markdown",
   "id": "048e83da",
   "metadata": {
    "id": "1w050uPx0ZSr",
    "papermill": {
     "duration": 0.058582,
     "end_time": "2021-05-25T12:30:54.898464",
     "exception": false,
     "start_time": "2021-05-25T12:30:54.839882",
     "status": "completed"
    },
    "tags": []
   },
   "source": [
    "# IV. Visualisation and cleaning data"
   ]
  },
  {
   "cell_type": "markdown",
   "id": "0345c01e",
   "metadata": {},
   "source": [
    "1 - Afficher quelque boîtes à moustaches (boxplot) "
   ]
  },
  {
   "cell_type": "code",
   "execution_count": 26,
   "id": "f1585ad1",
   "metadata": {
    "execution": {
     "iopub.execute_input": "2021-05-25T12:30:55.024925Z",
     "iopub.status.busy": "2021-05-25T12:30:55.023951Z",
     "iopub.status.idle": "2021-05-25T12:30:55.193318Z",
     "shell.execute_reply": "2021-05-25T12:30:55.192252Z",
     "shell.execute_reply.started": "2021-05-24T14:36:57.068192Z"
    },
    "id": "leqwxXvQVPwn",
    "outputId": "5965c159-8102-4385-8c60-60a02f096db6",
    "papermill": {
     "duration": 0.235691,
     "end_time": "2021-05-25T12:30:55.193475",
     "exception": false,
     "start_time": "2021-05-25T12:30:54.957784",
     "status": "completed"
    },
    "tags": []
   },
   "outputs": [
    {
     "data": {
      "image/png": "[encoded data removed]",
      "text/plain": [
       "<Figure size 432x288 with 1 Axes>"
      ]
     },
     "metadata": {},
     "output_type": "display_data"
    }
   ],
   "source": [
    "sns.set(style=\"whitegrid\")\n",
    "ax=sns.boxplot(df_num[\"age\"],orient='h')"
   ]
  },
  {
   "cell_type": "code",
   "execution_count": 27,
   "id": "a6b39e68",
   "metadata": {},
   "outputs": [
    {
     "data": {
      "image/png": "[encoded data removed]",
      "text/plain": [
       "<Figure size 432x288 with 1 Axes>"
      ]
     },
     "metadata": {},
     "output_type": "display_data"
    }
   ],
   "source": [
    "sns.set(style='whitegrid')\n",
    "ax=sns.boxplot(df_num['hypertension'],orient='h')"
   ]
  },
  {
   "cell_type": "code",
   "execution_count": 28,
   "id": "9d59866a",
   "metadata": {},
   "outputs": [
    {
     "data": {
      "image/png": "[encoded data removed]",
      "text/plain": [
       "<Figure size 432x288 with 1 Axes>"
      ]
     },
     "metadata": {},
     "output_type": "display_data"
    }
   ],
   "source": [
    "sns.set(style='whitegrid')\n",
    "ax=sns.boxplot(df_num['heart_disease'],orient='h')"
   ]
  },
  {
   "cell_type": "code",
   "execution_count": 29,
   "id": "bd7ec49e",
   "metadata": {},
   "outputs": [
    {
     "data": {
      "image/png": "[encoded data removed]",
      "text/plain": [
       "<Figure size 432x288 with 1 Axes>"
      ]
     },
     "metadata": {},
     "output_type": "display_data"
    }
   ],
   "source": [
    "sns.set(style='whitegrid')\n",
    "ax=sns.boxplot(df_num['avg_glucose_level'],orient='h')"
   ]
  },
  {
   "cell_type": "code",
   "execution_count": 30,
   "id": "a7224411",
   "metadata": {},
   "outputs": [
    {
     "data": {
      "text/plain": [
       "<AxesSubplot:>"
      ]
     },
     "execution_count": 30,
     "metadata": {},
     "output_type": "execute_result"
    },
    {
     "data": {
      "image/png": "[encoded data removed]",
      "text/plain": [
       "<Figure size 432x288 with 1 Axes>"
      ]
     },
     "metadata": {},
     "output_type": "display_data"
    }
   ],
   "source": [
    "sns.boxplot(data=df_num)"
   ]
  },
  {
   "cell_type": "code",
   "execution_count": 31,
   "id": "bab692d1",
   "metadata": {},
   "outputs": [
    {
     "data": {
      "image/png": "[encoded data removed]",
      "text/plain": [
       "<Figure size 432x288 with 4 Axes>"
      ]
     },
     "metadata": {},
     "output_type": "display_data"
    }
   ],
   "source": [
    "fig, axs = plt.subplots(2, 2)\n",
    "\n",
    "cn = [0, 1]\n",
    "sns.boxplot(x = 'stroke', y = 'age', data = df_num, order = cn, ax = axs[0,0]);\n",
    "sns.boxplot(x = 'stroke', y = 'hypertension', data = df_num, order = cn, ax = axs[0,1]);\n",
    "sns.boxplot(x = 'stroke', y = 'heart_disease', data = df_num, order = cn, ax = axs[1,0]);\n",
    "sns.boxplot(x = 'stroke', y = 'bmi', data = df_num,  order = cn, ax = axs[1,1]);\n",
    "# add some spacing between subplots\n",
    "fig.tight_layout(pad=1.0);\n"
   ]
  },
  {
   "cell_type": "markdown",
   "id": "3fc06e22",
   "metadata": {},
   "source": [
    "## IV.1 - traitement des valeurs aberrantes de la colonne 'bmi'"
   ]
  },
  {
   "cell_type": "markdown",
   "id": "70f202b7",
   "metadata": {},
   "source": [
    "1. diagramme en moustache pour la colonne 'bmi' (boxplot)"
   ]
  },
  {
   "cell_type": "code",
   "execution_count": 32,
   "id": "0231e945",
   "metadata": {},
   "outputs": [
    {
     "data": {
      "image/png": "[encoded data removed]",
      "text/plain": [
       "<Figure size 432x288 with 1 Axes>"
      ]
     },
     "metadata": {},
     "output_type": "display_data"
    }
   ],
   "source": [
    "sns.set(style='whitegrid')\n",
    "ax=sns.boxplot(data=df_num['bmi'],orient='v')"
   ]
  },
  {
   "cell_type": "markdown",
   "id": "7f68a639",
   "metadata": {},
   "source": [
    "2 - calculer les 4 quartiles (Q1,Q3,IRQ) et Sup, Inf"
   ]
  },
  {
   "cell_type": "code",
   "execution_count": 33,
   "id": "a5d41750",
   "metadata": {},
   "outputs": [
    {
     "name": "stdout",
     "output_type": "stream",
     "text": [
      "23.8\n"
     ]
    }
   ],
   "source": [
    "Q1=df['bmi'].quantile(0.25)\n",
    "print(Q1)"
   ]
  },
  {
   "cell_type": "code",
   "execution_count": 34,
   "id": "6a59a7c2",
   "metadata": {},
   "outputs": [
    {
     "name": "stdout",
     "output_type": "stream",
     "text": [
      "32.8\n"
     ]
    }
   ],
   "source": [
    "Q3=df['bmi'].quantile(0.75)\n",
    "print(Q3)"
   ]
  },
  {
   "cell_type": "code",
   "execution_count": 35,
   "id": "d684e7f3",
   "metadata": {},
   "outputs": [
    {
     "data": {
      "text/plain": [
       "10.300000000000006"
      ]
     },
     "execution_count": 35,
     "metadata": {},
     "output_type": "execute_result"
    }
   ],
   "source": [
    "IQR=Q3-Q1\n",
    "inf=Q1-1.5*IQR\n",
    "inf"
   ]
  },
  {
   "cell_type": "code",
   "execution_count": 36,
   "id": "e71606c1",
   "metadata": {},
   "outputs": [
    {
     "data": {
      "text/plain": [
       "46.29999999999999"
      ]
     },
     "execution_count": 36,
     "metadata": {},
     "output_type": "execute_result"
    }
   ],
   "source": [
    "IQR=Q3-Q1\n",
    "sup=Q3+1.5*IQR\n",
    "sup"
   ]
  },
  {
   "cell_type": "markdown",
   "id": "d90cd461",
   "metadata": {},
   "source": [
    "3- déduire le nombre de outliers"
   ]
  },
  {
   "cell_type": "markdown",
   "id": "c2d52be3",
   "metadata": {},
   "source": [
    "nbre de outlaiers inferieur de 10.30000000000006 et superieur de 46.29999999999999"
   ]
  },
  {
   "cell_type": "code",
   "execution_count": 37,
   "id": "bb71aa55",
   "metadata": {},
   "outputs": [
    {
     "data": {
      "text/plain": [
       "age                  1\n",
       "hypertension         1\n",
       "heart_disease        1\n",
       "avg_glucose_level    1\n",
       "bmi                  1\n",
       "stroke               1\n",
       "dtype: int64"
      ]
     },
     "execution_count": 37,
     "metadata": {},
     "output_type": "execute_result"
    }
   ],
   "source": [
    "df_num[df_num['bmi']<inf].count()"
   ]
  },
  {
   "cell_type": "code",
   "execution_count": 38,
   "id": "ebd6aac5",
   "metadata": {},
   "outputs": [
    {
     "data": {
      "text/plain": [
       "age                  125\n",
       "hypertension         125\n",
       "heart_disease        125\n",
       "avg_glucose_level    125\n",
       "bmi                  125\n",
       "stroke               125\n",
       "dtype: int64"
      ]
     },
     "execution_count": 38,
     "metadata": {},
     "output_type": "execute_result"
    }
   ],
   "source": [
    "df_num[df_num['bmi']>sup].count()"
   ]
  },
  {
   "cell_type": "code",
   "execution_count": 39,
   "id": "d7f33a64",
   "metadata": {},
   "outputs": [
    {
     "data": {
      "text/plain": [
       "126"
      ]
     },
     "execution_count": 39,
     "metadata": {},
     "output_type": "execute_result"
    }
   ],
   "source": [
    "out=[x for x in df_num['bmi'] if x < inf or x> sup]\n",
    "len(out)"
   ]
  },
  {
   "cell_type": "markdown",
   "id": "ab4e8597",
   "metadata": {},
   "source": [
    "4 - Ecrire une méthode drop_outliers() qui supprime les outliers du dataframe"
   ]
  },
  {
   "cell_type": "code",
   "execution_count": 40,
   "id": "ab449738",
   "metadata": {},
   "outputs": [],
   "source": [
    "def drop_outliers(data,field_name):\n",
    "    Q1=data[field_name].quantile(0.25)\n",
    "    Q3=data[field_name].quantile(0.75)\n",
    "    IQR=Q3-Q1\n",
    "    Inf = data[field_name].quantile(0.25)-1.5*IQR\n",
    "    Sup = data[field_name].quantile(0.75)+1.5*IQR\n",
    "    data.drop(data[data[field_name]>Sup].index,inplace=True)\n",
    "    data.drop(data[data[field_name]<Inf].index,inplace=True)\n",
    "    "
   ]
  },
  {
   "cell_type": "code",
   "execution_count": 41,
   "id": "882abbcc",
   "metadata": {},
   "outputs": [],
   "source": [
    "#supp les outlaiers de bmi\n",
    "drop_outliers(df,'bmi') \n"
   ]
  },
  {
   "cell_type": "markdown",
   "id": "a14cf685",
   "metadata": {},
   "source": [
    "5 - retracer le diagramme en moustache pour les 'bmi'"
   ]
  },
  {
   "cell_type": "code",
   "execution_count": 42,
   "id": "415acfbe",
   "metadata": {},
   "outputs": [
    {
     "data": {
      "image/png": "[encoded data removed]",
      "text/plain": [
       "<Figure size 432x288 with 1 Axes>"
      ]
     },
     "metadata": {},
     "output_type": "display_data"
    }
   ],
   "source": [
    "sns.set(style='whitegrid')\n",
    "ax=sns.boxplot(data=df_num['bmi'],orient='h')"
   ]
  },
  {
   "cell_type": "code",
   "execution_count": 43,
   "id": "38703a23",
   "metadata": {},
   "outputs": [
    {
     "data": {
      "text/plain": [
       "126"
      ]
     },
     "execution_count": 43,
     "metadata": {},
     "output_type": "execute_result"
    }
   ],
   "source": [
    "out=[x for x in df_num['bmi'] if x < inf or x> sup]\n",
    "len(out)\n",
    "#count 5ir"
   ]
  },
  {
   "cell_type": "markdown",
   "id": "0e2cdf32",
   "metadata": {},
   "source": [
    "##  IV.2 - Traitement des valeurs aberrantes dans 'avg_glucose_level'"
   ]
  },
  {
   "cell_type": "markdown",
   "id": "49517164",
   "metadata": {},
   "source": [
    " 1- tracer le diagramme en moustache pour les 'avg_glucose_level'"
   ]
  },
  {
   "cell_type": "code",
   "execution_count": 44,
   "id": "3dfd2344",
   "metadata": {},
   "outputs": [
    {
     "data": {
      "image/png": "[encoded data removed]",
      "text/plain": [
       "<Figure size 432x288 with 1 Axes>"
      ]
     },
     "metadata": {},
     "output_type": "display_data"
    }
   ],
   "source": [
    "sns.set(style='whitegrid')\n",
    "ax=sns.boxplot(data=df_num['avg_glucose_level'],orient='h')"
   ]
  },
  {
   "cell_type": "code",
   "execution_count": 45,
   "id": "897ded1d",
   "metadata": {},
   "outputs": [
    {
     "data": {
      "text/plain": [
       "126"
      ]
     },
     "execution_count": 45,
     "metadata": {},
     "output_type": "execute_result"
    }
   ],
   "source": [
    "out=[x for x in df_num['bmi'] if x < inf or x> sup]\n",
    "len(out)"
   ]
  },
  {
   "cell_type": "markdown",
   "id": "58e60e59",
   "metadata": {},
   "source": [
    "2 - remplacer les outliers par la mediane"
   ]
  },
  {
   "cell_type": "code",
   "execution_count": 46,
   "id": "57d31f62",
   "metadata": {},
   "outputs": [],
   "source": [
    "Q1=df['avg_glucose_level'].quantile(0.25)\n",
    "Q3=df['avg_glucose_level'].quantile(0.75)\n",
    "IQR=Q3-Q1\n",
    "Inf = df['avg_glucose_level'].quantile(0.25)-1.5*IQR\n",
    "Sup = df['avg_glucose_level'].quantile(0.75)+1.5*IQR\n",
    "for i in df['avg_glucose_level']:\n",
    "     if i >=Sup or i<=Inf:\n",
    "            df['avg_glucose_level']=df['avg_glucose_level'].replace(i,np.median(df['avg_glucose_level']))"
   ]
  },
  {
   "cell_type": "markdown",
   "id": "1c4fa0fe",
   "metadata": {},
   "source": [
    "3- retracer le diagramme en moustache pour les 'avg_glucose_level'"
   ]
  },
  {
   "cell_type": "code",
   "execution_count": 47,
   "id": "410362fe",
   "metadata": {},
   "outputs": [
    {
     "data": {
      "image/png": "[encoded data removed]",
      "text/plain": [
       "<Figure size 432x288 with 1 Axes>"
      ]
     },
     "metadata": {},
     "output_type": "display_data"
    }
   ],
   "source": [
    "sns.set(style='whitegrid')\n",
    "ax=sns.boxplot(data=df_num['avg_glucose_level'],orient='h')"
   ]
  },
  {
   "cell_type": "code",
   "execution_count": 48,
   "id": "2d32073f",
   "metadata": {},
   "outputs": [
    {
     "data": {
      "text/html": [
       "<div>\n",
       "<style scoped>\n",
       "    .dataframe tbody tr th:only-of-type {\n",
       "        vertical-align: middle;\n",
       "    }\n",
       "\n",
       "    .dataframe tbody tr th {\n",
       "        vertical-align: top;\n",
       "    }\n",
       "\n",
       "    .dataframe thead th {\n",
       "        text-align: right;\n",
       "    }\n",
       "</style>\n",
       "<table border=\"1\" class=\"dataframe\">\n",
       "  <thead>\n",
       "    <tr style=\"text-align: right;\">\n",
       "      <th></th>\n",
       "      <th>gender</th>\n",
       "      <th>age</th>\n",
       "      <th>hypertension</th>\n",
       "      <th>heart_disease</th>\n",
       "      <th>ever_married</th>\n",
       "      <th>work_type</th>\n",
       "      <th>Residence_type</th>\n",
       "      <th>avg_glucose_level</th>\n",
       "      <th>bmi</th>\n",
       "      <th>smoking_status</th>\n",
       "      <th>stroke</th>\n",
       "    </tr>\n",
       "  </thead>\n",
       "  <tbody>\n",
       "  </tbody>\n",
       "</table>\n",
       "</div>"
      ],
      "text/plain": [
       "Empty DataFrame\n",
       "Columns: [gender, age, hypertension, heart_disease, ever_married, work_type, Residence_type, avg_glucose_level, bmi, smoking_status, stroke]\n",
       "Index: []"
      ]
     },
     "execution_count": 48,
     "metadata": {},
     "output_type": "execute_result"
    }
   ],
   "source": [
    "df.loc[df['avg_glucose_level']>=Sup]"
   ]
  },
  {
   "cell_type": "code",
   "execution_count": 49,
   "id": "97734456",
   "metadata": {},
   "outputs": [
    {
     "name": "stdout",
     "output_type": "stream",
     "text": [
      "168.59124999999997\n",
      "22.36125000000002\n"
     ]
    }
   ],
   "source": [
    "print(Sup)\n",
    "print(Inf)"
   ]
  },
  {
   "cell_type": "markdown",
   "id": "15f8ce98",
   "metadata": {},
   "source": [
    "# V. Autres visualisations statistiques"
   ]
  },
  {
   "cell_type": "markdown",
   "id": "5aba0402",
   "metadata": {},
   "source": [
    "1- Afficher en barres le nombre d'observations de la variable catégorique 'stroke' classée par 'Gender'.\n",
    "\n",
    "Interpréter."
   ]
  },
  {
   "cell_type": "code",
   "execution_count": 50,
   "id": "6e99df7c",
   "metadata": {
    "execution": {
     "iopub.execute_input": "2021-05-25T12:30:55.329181Z",
     "iopub.status.busy": "2021-05-25T12:30:55.328147Z",
     "iopub.status.idle": "2021-05-25T12:30:55.488263Z",
     "shell.execute_reply": "2021-05-25T12:30:55.487600Z",
     "shell.execute_reply.started": "2021-05-24T14:36:57.223155Z"
    },
    "id": "wI7JdO_g2Ckd",
    "outputId": "a07e7d54-a172-45e2-e3ad-8196c83d4514",
    "papermill": {
     "duration": 0.235055,
     "end_time": "2021-05-25T12:30:55.488417",
     "exception": false,
     "start_time": "2021-05-25T12:30:55.253362",
     "status": "completed"
    },
    "scrolled": true,
    "tags": []
   },
   "outputs": [
    {
     "data": {
      "image/png": "[encoded data removed]",
      "text/plain": [
       "<Figure size 1080x360 with 1 Axes>"
      ]
     },
     "metadata": {},
     "output_type": "display_data"
    }
   ],
   "source": [
    "plt.figure(figsize=(15,5))\n",
    "\n",
    "sns.countplot(data=df, x='gender',hue=df['stroke'], palette='Set1');"
   ]
  },
  {
   "cell_type": "markdown",
   "id": "f0426bfe",
   "metadata": {},
   "source": [
    "2- Afficher en barres le nombre d'observations de la variable catégorique 'stroke' classée par 'work_type'.\n",
    "\n",
    "Interpréter."
   ]
  },
  {
   "cell_type": "code",
   "execution_count": 51,
   "id": "032311b9",
   "metadata": {
    "execution": {
     "iopub.execute_input": "2021-05-25T12:30:55.748468Z",
     "iopub.status.busy": "2021-05-25T12:30:55.746012Z",
     "iopub.status.idle": "2021-05-25T12:30:55.938676Z",
     "shell.execute_reply": "2021-05-25T12:30:55.938018Z",
     "shell.execute_reply.started": "2021-05-24T14:36:57.365845Z"
    },
    "id": "VDOD3GyLc-7A",
    "outputId": "5d490417-95f4-4394-d5fd-f1d4fc51d71b",
    "papermill": {
     "duration": 0.26806,
     "end_time": "2021-05-25T12:30:55.938847",
     "exception": false,
     "start_time": "2021-05-25T12:30:55.670787",
     "status": "completed"
    },
    "tags": []
   },
   "outputs": [
    {
     "data": {
      "text/plain": [
       "<AxesSubplot:xlabel='work_type', ylabel='count'>"
      ]
     },
     "execution_count": 51,
     "metadata": {},
     "output_type": "execute_result"
    },
    {
     "data": {
      "image/png": "[encoded data removed]",
      "text/plain": [
       "<Figure size 432x288 with 1 Axes>"
      ]
     },
     "metadata": {},
     "output_type": "display_data"
    }
   ],
   "source": [
    "sns.countplot(data=df,x='work_type',hue=df['stroke'])"
   ]
  },
  {
   "cell_type": "markdown",
   "id": "9abc2c57",
   "metadata": {},
   "source": [
    "3- Afficher en barres le nombre de lignes par type de résidence"
   ]
  },
  {
   "cell_type": "code",
   "execution_count": 52,
   "id": "796bb1cd",
   "metadata": {
    "execution": {
     "iopub.execute_input": "2021-05-25T12:30:56.073358Z",
     "iopub.status.busy": "2021-05-25T12:30:56.070521Z",
     "iopub.status.idle": "2021-05-25T12:30:56.190063Z",
     "shell.execute_reply": "2021-05-25T12:30:56.189533Z",
     "shell.execute_reply.started": "2021-05-24T14:36:57.530622Z"
    },
    "id": "9TTp6SqZs3eC",
    "outputId": "d67f169b-c116-496a-d9ef-00e0f614f47e",
    "papermill": {
     "duration": 0.190364,
     "end_time": "2021-05-25T12:30:56.190208",
     "exception": false,
     "start_time": "2021-05-25T12:30:55.999844",
     "status": "completed"
    },
    "tags": []
   },
   "outputs": [
    {
     "data": {
      "image/png": "[encoded data removed]",
      "text/plain": [
       "<Figure size 1080x360 with 1 Axes>"
      ]
     },
     "metadata": {},
     "output_type": "display_data"
    }
   ],
   "source": [
    "plt.figure(figsize=(15,5))\n",
    "\n",
    "sns.countplot(x='work_type',hue=df['stroke'],palette='Set2',data=df);"
   ]
  },
  {
   "cell_type": "markdown",
   "id": "17b3711f",
   "metadata": {},
   "source": [
    "4- Afficher en barres le nombre d'observations de la variable catégorique 'stroke' classée par 'ever_married'.\n",
    "\n",
    "Interpréter."
   ]
  },
  {
   "cell_type": "code",
   "execution_count": 53,
   "id": "11c4eec2",
   "metadata": {
    "execution": {
     "iopub.execute_input": "2021-05-25T12:30:56.454283Z",
     "iopub.status.busy": "2021-05-25T12:30:56.453479Z",
     "iopub.status.idle": "2021-05-25T12:30:56.606323Z",
     "shell.execute_reply": "2021-05-25T12:30:56.605765Z",
     "shell.execute_reply.started": "2021-05-24T14:36:57.637086Z"
    },
    "id": "z--awwo-tASM",
    "outputId": "4decda34-951e-431c-e6d6-eec8bfaca197",
    "papermill": {
     "duration": 0.229605,
     "end_time": "2021-05-25T12:30:56.606467",
     "exception": false,
     "start_time": "2021-05-25T12:30:56.376862",
     "status": "completed"
    },
    "tags": []
   },
   "outputs": [
    {
     "data": {
      "image/png": "[encoded data removed]",
      "text/plain": [
       "<Figure size 1080x360 with 1 Axes>"
      ]
     },
     "metadata": {},
     "output_type": "display_data"
    }
   ],
   "source": [
    "plt.figure(figsize=(15,5))\n",
    "\n",
    "sns.countplot(x='work_type',hue=df['stroke'],palette='Set2',data=df);"
   ]
  },
  {
   "cell_type": "markdown",
   "id": "36ec57b1",
   "metadata": {},
   "source": [
    "5- Afficher en barres le nombre d'observations de la variable catégorique 'stroke' classée par 'smoking_status'.\n",
    "\n",
    "Interpréter."
   ]
  },
  {
   "cell_type": "code",
   "execution_count": 54,
   "id": "d4e0c3a8",
   "metadata": {
    "execution": {
     "iopub.execute_input": "2021-05-25T12:30:56.913699Z",
     "iopub.status.busy": "2021-05-25T12:30:56.880618Z",
     "iopub.status.idle": "2021-05-25T12:30:57.074552Z",
     "shell.execute_reply": "2021-05-25T12:30:57.074030Z",
     "shell.execute_reply.started": "2021-05-24T14:36:57.771728Z"
    },
    "id": "zSiKZtHTtHyo",
    "outputId": "cf1862af-209e-4061-c848-2dfd4dabc0f4",
    "papermill": {
     "duration": 0.276781,
     "end_time": "2021-05-25T12:30:57.074688",
     "exception": false,
     "start_time": "2021-05-25T12:30:56.797907",
     "status": "completed"
    },
    "tags": []
   },
   "outputs": [
    {
     "data": {
      "image/png": "[encoded data removed]",
      "text/plain": [
       "<Figure size 1080x360 with 1 Axes>"
      ]
     },
     "metadata": {},
     "output_type": "display_data"
    }
   ],
   "source": [
    "plt.figure(figsize=(15,5))\n",
    "\n",
    "sns.countplot(x='work_type',hue=df['stroke'],palette='Set2',data=df);"
   ]
  },
  {
   "cell_type": "markdown",
   "id": "7d1fadaa",
   "metadata": {},
   "source": [
    "6- Afficher la correlation entre les variables du dataframe (coefficient de pearson)"
   ]
  },
  {
   "cell_type": "code",
   "execution_count": 55,
   "id": "efdc419e",
   "metadata": {
    "execution": {
     "iopub.execute_input": "2021-05-25T12:30:57.464819Z",
     "iopub.status.busy": "2021-05-25T12:30:57.464138Z",
     "iopub.status.idle": "2021-05-25T12:30:57.748050Z",
     "shell.execute_reply": "2021-05-25T12:30:57.747474Z",
     "shell.execute_reply.started": "2021-05-24T14:36:57.932728Z"
    },
    "id": "AAY5nEXiym4D",
    "outputId": "18071c9d-b7a0-418f-f7d2-d4b141d5b4a2",
    "papermill": {
     "duration": 0.354633,
     "end_time": "2021-05-25T12:30:57.748198",
     "exception": false,
     "start_time": "2021-05-25T12:30:57.393565",
     "status": "completed"
    },
    "tags": []
   },
   "outputs": [
    {
     "data": {
      "image/png": "[encoded data removed]",
      "text/plain": [
       "<Figure size 720x360 with 2 Axes>"
      ]
     },
     "metadata": {},
     "output_type": "display_data"
    }
   ],
   "source": [
    "plt.figure(figsize=(10,5))\n",
    "correlation = df.corr( method='pearson' )\n",
    "sns.heatmap( correlation, annot=True );"
   ]
  },
  {
   "cell_type": "markdown",
   "id": "9c3b6255",
   "metadata": {},
   "source": [
    "# VI. Les variables en entrée X et la cible Y"
   ]
  },
  {
   "cell_type": "markdown",
   "id": "cea91bfd",
   "metadata": {},
   "source": [
    "1 - Afficher un rappel de dimension et un echantillon du dataframe"
   ]
  },
  {
   "cell_type": "code",
   "execution_count": 56,
   "id": "3e8e3c2b",
   "metadata": {},
   "outputs": [
    {
     "data": {
      "text/plain": [
       "(4984, 11)"
      ]
     },
     "execution_count": 56,
     "metadata": {},
     "output_type": "execute_result"
    }
   ],
   "source": [
    "df.shape"
   ]
  },
  {
   "cell_type": "code",
   "execution_count": 57,
   "id": "73473e15",
   "metadata": {},
   "outputs": [
    {
     "data": {
      "text/html": [
       "<div>\n",
       "<style scoped>\n",
       "    .dataframe tbody tr th:only-of-type {\n",
       "        vertical-align: middle;\n",
       "    }\n",
       "\n",
       "    .dataframe tbody tr th {\n",
       "        vertical-align: top;\n",
       "    }\n",
       "\n",
       "    .dataframe thead th {\n",
       "        text-align: right;\n",
       "    }\n",
       "</style>\n",
       "<table border=\"1\" class=\"dataframe\">\n",
       "  <thead>\n",
       "    <tr style=\"text-align: right;\">\n",
       "      <th></th>\n",
       "      <th>gender</th>\n",
       "      <th>age</th>\n",
       "      <th>hypertension</th>\n",
       "      <th>heart_disease</th>\n",
       "      <th>ever_married</th>\n",
       "      <th>work_type</th>\n",
       "      <th>Residence_type</th>\n",
       "      <th>avg_glucose_level</th>\n",
       "      <th>bmi</th>\n",
       "      <th>smoking_status</th>\n",
       "      <th>stroke</th>\n",
       "    </tr>\n",
       "  </thead>\n",
       "  <tbody>\n",
       "    <tr>\n",
       "      <th>0</th>\n",
       "      <td>Male</td>\n",
       "      <td>67.0</td>\n",
       "      <td>0</td>\n",
       "      <td>1</td>\n",
       "      <td>Yes</td>\n",
       "      <td>Private</td>\n",
       "      <td>Urban</td>\n",
       "      <td>91.835000</td>\n",
       "      <td>36.600000</td>\n",
       "      <td>formerly smoked</td>\n",
       "      <td>1</td>\n",
       "    </tr>\n",
       "    <tr>\n",
       "      <th>1</th>\n",
       "      <td>Female</td>\n",
       "      <td>61.0</td>\n",
       "      <td>0</td>\n",
       "      <td>0</td>\n",
       "      <td>Yes</td>\n",
       "      <td>Self-employed</td>\n",
       "      <td>Rural</td>\n",
       "      <td>91.827500</td>\n",
       "      <td>28.893237</td>\n",
       "      <td>never smoked</td>\n",
       "      <td>1</td>\n",
       "    </tr>\n",
       "    <tr>\n",
       "      <th>2</th>\n",
       "      <td>Male</td>\n",
       "      <td>80.0</td>\n",
       "      <td>0</td>\n",
       "      <td>1</td>\n",
       "      <td>Yes</td>\n",
       "      <td>Private</td>\n",
       "      <td>Rural</td>\n",
       "      <td>105.920000</td>\n",
       "      <td>32.500000</td>\n",
       "      <td>never smoked</td>\n",
       "      <td>1</td>\n",
       "    </tr>\n",
       "    <tr>\n",
       "      <th>3</th>\n",
       "      <td>Female</td>\n",
       "      <td>49.0</td>\n",
       "      <td>0</td>\n",
       "      <td>0</td>\n",
       "      <td>Yes</td>\n",
       "      <td>Private</td>\n",
       "      <td>Urban</td>\n",
       "      <td>91.823750</td>\n",
       "      <td>34.400000</td>\n",
       "      <td>smokes</td>\n",
       "      <td>1</td>\n",
       "    </tr>\n",
       "    <tr>\n",
       "      <th>4</th>\n",
       "      <td>Female</td>\n",
       "      <td>79.0</td>\n",
       "      <td>1</td>\n",
       "      <td>0</td>\n",
       "      <td>Yes</td>\n",
       "      <td>Self-employed</td>\n",
       "      <td>Rural</td>\n",
       "      <td>91.821875</td>\n",
       "      <td>24.000000</td>\n",
       "      <td>never smoked</td>\n",
       "      <td>1</td>\n",
       "    </tr>\n",
       "  </tbody>\n",
       "</table>\n",
       "</div>"
      ],
      "text/plain": [
       "   gender   age  hypertension  heart_disease ever_married      work_type  \\\n",
       "0    Male  67.0             0              1          Yes        Private   \n",
       "1  Female  61.0             0              0          Yes  Self-employed   \n",
       "2    Male  80.0             0              1          Yes        Private   \n",
       "3  Female  49.0             0              0          Yes        Private   \n",
       "4  Female  79.0             1              0          Yes  Self-employed   \n",
       "\n",
       "  Residence_type  avg_glucose_level        bmi   smoking_status  stroke  \n",
       "0          Urban          91.835000  36.600000  formerly smoked       1  \n",
       "1          Rural          91.827500  28.893237     never smoked       1  \n",
       "2          Rural         105.920000  32.500000     never smoked       1  \n",
       "3          Urban          91.823750  34.400000           smokes       1  \n",
       "4          Rural          91.821875  24.000000     never smoked       1  "
      ]
     },
     "execution_count": 57,
     "metadata": {},
     "output_type": "execute_result"
    }
   ],
   "source": [
    "df.head()"
   ]
  },
  {
   "cell_type": "markdown",
   "id": "239f9ab5",
   "metadata": {},
   "source": [
    "2 - affecter à Y (cible) la dernière colonne (stroke) et le reste du dataframe au entrées X"
   ]
  },
  {
   "cell_type": "code",
   "execution_count": 58,
   "id": "c92f313a",
   "metadata": {},
   "outputs": [],
   "source": [
    "X = df.iloc[:,0:10]\n",
    "Y= df.iloc[:,10]"
   ]
  },
  {
   "cell_type": "markdown",
   "id": "256b0215",
   "metadata": {},
   "source": [
    "3 - afficher un echontillion de X et Y"
   ]
  },
  {
   "cell_type": "code",
   "execution_count": 59,
   "id": "2407b015",
   "metadata": {},
   "outputs": [
    {
     "data": {
      "text/html": [
       "<div>\n",
       "<style scoped>\n",
       "    .dataframe tbody tr th:only-of-type {\n",
       "        vertical-align: middle;\n",
       "    }\n",
       "\n",
       "    .dataframe tbody tr th {\n",
       "        vertical-align: top;\n",
       "    }\n",
       "\n",
       "    .dataframe thead th {\n",
       "        text-align: right;\n",
       "    }\n",
       "</style>\n",
       "<table border=\"1\" class=\"dataframe\">\n",
       "  <thead>\n",
       "    <tr style=\"text-align: right;\">\n",
       "      <th></th>\n",
       "      <th>gender</th>\n",
       "      <th>age</th>\n",
       "      <th>hypertension</th>\n",
       "      <th>heart_disease</th>\n",
       "      <th>ever_married</th>\n",
       "      <th>work_type</th>\n",
       "      <th>Residence_type</th>\n",
       "      <th>avg_glucose_level</th>\n",
       "      <th>bmi</th>\n",
       "      <th>smoking_status</th>\n",
       "    </tr>\n",
       "  </thead>\n",
       "  <tbody>\n",
       "    <tr>\n",
       "      <th>0</th>\n",
       "      <td>Male</td>\n",
       "      <td>67.0</td>\n",
       "      <td>0</td>\n",
       "      <td>1</td>\n",
       "      <td>Yes</td>\n",
       "      <td>Private</td>\n",
       "      <td>Urban</td>\n",
       "      <td>91.835000</td>\n",
       "      <td>36.600000</td>\n",
       "      <td>formerly smoked</td>\n",
       "    </tr>\n",
       "    <tr>\n",
       "      <th>1</th>\n",
       "      <td>Female</td>\n",
       "      <td>61.0</td>\n",
       "      <td>0</td>\n",
       "      <td>0</td>\n",
       "      <td>Yes</td>\n",
       "      <td>Self-employed</td>\n",
       "      <td>Rural</td>\n",
       "      <td>91.827500</td>\n",
       "      <td>28.893237</td>\n",
       "      <td>never smoked</td>\n",
       "    </tr>\n",
       "    <tr>\n",
       "      <th>2</th>\n",
       "      <td>Male</td>\n",
       "      <td>80.0</td>\n",
       "      <td>0</td>\n",
       "      <td>1</td>\n",
       "      <td>Yes</td>\n",
       "      <td>Private</td>\n",
       "      <td>Rural</td>\n",
       "      <td>105.920000</td>\n",
       "      <td>32.500000</td>\n",
       "      <td>never smoked</td>\n",
       "    </tr>\n",
       "    <tr>\n",
       "      <th>3</th>\n",
       "      <td>Female</td>\n",
       "      <td>49.0</td>\n",
       "      <td>0</td>\n",
       "      <td>0</td>\n",
       "      <td>Yes</td>\n",
       "      <td>Private</td>\n",
       "      <td>Urban</td>\n",
       "      <td>91.823750</td>\n",
       "      <td>34.400000</td>\n",
       "      <td>smokes</td>\n",
       "    </tr>\n",
       "    <tr>\n",
       "      <th>4</th>\n",
       "      <td>Female</td>\n",
       "      <td>79.0</td>\n",
       "      <td>1</td>\n",
       "      <td>0</td>\n",
       "      <td>Yes</td>\n",
       "      <td>Self-employed</td>\n",
       "      <td>Rural</td>\n",
       "      <td>91.821875</td>\n",
       "      <td>24.000000</td>\n",
       "      <td>never smoked</td>\n",
       "    </tr>\n",
       "  </tbody>\n",
       "</table>\n",
       "</div>"
      ],
      "text/plain": [
       "   gender   age  hypertension  heart_disease ever_married      work_type  \\\n",
       "0    Male  67.0             0              1          Yes        Private   \n",
       "1  Female  61.0             0              0          Yes  Self-employed   \n",
       "2    Male  80.0             0              1          Yes        Private   \n",
       "3  Female  49.0             0              0          Yes        Private   \n",
       "4  Female  79.0             1              0          Yes  Self-employed   \n",
       "\n",
       "  Residence_type  avg_glucose_level        bmi   smoking_status  \n",
       "0          Urban          91.835000  36.600000  formerly smoked  \n",
       "1          Rural          91.827500  28.893237     never smoked  \n",
       "2          Rural         105.920000  32.500000     never smoked  \n",
       "3          Urban          91.823750  34.400000           smokes  \n",
       "4          Rural          91.821875  24.000000     never smoked  "
      ]
     },
     "execution_count": 59,
     "metadata": {},
     "output_type": "execute_result"
    }
   ],
   "source": [
    "X.head()"
   ]
  },
  {
   "cell_type": "code",
   "execution_count": 60,
   "id": "58abb63a",
   "metadata": {},
   "outputs": [
    {
     "data": {
      "text/plain": [
       "0    1\n",
       "1    1\n",
       "2    1\n",
       "3    1\n",
       "4    1\n",
       "Name: stroke, dtype: int64"
      ]
     },
     "execution_count": 60,
     "metadata": {},
     "output_type": "execute_result"
    }
   ],
   "source": [
    "Y.head()"
   ]
  },
  {
   "cell_type": "markdown",
   "id": "d1e16b22",
   "metadata": {},
   "source": [
    "## VI.1 Transformer X et Y en tableau numpy"
   ]
  },
  {
   "cell_type": "markdown",
   "id": "a2234b6f",
   "metadata": {},
   "source": [
    "1 - lancer les commandes qui transforme X et Y en type numpyarray"
   ]
  },
  {
   "cell_type": "code",
   "execution_count": 61,
   "id": "76f872e9",
   "metadata": {},
   "outputs": [],
   "source": [
    "X=X.values\n",
    "Y=Y.values"
   ]
  },
  {
   "cell_type": "markdown",
   "id": "4b4eca47",
   "metadata": {},
   "source": [
    "2 - Vérifier le type et le contenu de X et Y"
   ]
  },
  {
   "cell_type": "code",
   "execution_count": 62,
   "id": "161d9233",
   "metadata": {},
   "outputs": [
    {
     "data": {
      "text/plain": [
       "numpy.ndarray"
      ]
     },
     "execution_count": 62,
     "metadata": {},
     "output_type": "execute_result"
    }
   ],
   "source": [
    "type(X)"
   ]
  },
  {
   "cell_type": "code",
   "execution_count": 63,
   "id": "74e8e50d",
   "metadata": {},
   "outputs": [
    {
     "data": {
      "text/plain": [
       "array([['Male', 67.0, 0, 1, 'Yes', 'Private', 'Urban', 91.835, 36.6,\n",
       "        'formerly smoked'],\n",
       "       ['Female', 61.0, 0, 0, 'Yes', 'Self-employed', 'Rural',\n",
       "        91.82749999999999, 28.893236911794673, 'never smoked'],\n",
       "       ['Male', 80.0, 0, 1, 'Yes', 'Private', 'Rural', 105.92, 32.5,\n",
       "        'never smoked'],\n",
       "       ['Female', 49.0, 0, 0, 'Yes', 'Private', 'Urban',\n",
       "        91.82374999999999, 34.4, 'smokes'],\n",
       "       ['Female', 79.0, 1, 0, 'Yes', 'Self-employed', 'Rural',\n",
       "        91.82187499999999, 24.0, 'never smoked']], dtype=object)"
      ]
     },
     "execution_count": 63,
     "metadata": {},
     "output_type": "execute_result"
    }
   ],
   "source": [
    "X[:5,:]"
   ]
  },
  {
   "cell_type": "markdown",
   "id": "d2906b63",
   "metadata": {},
   "source": [
    "# VII. transformation des variables catégoriques"
   ]
  },
  {
   "cell_type": "markdown",
   "id": "a5e8d59e",
   "metadata": {},
   "source": [
    "**1 - Nous commençons par les colonnes catégoriques à deux états 'gender','ever_married','Residence_type'**"
   ]
  },
  {
   "cell_type": "code",
   "execution_count": 64,
   "id": "58eeb681",
   "metadata": {},
   "outputs": [],
   "source": [
    "from sklearn.preprocessing import LabelEncoder\n",
    "label = LabelEncoder()"
   ]
  },
  {
   "cell_type": "code",
   "execution_count": 65,
   "id": "89126db4",
   "metadata": {},
   "outputs": [],
   "source": [
    "X[:,0] = label.fit_transform(X[:,0]) # colonne gender devient 1-->male ou 0-->female\n",
    "X[:,4] = label.fit_transform(X[:,4]) # colonne ever_married devient no-->0 ou yes-->1\n",
    "X[:,6] = label.fit_transform(X[:,6]) # colonne Residence_type devient rural-->0 ou urban-->1"
   ]
  },
  {
   "cell_type": "markdown",
   "id": "fa98fb11",
   "metadata": {},
   "source": [
    "2 - Vérifier cette transformation"
   ]
  },
  {
   "cell_type": "code",
   "execution_count": 66,
   "id": "7bb28cd2",
   "metadata": {},
   "outputs": [
    {
     "data": {
      "text/plain": [
       "array([[1, 67.0, 0, 1, 1, 'Private', 1, 91.835, 36.6, 'formerly smoked'],\n",
       "       [0, 61.0, 0, 0, 1, 'Self-employed', 0, 91.82749999999999,\n",
       "        28.893236911794673, 'never smoked'],\n",
       "       [1, 80.0, 0, 1, 1, 'Private', 0, 105.92, 32.5, 'never smoked'],\n",
       "       [0, 49.0, 0, 0, 1, 'Private', 1, 91.82374999999999, 34.4,\n",
       "        'smokes'],\n",
       "       [0, 79.0, 1, 0, 1, 'Self-employed', 0, 91.82187499999999, 24.0,\n",
       "        'never smoked'],\n",
       "       [1, 81.0, 0, 0, 1, 'Private', 1, 91.82093749999999, 29.0,\n",
       "        'formerly smoked'],\n",
       "       [1, 74.0, 1, 1, 1, 'Private', 0, 70.09, 27.4, 'never smoked'],\n",
       "       [0, 69.0, 0, 0, 0, 'Private', 1, 94.39, 22.8, 'never smoked'],\n",
       "       [0, 59.0, 0, 0, 1, 'Private', 0, 76.15, 28.893236911794673,\n",
       "        'Unknown'],\n",
       "       [0, 78.0, 0, 0, 1, 'Private', 1, 58.57, 24.2, 'Unknown']],\n",
       "      dtype=object)"
      ]
     },
     "execution_count": 66,
     "metadata": {},
     "output_type": "execute_result"
    }
   ],
   "source": [
    "X[:10,:]"
   ]
  },
  {
   "cell_type": "markdown",
   "id": "44343f52",
   "metadata": {},
   "source": [
    "**3 - nous transformons la colonne work_type qui a 5 etats : 'private','self-employed','gov-job','children','never-worked'**"
   ]
  },
  {
   "cell_type": "code",
   "execution_count": 67,
   "id": "d43dcbd2",
   "metadata": {},
   "outputs": [],
   "source": [
    "from sklearn.preprocessing import OneHotEncoder\n",
    "from sklearn.compose import ColumnTransformer"
   ]
  },
  {
   "cell_type": "code",
   "execution_count": 68,
   "id": "e81093da",
   "metadata": {},
   "outputs": [],
   "source": [
    "ct = ColumnTransformer([('work_type',OneHotEncoder(),[5])],\\\n",
    "                      remainder = 'passthrough')"
   ]
  },
  {
   "cell_type": "code",
   "execution_count": 69,
   "id": "a7e118af",
   "metadata": {},
   "outputs": [],
   "source": [
    "X = ct.fit_transform(X)"
   ]
  },
  {
   "cell_type": "markdown",
   "id": "3e74f233",
   "metadata": {},
   "source": [
    "4 - Vérifier la transformation de la colonne 'work_type' par 4 colonne ajouter en début du X (shap et affichage)"
   ]
  },
  {
   "cell_type": "code",
   "execution_count": 70,
   "id": "2791ab38",
   "metadata": {},
   "outputs": [
    {
     "data": {
      "text/plain": [
       "(4984, 14)"
      ]
     },
     "execution_count": 70,
     "metadata": {},
     "output_type": "execute_result"
    }
   ],
   "source": [
    "X.shape # ajout de 4 autres colonnes \n",
    "#private ---> 0.0 0.0 1.0 0.0 0.0 "
   ]
  },
  {
   "cell_type": "code",
   "execution_count": 71,
   "id": "48a22579",
   "metadata": {},
   "outputs": [
    {
     "data": {
      "text/plain": [
       "array([[0.0, 0.0, 1.0, 0.0, 0.0],\n",
       "       [0.0, 0.0, 0.0, 1.0, 0.0],\n",
       "       [0.0, 0.0, 1.0, 0.0, 0.0],\n",
       "       ...,\n",
       "       [0.0, 0.0, 0.0, 1.0, 0.0],\n",
       "       [0.0, 0.0, 1.0, 0.0, 0.0],\n",
       "       [1.0, 0.0, 0.0, 0.0, 0.0]], dtype=object)"
      ]
     },
     "execution_count": 71,
     "metadata": {},
     "output_type": "execute_result"
    }
   ],
   "source": [
    "X[:,0:5]"
   ]
  },
  {
   "cell_type": "markdown",
   "id": "fa472dd5",
   "metadata": {},
   "source": [
    "**5 - Nous remarquons que les deux premières colonnes peuvent être supprimés (on les supprime alors)**"
   ]
  },
  {
   "cell_type": "code",
   "execution_count": 72,
   "id": "b76aa082",
   "metadata": {},
   "outputs": [],
   "source": [
    "X = X[:,2:]"
   ]
  },
  {
   "cell_type": "markdown",
   "id": "8ae475a5",
   "metadata": {},
   "source": [
    "6 - Vérifier cette suppression (shape et affichage d'un echantillion)"
   ]
  },
  {
   "cell_type": "code",
   "execution_count": 73,
   "id": "bddefa7d",
   "metadata": {},
   "outputs": [
    {
     "data": {
      "text/plain": [
       "(4984, 12)"
      ]
     },
     "execution_count": 73,
     "metadata": {},
     "output_type": "execute_result"
    }
   ],
   "source": [
    "X.shape"
   ]
  },
  {
   "cell_type": "code",
   "execution_count": 74,
   "id": "8c76be3f",
   "metadata": {},
   "outputs": [
    {
     "data": {
      "text/plain": [
       "array([[1.0, 0.0, 0.0, 1, 67.0, 0, 1, 1, 1, 91.835, 36.6,\n",
       "        'formerly smoked'],\n",
       "       [0.0, 1.0, 0.0, 0, 61.0, 0, 0, 1, 0, 91.82749999999999,\n",
       "        28.893236911794673, 'never smoked'],\n",
       "       [1.0, 0.0, 0.0, 1, 80.0, 0, 1, 1, 0, 105.92, 32.5, 'never smoked'],\n",
       "       [1.0, 0.0, 0.0, 0, 49.0, 0, 0, 1, 1, 91.82374999999999, 34.4,\n",
       "        'smokes'],\n",
       "       [0.0, 1.0, 0.0, 0, 79.0, 1, 0, 1, 0, 91.82187499999999, 24.0,\n",
       "        'never smoked']], dtype=object)"
      ]
     },
     "execution_count": 74,
     "metadata": {},
     "output_type": "execute_result"
    }
   ],
   "source": [
    "X[:5,:]"
   ]
  },
  {
   "cell_type": "markdown",
   "id": "a2eb3a0e",
   "metadata": {},
   "source": [
    "**7 - nous transformons la colonne 'smoking_status' qui a 4 etats :'formerly smoked','never smoked','smokes','unknown'**"
   ]
  },
  {
   "cell_type": "code",
   "execution_count": 75,
   "id": "7d31ed39",
   "metadata": {},
   "outputs": [],
   "source": [
    "ct = ColumnTransformer([('smoking_status',OneHotEncoder(),[11])],\\\n",
    "                      remainder = 'passthrough')"
   ]
  },
  {
   "cell_type": "code",
   "execution_count": 76,
   "id": "1bec870d",
   "metadata": {},
   "outputs": [],
   "source": [
    "X = ct.fit_transform(X)"
   ]
  },
  {
   "cell_type": "markdown",
   "id": "c4cfdcfb",
   "metadata": {},
   "source": [
    "8 - Vérifier la transformation de la colonne 'smoking_status' par 4 colonne ajouter en début du X (shape et affichage)"
   ]
  },
  {
   "cell_type": "code",
   "execution_count": 77,
   "id": "c09dedc3",
   "metadata": {},
   "outputs": [
    {
     "data": {
      "text/plain": [
       "array([[0.0, 1.0, 0.0, 0.0, 1.0, 0.0, 0.0, 1, 67.0, 0, 1, 1, 1, 91.835,\n",
       "        36.6],\n",
       "       [0.0, 0.0, 1.0, 0.0, 0.0, 1.0, 0.0, 0, 61.0, 0, 0, 1, 0,\n",
       "        91.82749999999999, 28.893236911794673],\n",
       "       [0.0, 0.0, 1.0, 0.0, 1.0, 0.0, 0.0, 1, 80.0, 0, 1, 1, 0, 105.92,\n",
       "        32.5],\n",
       "       [0.0, 0.0, 0.0, 1.0, 1.0, 0.0, 0.0, 0, 49.0, 0, 0, 1, 1,\n",
       "        91.82374999999999, 34.4],\n",
       "       [0.0, 0.0, 1.0, 0.0, 0.0, 1.0, 0.0, 0, 79.0, 1, 0, 1, 0,\n",
       "        91.82187499999999, 24.0]], dtype=object)"
      ]
     },
     "execution_count": 77,
     "metadata": {},
     "output_type": "execute_result"
    }
   ],
   "source": [
    "X[:5,:] # smoking_status est remplacé par 4 colonnes au début"
   ]
  },
  {
   "cell_type": "markdown",
   "id": "1e842045",
   "metadata": {},
   "source": [
    "**9 - nous enlevons la première colonne**"
   ]
  },
  {
   "cell_type": "code",
   "execution_count": 78,
   "id": "6675f7f3",
   "metadata": {},
   "outputs": [],
   "source": [
    "X = X[:,1:]"
   ]
  },
  {
   "cell_type": "markdown",
   "id": "cbf3a6d8",
   "metadata": {},
   "source": [
    "10 - Vérifier cette suppression (shape et affichage)"
   ]
  },
  {
   "cell_type": "code",
   "execution_count": 79,
   "id": "1caae040",
   "metadata": {},
   "outputs": [
    {
     "data": {
      "text/plain": [
       "(4984, 14)"
      ]
     },
     "execution_count": 79,
     "metadata": {},
     "output_type": "execute_result"
    }
   ],
   "source": [
    "X.shape"
   ]
  },
  {
   "cell_type": "code",
   "execution_count": 80,
   "id": "861f4cb5",
   "metadata": {},
   "outputs": [
    {
     "data": {
      "text/plain": [
       "array([[1.0, 0.0, 0.0, 1.0, 0.0, 0.0, 1, 67.0, 0, 1, 1, 1, 91.835, 36.6],\n",
       "       [0.0, 1.0, 0.0, 0.0, 1.0, 0.0, 0, 61.0, 0, 0, 1, 0,\n",
       "        91.82749999999999, 28.893236911794673],\n",
       "       [0.0, 1.0, 0.0, 1.0, 0.0, 0.0, 1, 80.0, 0, 1, 1, 0, 105.92, 32.5],\n",
       "       [0.0, 0.0, 1.0, 1.0, 0.0, 0.0, 0, 49.0, 0, 0, 1, 1,\n",
       "        91.82374999999999, 34.4],\n",
       "       [0.0, 1.0, 0.0, 0.0, 1.0, 0.0, 0, 79.0, 1, 0, 1, 0,\n",
       "        91.82187499999999, 24.0]], dtype=object)"
      ]
     },
     "execution_count": 80,
     "metadata": {},
     "output_type": "execute_result"
    }
   ],
   "source": [
    "X[:5,:]"
   ]
  },
  {
   "cell_type": "markdown",
   "id": "bc9b9f17",
   "metadata": {},
   "source": [
    "# VIII. Splitting dataset into train and test sets"
   ]
  },
  {
   "cell_type": "markdown",
   "id": "95d9eded",
   "metadata": {},
   "source": [
    "1 - lancer la répartition du dataframe en train et test"
   ]
  },
  {
   "cell_type": "code",
   "execution_count": 81,
   "id": "7560e566",
   "metadata": {},
   "outputs": [],
   "source": [
    "from sklearn.model_selection import train_test_split\n",
    "X_train,X_test,y_train,y_test = train_test_split(X,Y,test_size=0.2,\\\n",
    "                                                random_state=0)\n",
    "# random_state  D'un autre côté, si vous utilisez random_state=some_number, \n",
    "#vous pouvez garantir que la sortie de Run 1 sera égale à la sortie de Run 2, \n",
    "#c'est-à-dire que votre division sera toujours la même. Peu importe le nombre réel de random_state 42, 0, 21, ... \n",
    "# L'important est qu'à chaque fois que vous utilisez 42, vous obtiendrez toujours la même sortie la première fois que \n",
    "#vous effectuez le fractionnement."
   ]
  },
  {
   "cell_type": "markdown",
   "id": "59f4777a",
   "metadata": {},
   "source": [
    "2 - vérifier la dimension des partie test et train et la moyenne du y_train et y_test"
   ]
  },
  {
   "cell_type": "code",
   "execution_count": 82,
   "id": "54c48eed",
   "metadata": {},
   "outputs": [
    {
     "data": {
      "text/plain": [
       "(3987, 14)"
      ]
     },
     "execution_count": 82,
     "metadata": {},
     "output_type": "execute_result"
    }
   ],
   "source": [
    "X_train.shape"
   ]
  },
  {
   "cell_type": "markdown",
   "id": "bacdf78c",
   "metadata": {},
   "source": [
    "# IX. Mise à l'echelle des variables"
   ]
  },
  {
   "cell_type": "markdown",
   "id": "f0f003cd",
   "metadata": {},
   "source": [
    "1- Nous allons faire une standardisation du X_train et X_test"
   ]
  },
  {
   "cell_type": "code",
   "execution_count": 83,
   "id": "29db0304",
   "metadata": {},
   "outputs": [],
   "source": [
    "from sklearn.preprocessing import StandardScaler\n",
    "scaler = StandardScaler()"
   ]
  },
  {
   "cell_type": "code",
   "execution_count": 84,
   "id": "7282203f",
   "metadata": {},
   "outputs": [],
   "source": [
    "X_train_sc = scaler.fit_transform(X_train)\n",
    "X_test_sc = scaler.transform(X_test)"
   ]
  },
  {
   "cell_type": "markdown",
   "id": "09523f80",
   "metadata": {},
   "source": [
    "2 - Afficher un echantillon du X_train_sc"
   ]
  },
  {
   "cell_type": "code",
   "execution_count": 85,
   "id": "141b0529",
   "metadata": {},
   "outputs": [
    {
     "data": {
      "text/plain": [
       "array([[-0.45987593, -0.76339435,  2.35061019, -1.15453161, -0.43402253,\n",
       "        -0.39876262,  1.17425648, -0.48970996, -0.3217376 , -0.24340395,\n",
       "         0.73078831, -1.02463236, -0.3978062 , -0.37874265],\n",
       "       [ 2.17449955, -0.76339435, -0.42542145,  0.86615212, -0.43402253,\n",
       "        -0.39876262,  1.17425648,  0.87196037,  3.10812288, -0.24340395,\n",
       "         0.73078831,  0.97595981,  0.01442189,  0.52470066],\n",
       "       [-0.45987593, -0.76339435, -0.42542145, -1.15453161, -0.43402253,\n",
       "         2.50775762,  1.17425648, -1.45605665, -0.3217376 , -0.24340395,\n",
       "        -1.36838532,  0.97595981,  0.53614077, -1.38758767],\n",
       "       [-0.45987593,  1.30993895, -0.42542145,  0.86615212, -0.43402253,\n",
       "        -0.39876262,  1.17425648,  0.60841128, -0.3217376 , -0.24340395,\n",
       "         0.73078831,  0.97595981,  0.91561521, -0.06253749],\n",
       "       [-0.45987593,  1.30993895, -0.42542145, -1.15453161,  2.30402784,\n",
       "        -0.39876262, -0.85160271,  0.82803552, -0.3217376 , -0.24340395,\n",
       "         0.73078831, -1.02463236,  1.73586022, -0.52931653]])"
      ]
     },
     "execution_count": 85,
     "metadata": {},
     "output_type": "execute_result"
    }
   ],
   "source": [
    "X_train_sc[0:5,:]"
   ]
  },
  {
   "cell_type": "markdown",
   "id": "87451115",
   "metadata": {},
   "source": [
    "# X. Modélisation "
   ]
  },
  {
   "cell_type": "markdown",
   "id": "6bfa8df4",
   "metadata": {},
   "source": [
    "## X.1 -  k Nearest Neighbors"
   ]
  },
  {
   "cell_type": "code",
   "execution_count": 86,
   "id": "aecd1324",
   "metadata": {},
   "outputs": [],
   "source": [
    "from sklearn.neighbors import KNeighborsClassifier\n",
    "knn=KNeighborsClassifier(n_neighbors=3)\n",
    "knn.fit(X_train_sc,y_train)\n",
    "y_pred_knn= knn.predict(X_test_sc)"
   ]
  },
  {
   "cell_type": "markdown",
   "id": "bbcb2ef7",
   "metadata": {},
   "source": [
    "## X.2 - Evaluation du modèle KNN"
   ]
  },
  {
   "cell_type": "code",
   "execution_count": 87,
   "id": "c1f4458a",
   "metadata": {},
   "outputs": [
    {
     "name": "stdout",
     "output_type": "stream",
     "text": [
      "confusin mtreix knn \n",
      " [[934  12]\n",
      " [ 48   3]]\n",
      "Accuracy knn:  0.9398194583751254\n"
     ]
    }
   ],
   "source": [
    "from sklearn.metrics import confusion_matrix,accuracy_score\n",
    "print('confusin mtreix knn \\n', confusion_matrix(y_test,y_pred_knn))\n",
    "print('Accuracy knn: ', accuracy_score(y_test,y_pred_knn))\n"
   ]
  },
  {
   "cell_type": "code",
   "execution_count": 88,
   "id": "ee71e1f0",
   "metadata": {},
   "outputs": [
    {
     "name": "stdout",
     "output_type": "stream",
     "text": [
      "              precision    recall  f1-score   support\n",
      "\n",
      "           0       0.95      0.99      0.97       946\n",
      "           1       0.20      0.06      0.09        51\n",
      "\n",
      "    accuracy                           0.94       997\n",
      "   macro avg       0.58      0.52      0.53       997\n",
      "weighted avg       0.91      0.94      0.92       997\n",
      "\n"
     ]
    }
   ],
   "source": [
    "from sklearn.metrics import classification_report\n",
    "print(classification_report(y_test,y_pred_knn))"
   ]
  },
  {
   "cell_type": "code",
   "execution_count": 89,
   "id": "c31edf22",
   "metadata": {},
   "outputs": [
    {
     "ename": "TypeError",
     "evalue": "classification_report() missing 2 required positional arguments: 'y_true' and 'y_pred'",
     "output_type": "error",
     "traceback": [
      "\u001b[1;31m---------------------------------------------------------------------------\u001b[0m",
      "\u001b[1;31mTypeError\u001b[0m                                 Traceback (most recent call last)",
      "\u001b[1;32m<ipython-input-89-ed82afb0c50c>\u001b[0m in \u001b[0;36m<module>\u001b[1;34m\u001b[0m\n\u001b[0;32m      1\u001b[0m \u001b[1;32mfrom\u001b[0m \u001b[0msklearn\u001b[0m \u001b[1;32mimport\u001b[0m \u001b[0mmetrics\u001b[0m\u001b[1;33m\u001b[0m\u001b[1;33m\u001b[0m\u001b[0m\n\u001b[0;32m      2\u001b[0m \u001b[1;31m#recall plus petit\u001b[0m\u001b[1;33m\u001b[0m\u001b[1;33m\u001b[0m\u001b[1;33m\u001b[0m\u001b[0m\n\u001b[1;32m----> 3\u001b[1;33m \u001b[0mprint\u001b[0m\u001b[1;33m(\u001b[0m\u001b[1;34m'recall'\u001b[0m\u001b[1;33m,\u001b[0m\u001b[0mclassification_report\u001b[0m\u001b[1;33m(\u001b[0m\u001b[1;33m)\u001b[0m\u001b[1;33m)\u001b[0m\u001b[1;33m\u001b[0m\u001b[1;33m\u001b[0m\u001b[0m\n\u001b[0m",
      "\u001b[1;32mD:\\Anaconda\\lib\\site-packages\\sklearn\\utils\\validation.py\u001b[0m in \u001b[0;36minner_f\u001b[1;34m(*args, **kwargs)\u001b[0m\n\u001b[0;32m     61\u001b[0m             \u001b[0mextra_args\u001b[0m \u001b[1;33m=\u001b[0m \u001b[0mlen\u001b[0m\u001b[1;33m(\u001b[0m\u001b[0margs\u001b[0m\u001b[1;33m)\u001b[0m \u001b[1;33m-\u001b[0m \u001b[0mlen\u001b[0m\u001b[1;33m(\u001b[0m\u001b[0mall_args\u001b[0m\u001b[1;33m)\u001b[0m\u001b[1;33m\u001b[0m\u001b[1;33m\u001b[0m\u001b[0m\n\u001b[0;32m     62\u001b[0m             \u001b[1;32mif\u001b[0m \u001b[0mextra_args\u001b[0m \u001b[1;33m<=\u001b[0m \u001b[1;36m0\u001b[0m\u001b[1;33m:\u001b[0m\u001b[1;33m\u001b[0m\u001b[1;33m\u001b[0m\u001b[0m\n\u001b[1;32m---> 63\u001b[1;33m                 \u001b[1;32mreturn\u001b[0m \u001b[0mf\u001b[0m\u001b[1;33m(\u001b[0m\u001b[1;33m*\u001b[0m\u001b[0margs\u001b[0m\u001b[1;33m,\u001b[0m \u001b[1;33m**\u001b[0m\u001b[0mkwargs\u001b[0m\u001b[1;33m)\u001b[0m\u001b[1;33m\u001b[0m\u001b[1;33m\u001b[0m\u001b[0m\n\u001b[0m\u001b[0;32m     64\u001b[0m \u001b[1;33m\u001b[0m\u001b[0m\n\u001b[0;32m     65\u001b[0m             \u001b[1;31m# extra_args > 0\u001b[0m\u001b[1;33m\u001b[0m\u001b[1;33m\u001b[0m\u001b[1;33m\u001b[0m\u001b[0m\n",
      "\u001b[1;31mTypeError\u001b[0m: classification_report() missing 2 required positional arguments: 'y_true' and 'y_pred'"
     ]
    }
   ],
   "source": [
    "from sklearn import metrics\n",
    "#recall plus petit\n",
    "print('recall',classification_report())"
   ]
  },
  {
   "cell_type": "code",
   "execution_count": 90,
   "id": "4cd5b9bc",
   "metadata": {},
   "outputs": [
    {
     "name": "stdout",
     "output_type": "stream",
     "text": [
      "{'n_neighbors': 9}\n",
      "0.9510910274431372\n"
     ]
    }
   ],
   "source": [
    "from sklearn.model_selection import GridSearchCV\n",
    "parameters={'n_neighbors':[1,3,5,7,9,11,13]}\n",
    "model = KNeighborsClassifier()\n",
    "clf=GridSearchCV(model,parameters,scoring='accuracy',cv=5)\n",
    "grille = clf.fit(X_train_sc,y_train)\n",
    "#meilleure k et meilleure score c'est à dire meilleur accuracy\n",
    "print(grille.best_params_)\n",
    "print(grille.best_score_)"
   ]
  },
  {
   "cell_type": "code",
   "execution_count": 91,
   "id": "2b0fd505",
   "metadata": {},
   "outputs": [],
   "source": [
    "y_pred_knn_o=grille.predict(X_test_sc)"
   ]
  },
  {
   "cell_type": "code",
   "execution_count": 109,
   "id": "5d96fa5f",
   "metadata": {},
   "outputs": [
    {
     "name": "stdout",
     "output_type": "stream",
     "text": [
      "conf matrix knn op \n",
      " [[945   1]\n",
      " [ 51   0]]\n",
      "Accuracy knn op 0.9478435305917753\n",
      "Precision knn op 0.0\n",
      "recall knn op 0.0\n"
     ]
    }
   ],
   "source": [
    "from sklearn import metrics\n",
    "knn_op_acc=metrics.accuracy_score(y_test,y_pred_knn_o)\n",
    "knn_op_rec=metrics.recall_score(y_test,y_pred_knn_o)\n",
    "knn_op_prec=metrics.precision_score(y_test,y_pred_knn_o)\n",
    "print('conf matrix knn op \\n',confusion_matrix(y_test,y_pred_knn_o))\n",
    "print('Accuracy knn op',knn_op_acc)\n",
    "print('Precision knn op',knn_op_prec)\n",
    "print('recall knn op',knn_op_rec)"
   ]
  },
  {
   "cell_type": "markdown",
   "id": "9b1e5ab6",
   "metadata": {},
   "source": [
    "## x.4 DECISION TREE"
   ]
  },
  {
   "cell_type": "code",
   "execution_count": 115,
   "id": "acc8f767",
   "metadata": {},
   "outputs": [
    {
     "data": {
      "text/plain": [
       "DecisionTreeClassifier()"
      ]
     },
     "execution_count": 115,
     "metadata": {},
     "output_type": "execute_result"
    }
   ],
   "source": [
    "from sklearn.tree import DecisionTreeClassifier\n",
    "dt = DecisionTreeClassifier()\n",
    "dt.fit(X_train_sc,y_train)\n"
   ]
  },
  {
   "cell_type": "code",
   "execution_count": 116,
   "id": "b94abd0a",
   "metadata": {},
   "outputs": [],
   "source": [
    "y_pred_dt = dt.predict(X_test_sc)"
   ]
  },
  {
   "cell_type": "code",
   "execution_count": 117,
   "id": "bac2c7d9",
   "metadata": {},
   "outputs": [
    {
     "name": "stdout",
     "output_type": "stream",
     "text": [
      "0 0\n",
      "0 0\n",
      "0 1\n",
      "0 0\n",
      "0 0\n",
      "1 0\n",
      "0 0\n",
      "0 0\n",
      "0 1\n",
      "0 0\n"
     ]
    }
   ],
   "source": [
    "for i in range(10):\n",
    "    print(y_test[i],y_pred_dt[i])"
   ]
  },
  {
   "cell_type": "code",
   "execution_count": 118,
   "id": "2728d451",
   "metadata": {},
   "outputs": [
    {
     "name": "stdout",
     "output_type": "stream",
     "text": [
      "conf matrix dt op \n",
      " <function confusion_matrix at 0x0000021DCCFF54C0>\n",
      "Accuracy dt op 0.9127382146439318\n",
      "Precision dt op 0.14\n",
      "recall dt op 0.13725490196078433\n"
     ]
    }
   ],
   "source": [
    "dt_op_acc=metrics.accuracy_score(y_test,y_pred_dt)\n",
    "dt_op_rec=metrics.recall_score(y_test,y_pred_dt)\n",
    "dt_op_prec=metrics.precision_score(y_test,y_pred_dt)\n",
    "print('conf matrix dt op \\n',confusion_matrix)\n",
    "print('Accuracy dt op',dt_op_acc)\n",
    "print('Precision dt op',dt_op_prec)\n",
    "print('recall dt op',dt_op_rec)"
   ]
  },
  {
   "cell_type": "code",
   "execution_count": 114,
   "id": "b5a2f132",
   "metadata": {},
   "outputs": [
    {
     "name": "stdout",
     "output_type": "stream",
     "text": [
      "              precision    recall  f1-score   support\n",
      "\n",
      "           0       0.95      0.95      0.95       946\n",
      "           1       0.11      0.12      0.11        51\n",
      "\n",
      "    accuracy                           0.91       997\n",
      "   macro avg       0.53      0.53      0.53       997\n",
      "weighted avg       0.91      0.91      0.91       997\n",
      "\n"
     ]
    }
   ],
   "source": [
    "\n",
    "print(classification_report(y_test,y_pred_dt))"
   ]
  },
  {
   "cell_type": "markdown",
   "id": "462bbaa0",
   "metadata": {},
   "source": [
    "## x.5 RANDOM FOREST\n"
   ]
  },
  {
   "cell_type": "code",
   "execution_count": 119,
   "id": "9a2336fa",
   "metadata": {},
   "outputs": [
    {
     "data": {
      "text/plain": [
       "RandomForestClassifier(n_estimators=500)"
      ]
     },
     "execution_count": 119,
     "metadata": {},
     "output_type": "execute_result"
    }
   ],
   "source": [
    "from sklearn.ensemble import RandomForestClassifier\n",
    "rf = RandomForestClassifier(n_estimators=500)\n",
    "rf.fit(X_train_sc,y_train)"
   ]
  },
  {
   "cell_type": "code",
   "execution_count": 120,
   "id": "f9ee5b61",
   "metadata": {},
   "outputs": [],
   "source": [
    "y_pred_rf = rf.predict(X_test_sc)"
   ]
  },
  {
   "cell_type": "code",
   "execution_count": 122,
   "id": "0b23484c",
   "metadata": {},
   "outputs": [
    {
     "name": "stdout",
     "output_type": "stream",
     "text": [
      "conf matrix rf op \n",
      " [[945   1]\n",
      " [ 50   1]]\n",
      "Accuracy rf op 0.9488465396188566\n",
      "Precision rf op 0.5\n",
      "recall rf op 0.0196078431372549\n"
     ]
    }
   ],
   "source": [
    "rf_op_acc=metrics.accuracy_score(y_test,y_pred_rf)\n",
    "rf_op_rec=metrics.recall_score(y_test,y_pred_rf)\n",
    "rf_op_prec=metrics.precision_score(y_test,y_pred_rf)\n",
    "print('conf matrix rf op \\n',confusion_matrix(y_test,y_pred_rf))\n",
    "print('Accuracy rf op',rf_op_acc)\n",
    "print('Precision rf op',rf_op_prec)\n",
    "print('recall rf op',rf_op_rec)"
   ]
  },
  {
   "cell_type": "markdown",
   "id": "0b756776",
   "metadata": {},
   "source": [
    "## x.6- SVM"
   ]
  },
  {
   "cell_type": "code",
   "execution_count": 101,
   "id": "027625a2",
   "metadata": {},
   "outputs": [
    {
     "data": {
      "text/plain": [
       "SVC(kernel='linear')"
      ]
     },
     "execution_count": 101,
     "metadata": {},
     "output_type": "execute_result"
    }
   ],
   "source": [
    "from sklearn.svm import SVC\n",
    "linear_svm = SVC(kernel='linear')\n",
    "linear_svm.fit(X_train_sc,y_train)"
   ]
  },
  {
   "cell_type": "code",
   "execution_count": 102,
   "id": "89047746",
   "metadata": {},
   "outputs": [],
   "source": [
    "y_predictSVM = linear_svm.predict(X_test_sc)"
   ]
  },
  {
   "cell_type": "code",
   "execution_count": 103,
   "id": "d442cc86",
   "metadata": {},
   "outputs": [
    {
     "name": "stdout",
     "output_type": "stream",
     "text": [
      "conf matrix svm op \n",
      " <function confusion_matrix at 0x0000021DCCFF54C0>\n",
      "Accuracy svm op 0.9488465396188566\n",
      "Precision svm op 0.0\n",
      "recall svm op 0.0\n"
     ]
    }
   ],
   "source": [
    "svm_acc=metrics.accuracy_score(y_test,y_predictSVM)\n",
    "svm_rec=metrics.recall_score(y_test,y_predictSVM)\n",
    "svm_prec=metrics.precision_score(y_test,y_predictSVM)\n",
    "print('conf matrix svm op \\n',confusion_matrix)\n",
    "print('Accuracy svm op',svm_acc)\n",
    "print('Precision svm op',svm_prec)\n",
    "print('recall svm op',svm_rec)"
   ]
  },
  {
   "cell_type": "code",
   "execution_count": 104,
   "id": "683374bc",
   "metadata": {},
   "outputs": [
    {
     "name": "stdout",
     "output_type": "stream",
     "text": [
      "              precision    recall  f1-score   support\n",
      "\n",
      "           0       0.95      1.00      0.97       946\n",
      "           1       0.00      0.00      0.00        51\n",
      "\n",
      "    accuracy                           0.95       997\n",
      "   macro avg       0.47      0.50      0.49       997\n",
      "weighted avg       0.90      0.95      0.92       997\n",
      "\n"
     ]
    }
   ],
   "source": [
    "print(classification_report(y_test,y_predictSVM))"
   ]
  },
  {
   "cell_type": "code",
   "execution_count": 125,
   "id": "1e2716b8",
   "metadata": {},
   "outputs": [
    {
     "name": "stdout",
     "output_type": "stream",
     "text": [
      "conf matrix svm op \n",
      " [[946   0]\n",
      " [ 51   0]]\n",
      "Accuracy rbf op 0.9488465396188566\n",
      "Precision rbf op 0.0\n",
      "recall rbf op 0.0\n"
     ]
    }
   ],
   "source": [
    "\n",
    "linear_rbf = SVC(kernel='rbf')\n",
    "linear_rbf.fit(X_train_sc,y_train)\n",
    "y_predictrbf = linear_rbf.predict(X_test_sc)\n",
    "svm_acc=metrics.accuracy_score(y_test,y_predictrbf)\n",
    "svm_rec=metrics.recall_score(y_test,y_predictrbf)\n",
    "svm_prec=metrics.precision_score(y_test,y_predictrbf)\n",
    "print('conf matrix svm op \\n',confusion_matrix(y_test,y_predictrbf))\n",
    "print('Accuracy rbf op',svm_acc)\n",
    "print('Precision rbf op',svm_prec)\n",
    "print('recall rbf op',svm_rec)\n"
   ]
  },
  {
   "cell_type": "markdown",
   "id": "c7abf1b0",
   "metadata": {},
   "source": [
    "## x.7- Logistic Regression"
   ]
  },
  {
   "cell_type": "code",
   "execution_count": 105,
   "id": "f047b6a6",
   "metadata": {},
   "outputs": [
    {
     "data": {
      "text/plain": [
       "LogisticRegression()"
      ]
     },
     "execution_count": 105,
     "metadata": {},
     "output_type": "execute_result"
    }
   ],
   "source": [
    "from sklearn.linear_model import LogisticRegression\n",
    "LR = LogisticRegression()\n",
    "LR.fit(X_train_sc,y_train)"
   ]
  },
  {
   "cell_type": "code",
   "execution_count": 106,
   "id": "8b2fbb0a",
   "metadata": {},
   "outputs": [
    {
     "name": "stdout",
     "output_type": "stream",
     "text": [
      "[[946   0]\n",
      " [ 51   0]]\n"
     ]
    }
   ],
   "source": [
    "y_predictLR = LR.predict(X_test_sc)\n",
    "print(confusion_matrix(y_test,y_predictLR))"
   ]
  },
  {
   "cell_type": "code",
   "execution_count": 107,
   "id": "3c6f8152",
   "metadata": {},
   "outputs": [
    {
     "name": "stdout",
     "output_type": "stream",
     "text": [
      "Accuracy LR op 0.9488465396188566\n",
      "Precision LR op 0.0\n",
      "recall LR op 0.0\n"
     ]
    }
   ],
   "source": [
    "LR_acc=metrics.accuracy_score(y_test,y_predictLR)\n",
    "LR_rec=metrics.recall_score(y_test,y_predictLR)\n",
    "LR_prec=metrics.precision_score(y_test,y_predictLR)\n",
    "\n",
    "print('Accuracy LR op',LR_acc)\n",
    "print('Precision LR op',LR_prec)\n",
    "print('recall LR op',LR_rec)"
   ]
  },
  {
   "cell_type": "markdown",
   "id": "01994e56",
   "metadata": {},
   "source": [
    "## 8.summary\n"
   ]
  },
  {
   "cell_type": "code",
   "execution_count": 108,
   "id": "1d3f6705",
   "metadata": {},
   "outputs": [
    {
     "name": "stdout",
     "output_type": "stream",
     "text": [
      "|Algorithm      | Accuracy     | Recall   | Precision |\n",
      "|...............|..............|..........|...........|\n",
      "| Optimized knn |  0.948       |   0.948  |  0.948    |\n",
      "| Optimized RF  |  0.948       |   0.948  |  0.948    |\n",
      "| Optimized SVM |  0.949       |   0.949  |  0.949    |\n",
      "| Optimized LR  |  0.949       |   0.949  |  0.949    |\n"
     ]
    }
   ],
   "source": [
    "print('|Algorithm      | Accuracy     | Recall   | Precision |')\n",
    "print('|...............|..............|..........|...........|')\n",
    "\n",
    "print('| Optimized knn | {0: .3f}       |  {0: .3f}  | {0: .3f}    |'.format(knn_op_acc,knn_op_rec,knn_op_prec)  )\n",
    "print('| Optimized RF  | {0: .3f}       |  {0: .3f}  | {0: .3f}    |'.format(rf_op_acc,rf_op_rec,rf_op_prec)  )\n",
    "print('| Optimized SVM | {0: .3f}       |  {0: .3f}  | {0: .3f}    |'.format(svm_acc,svm_rec,svm_prec)  )\n",
    "print('| Optimized LR  | {0: .3f}       |  {0: .3f}  | {0: .3f}    |'.format(LR_acc,LR_rec,LR_prec)  )"
   ]
  }
 ],
 "metadata": {
  "kernelspec": {
   "display_name": "Python 3",
   "language": "python",
   "name": "python3"
  },
  "language_info": {
   "codemirror_mode": {
    "name": "ipython",
    "version": 3
   },
   "file_extension": ".py",
   "mimetype": "text/x-python",
   "name": "python",
   "nbconvert_exporter": "python",
   "pygments_lexer": "ipython3",
   "version": "3.8.8"
  },
  "papermill": {
   "default_parameters": {},
   "duration": 24.902566,
   "end_time": "2021-05-25T12:31:05.160928",
   "environment_variables": {},
   "exception": null,
   "input_path": "__notebook__.ipynb",
   "output_path": "__notebook__.ipynb",
   "parameters": {},
   "start_time": "2021-05-25T12:30:40.258362",
   "version": "2.3.3"
  }
 },
 "nbformat": 4,
 "nbformat_minor": 5
}
