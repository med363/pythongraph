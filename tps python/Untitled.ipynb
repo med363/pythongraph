{
 "cells": [
  {
   "cell_type": "markdown",
   "id": "b2155599",
   "metadata": {},
   "source": [
    "1.4 Exercice et Solution\n",
    "\n",
    "Créez une fonction “graphique” qui permet de tracer sur une seule et meme figure une série de\n",
    "graphiques issue d’un dictionnaire contenant plusieurs datasets "
   ]
  },
  {
   "cell_type": "code",
   "execution_count": null,
   "id": "1f977327",
   "metadata": {},
   "outputs": [],
   "source": [
    "def graphique(dataset):\n",
    "    dictionnaire = {}\n",
    "    for i in \n",
    "\n",
    "return\n",
    "# Voici le dataset utilisé\n",
    "dataset = {f\"experience{i}\": np.random.randn(100) for i in range(4)}\n",
    "dataset\n"
   ]
  }
 ],
 "metadata": {
  "kernelspec": {
   "display_name": "Python 3",
   "language": "python",
   "name": "python3"
  },
  "language_info": {
   "codemirror_mode": {
    "name": "ipython",
    "version": 3
   },
   "file_extension": ".py",
   "mimetype": "text/x-python",
   "name": "python",
   "nbconvert_exporter": "python",
   "pygments_lexer": "ipython3",
   "version": "3.8.8"
  }
 },
 "nbformat": 4,
 "nbformat_minor": 5
}
