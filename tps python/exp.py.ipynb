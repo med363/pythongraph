{
 "cells": [
  {
   "cell_type": "code",
   "execution_count": 1,
   "id": "27b655b4",
   "metadata": {},
   "outputs": [],
   "source": [
    " import numpy as np\n",
    "from sklearn.datasets import make_regression\n",
    "import matplotlib.pyplot as plt"
   ]
  },
  {
   "cell_type": "markdown",
   "id": "70921523",
   "metadata": {},
   "source": [
    "# Random.seed(n)\n",
    "\n",
    "## c'est a dire 1ere iteration aleration puis reste fixe"
   ]
  },
  {
   "cell_type": "code",
   "execution_count": 13,
   "id": "71038d5a",
   "metadata": {},
   "outputs": [
    {
     "data": {
      "text/plain": [
       "array([[42, 24,  3,  8,  0],\n",
       "       [21, 19, 10, 43, 41],\n",
       "       [10, 21, 38, 32, 20]])"
      ]
     },
     "execution_count": 13,
     "metadata": {},
     "output_type": "execute_result"
    }
   ],
   "source": [
    "np.random.seed(3)\n",
    "A = np.random.randint(0,50,(3,5))\n",
    "A\n"
   ]
  }
 ],
 "metadata": {
  "kernelspec": {
   "display_name": "Python 3",
   "language": "python",
   "name": "python3"
  },
  "language_info": {
   "codemirror_mode": {
    "name": "ipython",
    "version": 3
   },
   "file_extension": ".py",
   "mimetype": "text/x-python",
   "name": "python",
   "nbconvert_exporter": "python",
   "pygments_lexer": "ipython3",
   "version": "3.8.8"
  }
 },
 "nbformat": 4,
 "nbformat_minor": 5
}
